{
 "cells": [
  {
   "cell_type": "markdown",
   "id": "intelligent-prevention",
   "metadata": {
    "toc": true
   },
   "source": [
    "<h1>Table of Contents<span class=\"tocSkip\"></span></h1>\n",
    "<div class=\"toc\"><ul class=\"toc-item\"><li><span><a href=\"#Library-and-Data-Import\" data-toc-modified-id=\"Library-and-Data-Import-1\"><span class=\"toc-item-num\">1&nbsp;&nbsp;</span>Library and Data Import</a></span></li><li><span><a href=\"#Pre-processsing\" data-toc-modified-id=\"Pre-processsing-2\"><span class=\"toc-item-num\">2&nbsp;&nbsp;</span>Pre-processsing</a></span></li><li><span><a href=\"#Extracting-cost-data-and-merging-with-the-applications/measures-database\" data-toc-modified-id=\"Extracting-cost-data-and-merging-with-the-applications/measures-database-3\"><span class=\"toc-item-num\">3&nbsp;&nbsp;</span>Extracting cost data and merging with the applications/measures database</a></span><ul class=\"toc-item\"><li><span><a href=\"#Plotting\" data-toc-modified-id=\"Plotting-3.1\"><span class=\"toc-item-num\">3.1&nbsp;&nbsp;</span>Plotting</a></span></li></ul></li><li><span><a href=\"#Notes\" data-toc-modified-id=\"Notes-4\"><span class=\"toc-item-num\">4&nbsp;&nbsp;</span>Notes</a></span></li><li><span><a href=\"#Old-code\" data-toc-modified-id=\"Old-code-5\"><span class=\"toc-item-num\">5&nbsp;&nbsp;</span>Old code</a></span></li></ul></div>"
   ]
  },
  {
   "cell_type": "markdown",
   "id": "sustained-poverty",
   "metadata": {},
   "source": [
    "# Library and Data Import"
   ]
  },
  {
   "cell_type": "code",
   "execution_count": 655,
   "id": "velvet-foster",
   "metadata": {
    "ExecuteTime": {
     "end_time": "2021-03-29T19:02:22.957360Z",
     "start_time": "2021-03-29T19:02:22.488726Z"
    }
   },
   "outputs": [
    {
     "data": {
      "text/html": [
       "        <script type=\"text/javascript\">\n",
       "        window.PlotlyConfig = {MathJaxConfig: 'local'};\n",
       "        if (window.MathJax) {MathJax.Hub.Config({SVG: {font: \"STIX-Web\"}});}\n",
       "        if (typeof require !== 'undefined') {\n",
       "        require.undef(\"plotly\");\n",
       "        requirejs.config({\n",
       "            paths: {\n",
       "                'plotly': ['https://cdn.plot.ly/plotly-latest.min']\n",
       "            }\n",
       "        });\n",
       "        require(['plotly'], function(Plotly) {\n",
       "            window._Plotly = Plotly;\n",
       "        });\n",
       "        }\n",
       "        </script>\n",
       "        "
      ]
     },
     "metadata": {},
     "output_type": "display_data"
    },
    {
     "data": {
      "text/html": [
       "        <script type=\"text/javascript\">\n",
       "        window.PlotlyConfig = {MathJaxConfig: 'local'};\n",
       "        if (window.MathJax) {MathJax.Hub.Config({SVG: {font: \"STIX-Web\"}});}\n",
       "        if (typeof require !== 'undefined') {\n",
       "        require.undef(\"plotly\");\n",
       "        requirejs.config({\n",
       "            paths: {\n",
       "                'plotly': ['https://cdn.plot.ly/plotly-latest.min']\n",
       "            }\n",
       "        });\n",
       "        require(['plotly'], function(Plotly) {\n",
       "            window._Plotly = Plotly;\n",
       "        });\n",
       "        }\n",
       "        </script>\n",
       "        "
      ]
     },
     "metadata": {},
     "output_type": "display_data"
    }
   ],
   "source": [
    "# Importing Python libraries necessary for the analysis\n",
    "import pandas as pd\n",
    "import seaborn as sns\n",
    "import numpy as np\n",
    "import matplotlib.pylab as plt\n",
    "import ipywidgets as widgets\n",
    "from ipywidgets import interact, interact_manual\n",
    "from pandas_profiling import ProfileReport\n",
    "import cufflinks as cf\n",
    "cf.go_offline(connected=True)\n",
    "cf.set_config_file(colorscale='plotly', world_readable=True)\n",
    "# from bs4 import BeautifulSoup # Needed to read the html Wikipedia page"
   ]
  },
  {
   "cell_type": "code",
   "execution_count": 454,
   "id": "bibliographic-carpet",
   "metadata": {
    "ExecuteTime": {
     "end_time": "2021-03-25T22:27:47.828444Z",
     "start_time": "2021-03-25T22:27:47.815742Z"
    }
   },
   "outputs": [],
   "source": [
    "london_auths = ['City of London','City of Westminster','Kensington and Chelsea','Hammersmith and Fulham',\n",
    "                    'Wandsworth','Lambeth','Southwark','Tower Hamlets','Hackney','Islington','Camden',\n",
    "                    'Brent','Ealing','Hounslow','Richmond','Kingston','Merton','Sutton','Croydon','Bromley',\n",
    "                    'Lewisham','Greenwich','Bexley','Havering','Barking and Dagenham','Redbridge','Newham',\n",
    "                    'Waltham Forest','Haringey','Enfield','Barnet','Harrow','Hillingdon']"
   ]
  },
  {
   "cell_type": "code",
   "execution_count": 455,
   "id": "accepting-radar",
   "metadata": {
    "ExecuteTime": {
     "end_time": "2021-03-25T22:28:54.710514Z",
     "start_time": "2021-03-25T22:27:49.648324Z"
    }
   },
   "outputs": [],
   "source": [
    "# Reading GHG Data file as a whole\n",
    "xls_data = pd.ExcelFile('Copy of GHG Data - 10022021 - Master.xlsx', engine='openpyxl')\n",
    "\n",
    "# Reading each sheet in the excel file seperately. If names of sheets change this command won't work\n",
    "df_app = pd.read_excel(xls_data, sheet_name='Application Level')\n",
    "df_meas = pd.read_excel(xls_data, sheet_name='Measure Level')"
   ]
  },
  {
   "cell_type": "code",
   "execution_count": 456,
   "id": "global-transsexual",
   "metadata": {
    "ExecuteTime": {
     "end_time": "2021-03-25T22:28:56.602549Z",
     "start_time": "2021-03-25T22:28:56.538707Z"
    }
   },
   "outputs": [],
   "source": [
    "# Reading Cost Data file as a whole\n",
    "xls_costs = pd.ExcelFile('Copy of Cost data master copy.xlsx', engine='openpyxl')\n",
    "\n",
    "# Reading the cost parameters sheet\n",
    "df_costs = pd.read_excel(xls_costs, sheet_name='Cost Fraud Control Parameters', header=[23])"
   ]
  },
  {
   "cell_type": "markdown",
   "id": "experienced-surge",
   "metadata": {},
   "source": [
    "# Pre-processsing"
   ]
  },
  {
   "cell_type": "markdown",
   "id": "freelance-georgia",
   "metadata": {},
   "source": [
    "We need to clean the data before we start doing our analysis. This includes preparing the two datasets for merging, merging them etc."
   ]
  },
  {
   "cell_type": "code",
   "execution_count": 457,
   "id": "recovered-oliver",
   "metadata": {
    "ExecuteTime": {
     "end_time": "2021-03-25T22:28:58.813508Z",
     "start_time": "2021-03-25T22:28:58.690799Z"
    }
   },
   "outputs": [],
   "source": [
    "# Removing unnecessary columns and rows\n",
    "\n",
    "# Dropping columns with 'Unnamed' in their name. These are unnecessary columns \n",
    "df_costs = df_costs[df_costs.columns.drop(list(df_costs.filter(regex='Unnamed')))]\n",
    "\n",
    "# Dropping rows with less than 3 non-NaN values and rows that are the same as the column names\n",
    "df_costs.dropna(thresh=3, inplace=True)\n",
    "df_costs = df_costs[(df_costs != df_costs.columns).all(axis=1)]\n",
    "\n",
    "# Converting Measure column to be capitalised as with the GHG data measure column\n",
    "df_costs['Primary Measure - Insulation'] = df_costs['Primary Measure - Insulation'].str.capitalize()\n",
    "df_meas['Measure_Name'] = df_meas['Measure_Name'].str.capitalize()"
   ]
  },
  {
   "cell_type": "markdown",
   "id": "provincial-grenada",
   "metadata": {},
   "source": [
    "We merge the measures and applications sheets of the data to collect all the data in one dataframe"
   ]
  },
  {
   "cell_type": "code",
   "execution_count": 458,
   "id": "deluxe-orbit",
   "metadata": {
    "ExecuteTime": {
     "end_time": "2021-03-25T22:29:04.041974Z",
     "start_time": "2021-03-25T22:29:00.973612Z"
    }
   },
   "outputs": [],
   "source": [
    "# Merging datasets based on the same Application ID\n",
    "apps_meas = pd.merge(df_meas, df_app, on=['Application_ID'])"
   ]
  },
  {
   "cell_type": "markdown",
   "id": "hispanic-command",
   "metadata": {},
   "source": [
    "We extract the number of rooms where rooms is the unit for the measure"
   ]
  },
  {
   "cell_type": "code",
   "execution_count": 459,
   "id": "strange-authentication",
   "metadata": {
    "ExecuteTime": {
     "end_time": "2021-03-25T22:29:10.878759Z",
     "start_time": "2021-03-25T22:29:06.087413Z"
    }
   },
   "outputs": [],
   "source": [
    "# Extracting number of rooms and checking if they are above or below 4\n",
    "apps_meas['insulated_rooms'] = apps_meas.apply(lambda row:'Less than 4' if row['Quantity_Units'] == 'Number of Rooms' and int(row['Quantity_of_Measure']) < 4\n",
    "                                                 else '4 or more' if row['Quantity_Units'] == 'Number of Rooms' and int(row['Quantity_of_Measure']) >= 4\n",
    "                                                 else 'None', axis=1)"
   ]
  },
  {
   "cell_type": "code",
   "execution_count": 460,
   "id": "executive-transfer",
   "metadata": {
    "ExecuteTime": {
     "end_time": "2021-03-25T22:29:16.895690Z",
     "start_time": "2021-03-25T22:29:12.620325Z"
    }
   },
   "outputs": [],
   "source": [
    "# Setting property type to any for retrofit measures that don't distinguish between property type (in the apps/measures dataframe)\n",
    "apps_meas['Property_Type_x'] = apps_meas.apply(lambda row: 'Any' if row['Measure_Name'] not in ['External solid wall insulation','Internal solid wall insulation','Cavity wall insulation'] else row['Property_Type_x'], axis=1)\n",
    "\n",
    "# Setting property type to any for retrofit measures that don't distinguish between property type\n",
    "df_costs['Unit Type \\n(Insulation Qualifier)'].fillna('Any', inplace=True)"
   ]
  },
  {
   "cell_type": "code",
   "execution_count": 461,
   "id": "mechanical-flexibility",
   "metadata": {
    "ExecuteTime": {
     "end_time": "2021-03-25T22:29:30.688433Z",
     "start_time": "2021-03-25T22:29:18.581684Z"
    }
   },
   "outputs": [],
   "source": [
    "# Setting all remaining property types to equivalent property types in cost sheet\n",
    "apps_meas['Property_Type_x'] = apps_meas.apply(lambda row: 'Semi-Detached/Terrace/Bungalow' if row['Measure_Name']=='Cavity wall insulation' and row['Property_Type_x'] in ['Bungalow','Semi-Detached/Terrace','Terraced House','Semi-Detached House','Semi-Detached','Mid-Terrace','End-Terrace','Bungalow: Semi-Detached & End Terrace','Bungalow: Mid Terrace']\n",
    "                                               else 'Semi-Detached/Terrace' if row['Property_Type_x'] in ['Terraced House','Semi-Detached House','Semi-Detached','Mid-Terrace','End-Terrace','Bungalow: Semi-Detached & End Terrace','Bungalow: Mid Terrace']\\\n",
    "                                               else 'Detached' if row['Property_Type_x'] in ['Detached House','House: Detached','Park Home','Bungalow: Detached']\n",
    "                                               else 'Flat' if row['Property_Type_x'] in ['Flat: 3 External Walls','Flat: 2 External Walls'] \n",
    "                                               else row['Property_Type_x'], axis=1)\n",
    "\n",
    "# Setting all remaining property types to equivalent property types in cost sheet\n",
    "apps_meas['Measure_Name'] = apps_meas.apply(lambda row: 'Door' if row['Measure_Name'] in ['Energy efficient replacement doors']\\\n",
    "                                               else 'Heating controls (control)' if row['Measure_Name'] in ['Heating controls']\\\n",
    "                                               else 'Air source heat pump - average' if row['Measure_Name'] in ['Air source heat pump','Hybrid heat pumps']\\\n",
    "                                               else 'Douple glazing' if row['Measure_Name'] in ['Double/triple glazing']\\\n",
    "                                               else 'Room in roof insulation' if row['Measure_Name'] in ['Room-in-roof insulation']\\\n",
    "                                               else 'Biomass boilers' if row['Measure_Name'] in ['Biomass boiler']\\\n",
    "                                               else 'Hot water thermostat' if row['Measure_Name'] in ['Hot water tank thermostats']\\\n",
    "                                               else 'Ground source heat pumps - average' if row['Measure_Name'] in ['Ground source heat pump']\\\n",
    "                                               else 'Loft insulation (board/wool)' if row['Measure_Name'] in ['Loft insulation']\\\n",
    "                                               else row['Measure_Name'], axis=1)"
   ]
  },
  {
   "cell_type": "markdown",
   "id": "ranking-mills",
   "metadata": {},
   "source": [
    "# Extracting cost data and merging with the applications/measures database"
   ]
  },
  {
   "cell_type": "code",
   "execution_count": 495,
   "id": "bacterial-fourth",
   "metadata": {
    "ExecuteTime": {
     "end_time": "2021-03-25T22:39:29.529370Z",
     "start_time": "2021-03-25T22:39:25.109202Z"
    }
   },
   "outputs": [],
   "source": [
    "# Merging the cost and apps/measures dataframes on measure name and property type\n",
    "merged = pd.merge(apps_meas,df_costs, left_on=['Measure_Name','Property_Type_x'], right_on=['Primary Measure - Insulation','Unit Type \\n(Insulation Qualifier)'], how='left')"
   ]
  },
  {
   "cell_type": "code",
   "execution_count": 496,
   "id": "matched-office",
   "metadata": {
    "ExecuteTime": {
     "end_time": "2021-03-25T22:39:31.664946Z",
     "start_time": "2021-03-25T22:39:31.464309Z"
    }
   },
   "outputs": [
    {
     "data": {
      "text/html": [
       "<div>\n",
       "<style scoped>\n",
       "    .dataframe tbody tr th:only-of-type {\n",
       "        vertical-align: middle;\n",
       "    }\n",
       "\n",
       "    .dataframe tbody tr th {\n",
       "        vertical-align: top;\n",
       "    }\n",
       "\n",
       "    .dataframe thead th {\n",
       "        text-align: right;\n",
       "    }\n",
       "</style>\n",
       "<table border=\"1\" class=\"dataframe\">\n",
       "  <thead>\n",
       "    <tr style=\"text-align: right;\">\n",
       "      <th></th>\n",
       "      <th>Project_Number_x</th>\n",
       "      <th>Application_ID</th>\n",
       "      <th>Property_Type_x</th>\n",
       "      <th>Scheme_Type_x</th>\n",
       "      <th>Voucher_Project_Number</th>\n",
       "      <th>Measure_ID</th>\n",
       "      <th>Installer_ID</th>\n",
       "      <th>Voucher_ID</th>\n",
       "      <th>Voucher_Application_Date</th>\n",
       "      <th>Voucher_Status</th>\n",
       "      <th>...</th>\n",
       "      <th>Unit</th>\n",
       "      <th>Average Cost Per Unit</th>\n",
       "      <th>25% Below Avg Cost</th>\n",
       "      <th>25% Above Avg Cost</th>\n",
       "      <th>50% Above Avg Cost</th>\n",
       "      <th>25% Below Avg Cost.1</th>\n",
       "      <th>25% Above Avg Cost.1</th>\n",
       "      <th>50% Above Avg Cost.1</th>\n",
       "      <th>Unit Type \\n(Insulation Qualifier)</th>\n",
       "      <th># of Rooms Insulated (Insulation Qualifier)</th>\n",
       "    </tr>\n",
       "  </thead>\n",
       "  <tbody>\n",
       "    <tr>\n",
       "      <th>0</th>\n",
       "      <td>UKGHCR28914</td>\n",
       "      <td>2AD54F84</td>\n",
       "      <td>Semi-Detached/Terrace</td>\n",
       "      <td>Main</td>\n",
       "      <td>UKGVCR106917</td>\n",
       "      <td>3D70B1A5711C4A4CBF2E717C4A2748E5</td>\n",
       "      <td>6238534.0</td>\n",
       "      <td>E266WPTD</td>\n",
       "      <td>2020-11-11</td>\n",
       "      <td>Voucher Application Incomplete</td>\n",
       "      <td>...</td>\n",
       "      <td>Wall</td>\n",
       "      <td>3500</td>\n",
       "      <td>875</td>\n",
       "      <td>4375</td>\n",
       "      <td>5250</td>\n",
       "      <td>1093.75</td>\n",
       "      <td>5468.75</td>\n",
       "      <td>6562.5</td>\n",
       "      <td>Semi-Detached/Terrace</td>\n",
       "      <td>NaN</td>\n",
       "    </tr>\n",
       "    <tr>\n",
       "      <th>1</th>\n",
       "      <td>UKGHCR6572</td>\n",
       "      <td>5858FE84</td>\n",
       "      <td>Any</td>\n",
       "      <td>Main</td>\n",
       "      <td>UKGVCR53517</td>\n",
       "      <td>519D053A16094DF088EB2ABB2EB52BDD</td>\n",
       "      <td>6238710.0</td>\n",
       "      <td>huRN6qMK</td>\n",
       "      <td>2020-12-09</td>\n",
       "      <td>Voucher Issued - Work in Progress</td>\n",
       "      <td>...</td>\n",
       "      <td>m2</td>\n",
       "      <td>56</td>\n",
       "      <td>14</td>\n",
       "      <td>70</td>\n",
       "      <td>84</td>\n",
       "      <td>14</td>\n",
       "      <td>70</td>\n",
       "      <td>84</td>\n",
       "      <td>Any</td>\n",
       "      <td>NaN</td>\n",
       "    </tr>\n",
       "    <tr>\n",
       "      <th>2</th>\n",
       "      <td>UKGHCR30273</td>\n",
       "      <td>90C5D76B</td>\n",
       "      <td>Any</td>\n",
       "      <td>Low income</td>\n",
       "      <td>UKGVCR53059</td>\n",
       "      <td>D097F98D89994BDCB668B520503E524C</td>\n",
       "      <td>6238277.0</td>\n",
       "      <td>NaN</td>\n",
       "      <td>2020-12-08</td>\n",
       "      <td>Application Received</td>\n",
       "      <td>...</td>\n",
       "      <td>per door</td>\n",
       "      <td>800</td>\n",
       "      <td>200</td>\n",
       "      <td>1000</td>\n",
       "      <td>1200</td>\n",
       "      <td>250</td>\n",
       "      <td>1250</td>\n",
       "      <td>1500</td>\n",
       "      <td>Any</td>\n",
       "      <td>NaN</td>\n",
       "    </tr>\n",
       "    <tr>\n",
       "      <th>3</th>\n",
       "      <td>UKGHCR30273</td>\n",
       "      <td>90C5D76B</td>\n",
       "      <td>Any</td>\n",
       "      <td>Low income</td>\n",
       "      <td>UKGVCR53060</td>\n",
       "      <td>93EF2F1E1ACF4F1EB89E678A92A34639</td>\n",
       "      <td>6238277.0</td>\n",
       "      <td>NaN</td>\n",
       "      <td>2020-12-08</td>\n",
       "      <td>Application Received</td>\n",
       "      <td>...</td>\n",
       "      <td>m2</td>\n",
       "      <td>25</td>\n",
       "      <td>6.25</td>\n",
       "      <td>31.25</td>\n",
       "      <td>37.5</td>\n",
       "      <td>7.8125</td>\n",
       "      <td>39.0625</td>\n",
       "      <td>46.875</td>\n",
       "      <td>Any</td>\n",
       "      <td>NaN</td>\n",
       "    </tr>\n",
       "    <tr>\n",
       "      <th>4</th>\n",
       "      <td>UKGHCR42460</td>\n",
       "      <td>07441A02</td>\n",
       "      <td>Any</td>\n",
       "      <td>Low income</td>\n",
       "      <td>UKGVCR54652</td>\n",
       "      <td>1930F099B9524ABB84997ECF860F8D2D</td>\n",
       "      <td>6238253.0</td>\n",
       "      <td>NaN</td>\n",
       "      <td>2020-12-11</td>\n",
       "      <td>Pre-Installation Flaw</td>\n",
       "      <td>...</td>\n",
       "      <td>m2</td>\n",
       "      <td>80</td>\n",
       "      <td>20</td>\n",
       "      <td>100</td>\n",
       "      <td>120</td>\n",
       "      <td>20</td>\n",
       "      <td>100</td>\n",
       "      <td>120</td>\n",
       "      <td>Any</td>\n",
       "      <td>NaN</td>\n",
       "    </tr>\n",
       "    <tr>\n",
       "      <th>...</th>\n",
       "      <td>...</td>\n",
       "      <td>...</td>\n",
       "      <td>...</td>\n",
       "      <td>...</td>\n",
       "      <td>...</td>\n",
       "      <td>...</td>\n",
       "      <td>...</td>\n",
       "      <td>...</td>\n",
       "      <td>...</td>\n",
       "      <td>...</td>\n",
       "      <td>...</td>\n",
       "      <td>...</td>\n",
       "      <td>...</td>\n",
       "      <td>...</td>\n",
       "      <td>...</td>\n",
       "      <td>...</td>\n",
       "      <td>...</td>\n",
       "      <td>...</td>\n",
       "      <td>...</td>\n",
       "      <td>...</td>\n",
       "      <td>...</td>\n",
       "    </tr>\n",
       "    <tr>\n",
       "      <th>119698</th>\n",
       "      <td>UKGHCR36468</td>\n",
       "      <td>1D526701</td>\n",
       "      <td>Detached</td>\n",
       "      <td>Main</td>\n",
       "      <td>NaN</td>\n",
       "      <td>UKGHCR36468_Cavity wall insulation</td>\n",
       "      <td>NaN</td>\n",
       "      <td>NaN</td>\n",
       "      <td>NaT</td>\n",
       "      <td>Voucher Project not Created</td>\n",
       "      <td>...</td>\n",
       "      <td>Home Type</td>\n",
       "      <td>2000</td>\n",
       "      <td>500</td>\n",
       "      <td>2500</td>\n",
       "      <td>3000</td>\n",
       "      <td>625</td>\n",
       "      <td>3125</td>\n",
       "      <td>3750</td>\n",
       "      <td>Detached</td>\n",
       "      <td>NaN</td>\n",
       "    </tr>\n",
       "    <tr>\n",
       "      <th>119699</th>\n",
       "      <td>UKGHCR36468</td>\n",
       "      <td>1D526701</td>\n",
       "      <td>Any</td>\n",
       "      <td>Main</td>\n",
       "      <td>NaN</td>\n",
       "      <td>UKGHCR36468_Energy efficient replacement doors</td>\n",
       "      <td>NaN</td>\n",
       "      <td>NaN</td>\n",
       "      <td>NaT</td>\n",
       "      <td>Voucher Project not Created</td>\n",
       "      <td>...</td>\n",
       "      <td>per door</td>\n",
       "      <td>800</td>\n",
       "      <td>200</td>\n",
       "      <td>1000</td>\n",
       "      <td>1200</td>\n",
       "      <td>250</td>\n",
       "      <td>1250</td>\n",
       "      <td>1500</td>\n",
       "      <td>Any</td>\n",
       "      <td>NaN</td>\n",
       "    </tr>\n",
       "    <tr>\n",
       "      <th>119700</th>\n",
       "      <td>UKGHCR36468</td>\n",
       "      <td>1D526701</td>\n",
       "      <td>Any</td>\n",
       "      <td>Main</td>\n",
       "      <td>NaN</td>\n",
       "      <td>UKGHCR36468_Double/triple glazing</td>\n",
       "      <td>NaN</td>\n",
       "      <td>NaN</td>\n",
       "      <td>NaT</td>\n",
       "      <td>Voucher Project not Created</td>\n",
       "      <td>...</td>\n",
       "      <td>per window</td>\n",
       "      <td>800</td>\n",
       "      <td>200</td>\n",
       "      <td>1000</td>\n",
       "      <td>1200</td>\n",
       "      <td>250</td>\n",
       "      <td>1250</td>\n",
       "      <td>1500</td>\n",
       "      <td>Any</td>\n",
       "      <td>NaN</td>\n",
       "    </tr>\n",
       "    <tr>\n",
       "      <th>119701</th>\n",
       "      <td>UKGHCR36468</td>\n",
       "      <td>1D526701</td>\n",
       "      <td>Any</td>\n",
       "      <td>Main</td>\n",
       "      <td>NaN</td>\n",
       "      <td>UKGHCR36468_Flat roof insulation</td>\n",
       "      <td>NaN</td>\n",
       "      <td>NaN</td>\n",
       "      <td>NaT</td>\n",
       "      <td>Voucher Project not Created</td>\n",
       "      <td>...</td>\n",
       "      <td>m2</td>\n",
       "      <td>200</td>\n",
       "      <td>50</td>\n",
       "      <td>250</td>\n",
       "      <td>300</td>\n",
       "      <td>50</td>\n",
       "      <td>250</td>\n",
       "      <td>300</td>\n",
       "      <td>Any</td>\n",
       "      <td>NaN</td>\n",
       "    </tr>\n",
       "    <tr>\n",
       "      <th>119702</th>\n",
       "      <td>UKGHCR36468</td>\n",
       "      <td>1D526701</td>\n",
       "      <td>Any</td>\n",
       "      <td>Main</td>\n",
       "      <td>NaN</td>\n",
       "      <td>UKGHCR36468_Under-floor insulation: Solid floor</td>\n",
       "      <td>NaN</td>\n",
       "      <td>NaN</td>\n",
       "      <td>NaT</td>\n",
       "      <td>Voucher Project not Created</td>\n",
       "      <td>...</td>\n",
       "      <td>m2</td>\n",
       "      <td>80</td>\n",
       "      <td>20</td>\n",
       "      <td>100</td>\n",
       "      <td>120</td>\n",
       "      <td>25</td>\n",
       "      <td>125</td>\n",
       "      <td>150</td>\n",
       "      <td>Any</td>\n",
       "      <td>NaN</td>\n",
       "    </tr>\n",
       "  </tbody>\n",
       "</table>\n",
       "<p>119703 rows × 158 columns</p>\n",
       "</div>"
      ],
      "text/plain": [
       "       Project_Number_x Application_ID        Property_Type_x Scheme_Type_x  \\\n",
       "0           UKGHCR28914       2AD54F84  Semi-Detached/Terrace          Main   \n",
       "1            UKGHCR6572       5858FE84                    Any          Main   \n",
       "2           UKGHCR30273       90C5D76B                    Any    Low income   \n",
       "3           UKGHCR30273       90C5D76B                    Any    Low income   \n",
       "4           UKGHCR42460       07441A02                    Any    Low income   \n",
       "...                 ...            ...                    ...           ...   \n",
       "119698      UKGHCR36468       1D526701               Detached          Main   \n",
       "119699      UKGHCR36468       1D526701                    Any          Main   \n",
       "119700      UKGHCR36468       1D526701                    Any          Main   \n",
       "119701      UKGHCR36468       1D526701                    Any          Main   \n",
       "119702      UKGHCR36468       1D526701                    Any          Main   \n",
       "\n",
       "       Voucher_Project_Number  \\\n",
       "0                UKGVCR106917   \n",
       "1                 UKGVCR53517   \n",
       "2                 UKGVCR53059   \n",
       "3                 UKGVCR53060   \n",
       "4                 UKGVCR54652   \n",
       "...                       ...   \n",
       "119698                    NaN   \n",
       "119699                    NaN   \n",
       "119700                    NaN   \n",
       "119701                    NaN   \n",
       "119702                    NaN   \n",
       "\n",
       "                                             Measure_ID  Installer_ID  \\\n",
       "0                      3D70B1A5711C4A4CBF2E717C4A2748E5     6238534.0   \n",
       "1                      519D053A16094DF088EB2ABB2EB52BDD     6238710.0   \n",
       "2                      D097F98D89994BDCB668B520503E524C     6238277.0   \n",
       "3                      93EF2F1E1ACF4F1EB89E678A92A34639     6238277.0   \n",
       "4                      1930F099B9524ABB84997ECF860F8D2D     6238253.0   \n",
       "...                                                 ...           ...   \n",
       "119698               UKGHCR36468_Cavity wall insulation           NaN   \n",
       "119699   UKGHCR36468_Energy efficient replacement doors           NaN   \n",
       "119700                UKGHCR36468_Double/triple glazing           NaN   \n",
       "119701                 UKGHCR36468_Flat roof insulation           NaN   \n",
       "119702  UKGHCR36468_Under-floor insulation: Solid floor           NaN   \n",
       "\n",
       "       Voucher_ID Voucher_Application_Date                     Voucher_Status  \\\n",
       "0        E266WPTD               2020-11-11     Voucher Application Incomplete   \n",
       "1        huRN6qMK               2020-12-09  Voucher Issued - Work in Progress   \n",
       "2             NaN               2020-12-08               Application Received   \n",
       "3             NaN               2020-12-08               Application Received   \n",
       "4             NaN               2020-12-11              Pre-Installation Flaw   \n",
       "...           ...                      ...                                ...   \n",
       "119698        NaN                      NaT        Voucher Project not Created   \n",
       "119699        NaN                      NaT        Voucher Project not Created   \n",
       "119700        NaN                      NaT        Voucher Project not Created   \n",
       "119701        NaN                      NaT        Voucher Project not Created   \n",
       "119702        NaN                      NaT        Voucher Project not Created   \n",
       "\n",
       "        ...        Unit  Average Cost Per Unit 25% Below Avg Cost  \\\n",
       "0       ...        Wall                   3500                875   \n",
       "1       ...          m2                     56                 14   \n",
       "2       ...    per door                    800                200   \n",
       "3       ...          m2                     25               6.25   \n",
       "4       ...          m2                     80                 20   \n",
       "...     ...         ...                    ...                ...   \n",
       "119698  ...   Home Type                   2000                500   \n",
       "119699  ...    per door                    800                200   \n",
       "119700  ...  per window                    800                200   \n",
       "119701  ...          m2                    200                 50   \n",
       "119702  ...          m2                     80                 20   \n",
       "\n",
       "       25% Above Avg Cost 50% Above Avg Cost 25% Below Avg Cost.1  \\\n",
       "0                    4375               5250              1093.75   \n",
       "1                      70                 84                   14   \n",
       "2                    1000               1200                  250   \n",
       "3                   31.25               37.5               7.8125   \n",
       "4                     100                120                   20   \n",
       "...                   ...                ...                  ...   \n",
       "119698               2500               3000                  625   \n",
       "119699               1000               1200                  250   \n",
       "119700               1000               1200                  250   \n",
       "119701                250                300                   50   \n",
       "119702                100                120                   25   \n",
       "\n",
       "       25% Above Avg Cost.1 50% Above Avg Cost.1  \\\n",
       "0                   5468.75               6562.5   \n",
       "1                        70                   84   \n",
       "2                      1250                 1500   \n",
       "3                   39.0625               46.875   \n",
       "4                       100                  120   \n",
       "...                     ...                  ...   \n",
       "119698                 3125                 3750   \n",
       "119699                 1250                 1500   \n",
       "119700                 1250                 1500   \n",
       "119701                  250                  300   \n",
       "119702                  125                  150   \n",
       "\n",
       "       Unit Type \\n(Insulation Qualifier)  \\\n",
       "0                   Semi-Detached/Terrace   \n",
       "1                                     Any   \n",
       "2                                     Any   \n",
       "3                                     Any   \n",
       "4                                     Any   \n",
       "...                                   ...   \n",
       "119698                           Detached   \n",
       "119699                                Any   \n",
       "119700                                Any   \n",
       "119701                                Any   \n",
       "119702                                Any   \n",
       "\n",
       "       # of Rooms Insulated (Insulation Qualifier)  \n",
       "0                                              NaN  \n",
       "1                                              NaN  \n",
       "2                                              NaN  \n",
       "3                                              NaN  \n",
       "4                                              NaN  \n",
       "...                                            ...  \n",
       "119698                                         NaN  \n",
       "119699                                         NaN  \n",
       "119700                                         NaN  \n",
       "119701                                         NaN  \n",
       "119702                                         NaN  \n",
       "\n",
       "[119703 rows x 158 columns]"
      ]
     },
     "execution_count": 496,
     "metadata": {},
     "output_type": "execute_result"
    }
   ],
   "source": [
    "merged"
   ]
  },
  {
   "cell_type": "code",
   "execution_count": 497,
   "id": "extraordinary-abraham",
   "metadata": {
    "ExecuteTime": {
     "end_time": "2021-03-25T22:39:50.237737Z",
     "start_time": "2021-03-25T22:39:33.621022Z"
    }
   },
   "outputs": [],
   "source": [
    "# Picking the cost thresholds according to whether the Local authority is a London authority\n",
    "merged['25%'] = merged.apply(lambda row: row['25% Below Avg Cost.1'] if row['Local_Authority'] in london_auths\\\n",
    "                                               else row['25% Below Avg Cost'], axis=1)\n",
    "\n",
    "merged['125%'] = merged.apply(lambda row: row['25% Above Avg Cost.1'] if row['Local_Authority'] in london_auths\\\n",
    "                                               else row['25% Above Avg Cost'], axis=1)\n",
    "\n",
    "merged['150%'] = merged.apply(lambda row: row['50% Above Avg Cost.1'] if row['Local_Authority'] in london_auths\\\n",
    "                                               else row['50% Above Avg Cost'], axis=1)"
   ]
  },
  {
   "cell_type": "code",
   "execution_count": 498,
   "id": "revolutionary-processing",
   "metadata": {
    "ExecuteTime": {
     "end_time": "2021-03-25T22:39:58.965976Z",
     "start_time": "2021-03-25T22:39:52.641596Z"
    }
   },
   "outputs": [],
   "source": [
    "# Converting quantity of measure and quote amount columns to numerical to be able to calculate later on\n",
    "cols = ['Quantity_of_Measure','Quote_Amount']\n",
    "merged[cols] = merged[cols].apply(pd.to_numeric, errors='coerce')\n",
    "\n",
    "# Calculating 25% and 125% of absolute cost \n",
    "merged.loc[:,'25%_cost'] = merged.loc[:,'Quantity_of_Measure']*merged.loc[:,'25%']\n",
    "merged.loc[:,'125%_cost'] = merged.loc[:,'Quantity_of_Measure']*merged.loc[:,'125%']\n",
    "\n",
    "# Defining status function to assess whether cost of measure is too high or low \n",
    "def status(row):\n",
    "    if row['Quote_Amount'] < row['25%_cost']:\n",
    "        val = 'Low'\n",
    "    elif row['Quote_Amount'] > row['125%_cost']:\n",
    "        val = 'High'\n",
    "    else:\n",
    "        val = 'Acceptable'\n",
    "    return val\n",
    "\n",
    "# Extractinng status\n",
    "merged['Status'] = merged.apply(status, axis=1)"
   ]
  },
  {
   "cell_type": "markdown",
   "id": "unauthorized-money",
   "metadata": {
    "ExecuteTime": {
     "end_time": "2021-03-25T22:40:03.641385Z",
     "start_time": "2021-03-25T22:40:00.719464Z"
    }
   },
   "source": [
    "## Plotting"
   ]
  },
  {
   "cell_type": "markdown",
   "id": "inside-wings",
   "metadata": {},
   "source": [
    "Here we plot the top 10 installers by percentage of high or low quotes. Installers with less than 50 measures are excluded:"
   ]
  },
  {
   "cell_type": "code",
   "execution_count": 756,
   "id": "retired-converter",
   "metadata": {
    "ExecuteTime": {
     "end_time": "2021-03-29T22:00:11.012750Z",
     "start_time": "2021-03-29T22:00:08.117154Z"
    },
    "scrolled": false
   },
   "outputs": [
    {
     "data": {
      "application/vnd.jupyter.widget-view+json": {
       "model_id": "5503bea0e6464934a0bdb7cfb523a194",
       "version_major": 2,
       "version_minor": 0
      },
      "text/plain": [
       "interactive(children=(Dropdown(description='Group_by', options=('Installer_Company_Name', 'Measure_Name'), val…"
      ]
     },
     "metadata": {},
     "output_type": "display_data"
    }
   ],
   "source": [
    "sns.set_style('darkgrid')\n",
    "@interact\n",
    "def plot(Group_by = ['Installer_Company_Name','Measure_Name'], Cutoff=(1, 1000, 1),Sort_by=['Total',('Status','Acceptable'),('Status','High'),('Status','Low')], \n",
    "                            Top=(1, 50, 1), ):\n",
    "    frame = pd.DataFrame(merged.groupby([Group_by])['Status'].value_counts(normalize=True)*100)\n",
    "    frame = frame.unstack().sort_values([('Status', 'High')],ascending=False)\n",
    "    frame['Total'] = merged.groupby([Group_by])['Status'].value_counts().unstack().sum(axis=1)\n",
    "    \n",
    "    frame = frame[frame['Total']>Cutoff].sort_values([Sort_by], ascending=False)[:Top]\n",
    "    fig, ax = plt.subplots()\n",
    "    frame.sort_values([Sort_by],)['Status'].plot.barh(figsize=(8,12), width=0.8, color=['g', 'r', '#FFA500'], ax=ax)\n",
    "    ax.set_xlabel('Share of quote status (%)',fontsize=16)\n",
    "    ax.set_ylabel('Installer',fontsize=16)\n",
    "    for p in ax.patches:\n",
    "        ax.annotate(str(p.get_width())[:4]+'%', (p.get_width()+2,p.get_y() * 1.01), fontsize=14)\n",
    "        \n",
    "    if Group_by == 'Measure_Name':\n",
    "        groupby = 'measures'\n",
    "        ax.set_ylabel('Measures',fontsize=16)\n",
    "    else:\n",
    "        groupby = 'installers'\n",
    "        ax.set_ylabel('Installer',fontsize=16)\n",
    "        \n",
    "    if Sort_by == 'Total':\n",
    "        ax.set_title(f'Top {Top} {groupby} by share of {Sort_by} status (Cutoff = {Cutoff})',fontsize=18)\n",
    "    else:\n",
    "        ax.set_title(f'Top {Top} {groupby} by share of {Sort_by[1]} status (Cutoff = {Cutoff})',fontsize=18)\n",
    "    return frame.round(2)"
   ]
  },
  {
   "cell_type": "markdown",
   "id": "toxic-librarian",
   "metadata": {},
   "source": [
    "Plotting by volume of quotes:"
   ]
  },
  {
   "cell_type": "code",
   "execution_count": 763,
   "id": "blocked-mumbai",
   "metadata": {
    "ExecuteTime": {
     "end_time": "2021-03-30T22:03:23.540456Z",
     "start_time": "2021-03-30T22:03:20.515999Z"
    }
   },
   "outputs": [
    {
     "data": {
      "application/vnd.jupyter.widget-view+json": {
       "model_id": "b0bcfe04d8ee429d833e255ee0d46658",
       "version_major": 2,
       "version_minor": 0
      },
      "text/plain": [
       "interactive(children=(Dropdown(description='Group_by', options=('Installer_Company_Name', 'Measure_Name'), val…"
      ]
     },
     "metadata": {},
     "output_type": "display_data"
    }
   ],
   "source": [
    "sns.set_style('darkgrid')\n",
    "@interact\n",
    "def plot(Group_by = ['Installer_Company_Name','Measure_Name'], Cutoff=(1, 1000, 1),Sort_by=['Total',('Status','Acceptable'),('Status','High'),('Status','Low')], \n",
    "                            Top=(1, 50, 1), ):\n",
    "    frame = pd.DataFrame(merged.groupby([Group_by])['Status'].value_counts())\n",
    "    frame = frame.unstack().sort_values([('Status', 'High')],ascending=False)\n",
    "    frame['Total'] = merged.groupby([Group_by])['Status'].value_counts().unstack().sum(axis=1)\n",
    "    \n",
    "    frame = frame[frame['Total']>Cutoff].sort_values([Sort_by], ascending=False)[:Top]\n",
    "    fig, ax = plt.subplots()\n",
    "    frame.sort_values([Sort_by],)['Status'].plot.barh(figsize=(8,12), width=0.8, color=['g', 'r', '#FFA500'], ax=ax)\n",
    "    ax.set_xlabel('Share of quote status (%)',fontsize=16)\n",
    "    ax.set_ylabel('Installer',fontsize=16)\n",
    "    for p in ax.patches:\n",
    "        ax.annotate(str(int(p.get_width())), (p.get_width()+2,p.get_y() * 1.01), fontsize=14)\n",
    "        \n",
    "    if Group_by == 'Measure_Name':\n",
    "        groupby = 'measures'\n",
    "        ax.set_ylabel('Measures',fontsize=16)\n",
    "    else:\n",
    "        groupby = 'installers'\n",
    "        ax.set_ylabel('Installer',fontsize=16)\n",
    "        \n",
    "    if Sort_by == 'Total':\n",
    "        ax.set_title(f'Top {Top} {groupby} by volume of {Sort_by} status quotes (Cutoff = {Cutoff})',fontsize=18)\n",
    "    else:\n",
    "        ax.set_title(f'Top {Top} {groupby} by volume of {Sort_by[1]} status quotes (Cutoff = {Cutoff})',fontsize=18)\n",
    "    return frame.round(2)"
   ]
  },
  {
   "cell_type": "markdown",
   "id": "corresponding-guide",
   "metadata": {},
   "source": [
    "# Notes\n",
    "1. Loft insulation has 2 types in the cost sheet but there's no information in the applications/measures sheet to distinguish between board and spray loft insulation measures. Currently applying all to board/wool.\n",
    "2. Park homes in measures and applications but not in costs. Categorised as detached.\n",
    "3. Extra semi-detached/terraced/bungalow unit type in costs sheet for cavity wall insulation measures\n",
    "4. No way to distinguish between double and triple glazing measures in apps/measures sheet. Categorising all as double glazing.\n",
    "5. No hybrid heat pumps in cost sheet. Currently assigning to air-source heat pump."
   ]
  },
  {
   "cell_type": "markdown",
   "id": "responsible-consensus",
   "metadata": {},
   "source": [
    "# Old code\n",
    "Old function finding the costs for each measure and application. Took 5-6 minutes for 115000 rows. Too long."
   ]
  },
  {
   "cell_type": "code",
   "execution_count": null,
   "id": "amino-trustee",
   "metadata": {},
   "outputs": [],
   "source": [
    "# def find_costs(row):\n",
    "    \n",
    "#     '''Function for identifying correct cost parameters depending on local authority, property type, measure\n",
    "#     and other parameters.\n",
    "#     '''\n",
    "    \n",
    "#     map_df = df_costs\n",
    "    \n",
    "#     london_auths = ['City of London','City of Westminster','Kensington and Chelsea','Hammersmith and Fulham',\n",
    "#                     'Wandsworth','Lambeth','Southwark','Tower Hamlets','Hackney','Islington','Camden',\n",
    "#                     'Brent','Ealing','Hounslow','Richmond','Kingston','Merton','Sutton','Croydon','Bromley',\n",
    "#                     'Lewisham','Greenwich','Bexley','Havering','Barking and Dagenham','Redbridge','Newham',\n",
    "#                     'Waltham Forest','Haringey','Enfield','Barnet','Harrow','Hillingdon']\n",
    "    \n",
    "#     qualified_measures = ['External solid wall insulation',\n",
    "#                           'Internal solid wall insulation',\n",
    "#                           'Cavity wall insulation']\n",
    "    \n",
    "#     if row['Local_Authority'].isin(london_auths).any():\n",
    "#         # If local authority belongs to London authorities, filter for London costs\n",
    "#         map_df = map_df[map_df.columns[~map_df.columns.str.endswith('Cost')]]\n",
    "        \n",
    "#     else:\n",
    "#         # If local authority doesn't belong to London authorities, filter for normal costs\n",
    "#         map_df = map_df[map_df.columns.drop(list(map_df.filter(regex='Cost.1')))]\n",
    "        \n",
    "#     # If the measure is one of the ones where the cost depends on the property type then match the cost to the right property type\n",
    "#     if row['Measure_Name'].isin(qualified_measures).any():\n",
    "#         if  row['Property_Type_x'].values[0] == 'Semi-Detached/Terrace' and row['Measure_Name'].values[0] == 'Internal solid wall insulation':\n",
    "#             costs = map_df[(map_df['Primary Measure - Insulation'] == row['Measure_Name'].values[0]) & \n",
    "#                            (map_df['Unit Type \\n(Insulation Qualifier)'] == row['Property_Type_x'].values[0]) &\n",
    "#                           (map_df['# of Rooms Insulated (Insulation Qualifier)'] == row['insulated_rooms'].values[0])]\n",
    "        \n",
    "#         else:\n",
    "#             costs = map_df[(map_df['Primary Measure - Insulation'] == row['Measure_Name'].values[0]) & \n",
    "#                                (map_df['Unit Type \\n(Insulation Qualifier)'] == row['Property_Type_x'].values[0])]\n",
    "#     else:\n",
    "#         costs = map_df[map_df['Primary Measure - Insulation'] == row['Measure_Name'].values[0]]\n",
    "      \n",
    "#     return costs"
   ]
  },
  {
   "cell_type": "code",
   "execution_count": null,
   "id": "outside-hypothesis",
   "metadata": {},
   "outputs": [],
   "source": []
  }
 ],
 "metadata": {
  "kernelspec": {
   "display_name": "Python 3",
   "language": "python",
   "name": "python3"
  },
  "language_info": {
   "codemirror_mode": {
    "name": "ipython",
    "version": 3
   },
   "file_extension": ".py",
   "mimetype": "text/x-python",
   "name": "python",
   "nbconvert_exporter": "python",
   "pygments_lexer": "ipython3",
   "version": "3.8.8"
  },
  "toc": {
   "base_numbering": 1,
   "nav_menu": {},
   "number_sections": true,
   "sideBar": true,
   "skip_h1_title": false,
   "title_cell": "Table of Contents",
   "title_sidebar": "Contents",
   "toc_cell": true,
   "toc_position": {
    "height": "calc(100% - 180px)",
    "left": "10px",
    "top": "150px",
    "width": "166.314px"
   },
   "toc_section_display": true,
   "toc_window_display": true
  },
  "varInspector": {
   "cols": {
    "lenName": 16,
    "lenType": 16,
    "lenVar": 40
   },
   "kernels_config": {
    "python": {
     "delete_cmd_postfix": "",
     "delete_cmd_prefix": "del ",
     "library": "var_list.py",
     "varRefreshCmd": "print(var_dic_list())"
    },
    "r": {
     "delete_cmd_postfix": ") ",
     "delete_cmd_prefix": "rm(",
     "library": "var_list.r",
     "varRefreshCmd": "cat(var_dic_list()) "
    }
   },
   "types_to_exclude": [
    "module",
    "function",
    "builtin_function_or_method",
    "instance",
    "_Feature"
   ],
   "window_display": false
  }
 },
 "nbformat": 4,
 "nbformat_minor": 5
}
