{
 "cells": [
  {
   "cell_type": "markdown",
   "id": "intelligent-prevention",
   "metadata": {
    "toc": true
   },
   "source": [
    "<h1>Table of Contents<span class=\"tocSkip\"></span></h1>\n",
    "<div class=\"toc\"><ul class=\"toc-item\"><li><span><a href=\"#Library-and-Data-Import\" data-toc-modified-id=\"Library-and-Data-Import-1\"><span class=\"toc-item-num\">1&nbsp;&nbsp;</span>Library and Data Import</a></span></li><li><span><a href=\"#Pre-processsing\" data-toc-modified-id=\"Pre-processsing-2\"><span class=\"toc-item-num\">2&nbsp;&nbsp;</span>Pre-processsing</a></span></li><li><span><a href=\"#Extracting-cost-data-and-merging-with-the-applications/measures-database\" data-toc-modified-id=\"Extracting-cost-data-and-merging-with-the-applications/measures-database-3\"><span class=\"toc-item-num\">3&nbsp;&nbsp;</span>Extracting cost data and merging with the applications/measures database</a></span></li><li><span><a href=\"#Plotting\" data-toc-modified-id=\"Plotting-4\"><span class=\"toc-item-num\">4&nbsp;&nbsp;</span>Plotting</a></span></li><li><span><a href=\"#Notes\" data-toc-modified-id=\"Notes-5\"><span class=\"toc-item-num\">5&nbsp;&nbsp;</span>Notes</a></span></li></ul></div>"
   ]
  },
  {
   "cell_type": "markdown",
   "metadata": {
    "ExecuteTime": {
     "end_time": "2021-04-01T16:03:32.998937Z",
     "start_time": "2021-04-01T16:03:32.985013Z"
    }
   },
   "source": [
    "Please proceed to the 'Plotting' section to find the interactive graphs by clicking on Plotting above."
   ]
  },
  {
   "cell_type": "markdown",
   "id": "sustained-poverty",
   "metadata": {},
   "source": [
    "# Library and Data Import"
   ]
  },
  {
   "cell_type": "code",
   "execution_count": 1,
   "id": "velvet-foster",
   "metadata": {
    "ExecuteTime": {
     "end_time": "2021-03-31T20:33:35.876832Z",
     "start_time": "2021-03-31T20:33:21.975539Z"
    }
   },
   "outputs": [
    {
     "data": {
      "text/html": [
       "        <script type=\"text/javascript\">\n",
       "        window.PlotlyConfig = {MathJaxConfig: 'local'};\n",
       "        if (window.MathJax) {MathJax.Hub.Config({SVG: {font: \"STIX-Web\"}});}\n",
       "        if (typeof require !== 'undefined') {\n",
       "        require.undef(\"plotly\");\n",
       "        requirejs.config({\n",
       "            paths: {\n",
       "                'plotly': ['https://cdn.plot.ly/plotly-latest.min']\n",
       "            }\n",
       "        });\n",
       "        require(['plotly'], function(Plotly) {\n",
       "            window._Plotly = Plotly;\n",
       "        });\n",
       "        }\n",
       "        </script>\n",
       "        "
      ]
     },
     "metadata": {},
     "output_type": "display_data"
    },
    {
     "data": {
      "text/html": [
       "        <script type=\"text/javascript\">\n",
       "        window.PlotlyConfig = {MathJaxConfig: 'local'};\n",
       "        if (window.MathJax) {MathJax.Hub.Config({SVG: {font: \"STIX-Web\"}});}\n",
       "        if (typeof require !== 'undefined') {\n",
       "        require.undef(\"plotly\");\n",
       "        requirejs.config({\n",
       "            paths: {\n",
       "                'plotly': ['https://cdn.plot.ly/plotly-latest.min']\n",
       "            }\n",
       "        });\n",
       "        require(['plotly'], function(Plotly) {\n",
       "            window._Plotly = Plotly;\n",
       "        });\n",
       "        }\n",
       "        </script>\n",
       "        "
      ]
     },
     "metadata": {},
     "output_type": "display_data"
    }
   ],
   "source": [
    "# Importing Python libraries necessary for the analysis\n",
    "import pandas as pd\n",
    "import seaborn as sns\n",
    "import numpy as np\n",
    "import matplotlib.pylab as plt\n",
    "import ipywidgets as widgets\n",
    "from ipywidgets import interact, interact_manual\n",
    "import cufflinks as cf\n",
    "cf.go_offline(connected=True)\n",
    "cf.set_config_file(colorscale='plotly', world_readable=True)\n",
    "# from bs4 import BeautifulSoup # Needed to read the html Wikipedia page"
   ]
  },
  {
   "cell_type": "code",
   "execution_count": 3,
   "id": "bibliographic-carpet",
   "metadata": {
    "ExecuteTime": {
     "end_time": "2021-03-31T20:33:38.580995Z",
     "start_time": "2021-03-31T20:33:38.570034Z"
    }
   },
   "outputs": [],
   "source": [
    "london_auths = ['City of London','City of Westminster','Kensington and Chelsea','Hammersmith and Fulham',\n",
    "                    'Wandsworth','Lambeth','Southwark','Tower Hamlets','Hackney','Islington','Camden',\n",
    "                    'Brent','Ealing','Hounslow','Richmond','Kingston','Merton','Sutton','Croydon','Bromley',\n",
    "                    'Lewisham','Greenwich','Bexley','Havering','Barking and Dagenham','Redbridge','Newham',\n",
    "                    'Waltham Forest','Haringey','Enfield','Barnet','Harrow','Hillingdon']"
   ]
  },
  {
   "cell_type": "code",
   "execution_count": 4,
   "id": "accepting-radar",
   "metadata": {
    "ExecuteTime": {
     "end_time": "2021-03-31T20:35:15.361040Z",
     "start_time": "2021-03-31T20:33:38.584986Z"
    }
   },
   "outputs": [],
   "source": [
    "# Reading GHG Data file as a whole\n",
    "xls_data = pd.ExcelFile('Copy of GHG Data - 10022021 - Master.xlsx', engine='openpyxl')\n",
    "\n",
    "# Reading each sheet in the excel file seperately. If names of sheets change this command won't work\n",
    "df_app = pd.read_excel(xls_data, sheet_name='Application Level')\n",
    "df_meas = pd.read_excel(xls_data, sheet_name='Measure Level')"
   ]
  },
  {
   "cell_type": "code",
   "execution_count": 5,
   "id": "global-transsexual",
   "metadata": {
    "ExecuteTime": {
     "end_time": "2021-03-31T20:35:15.594930Z",
     "start_time": "2021-03-31T20:35:15.365034Z"
    }
   },
   "outputs": [],
   "source": [
    "# Reading Cost Data file as a whole\n",
    "xls_costs = pd.ExcelFile('Copy of Cost data master copy.xlsx', engine='openpyxl')\n",
    "\n",
    "# Reading the cost parameters sheet\n",
    "df_costs = pd.read_excel(xls_costs, sheet_name='Cost Fraud Control Parameters', header=[23])"
   ]
  },
  {
   "cell_type": "markdown",
   "id": "experienced-surge",
   "metadata": {},
   "source": [
    "# Pre-processsing"
   ]
  },
  {
   "cell_type": "markdown",
   "id": "freelance-georgia",
   "metadata": {},
   "source": [
    "We need to clean the data before we start doing our analysis. This includes preparing the two datasets for merging, merging them etc."
   ]
  },
  {
   "cell_type": "code",
   "execution_count": 6,
   "id": "recovered-oliver",
   "metadata": {
    "ExecuteTime": {
     "end_time": "2021-03-31T20:35:15.733563Z",
     "start_time": "2021-03-31T20:35:15.599922Z"
    }
   },
   "outputs": [],
   "source": [
    "# Removing unnecessary columns and rows\n",
    "\n",
    "# Dropping columns with 'Unnamed' in their name. These are unnecessary columns \n",
    "df_costs = df_costs[df_costs.columns.drop(list(df_costs.filter(regex='Unnamed')))]\n",
    "\n",
    "# Dropping rows with less than 3 non-NaN values and rows that are the same as the column names\n",
    "df_costs.dropna(thresh=3, inplace=True)\n",
    "df_costs = df_costs[(df_costs != df_costs.columns).all(axis=1)]\n",
    "\n",
    "# Converting Measure column to be capitalised as with the GHG data measure column\n",
    "df_costs['Primary Measure - Insulation'] = df_costs['Primary Measure - Insulation'].str.capitalize()\n",
    "df_meas['Measure_Name'] = df_meas['Measure_Name'].str.capitalize()"
   ]
  },
  {
   "cell_type": "markdown",
   "id": "provincial-grenada",
   "metadata": {},
   "source": [
    "We merge the measures and applications sheets of the data to collect all the data in one dataframe"
   ]
  },
  {
   "cell_type": "code",
   "execution_count": 7,
   "id": "deluxe-orbit",
   "metadata": {
    "ExecuteTime": {
     "end_time": "2021-03-31T20:35:19.890028Z",
     "start_time": "2021-03-31T20:35:15.736562Z"
    }
   },
   "outputs": [],
   "source": [
    "# Merging datasets based on the same Application ID\n",
    "apps_meas = pd.merge(df_meas, df_app, on=['Application_ID'])"
   ]
  },
  {
   "cell_type": "markdown",
   "id": "hispanic-command",
   "metadata": {},
   "source": [
    "We extract the number of rooms where rooms is the unit for the measure"
   ]
  },
  {
   "cell_type": "code",
   "execution_count": 8,
   "id": "strange-authentication",
   "metadata": {
    "ExecuteTime": {
     "end_time": "2021-03-31T20:35:29.643854Z",
     "start_time": "2021-03-31T20:35:19.895011Z"
    }
   },
   "outputs": [],
   "source": [
    "# Extracting number of rooms and checking if they are above or below 4\n",
    "apps_meas['insulated_rooms'] = apps_meas.apply(lambda row:'Less than 4' if row['Quantity_Units'] == 'Number of Rooms' and int(row['Quantity_of_Measure']) < 4\n",
    "                                                 else '4 or more' if row['Quantity_Units'] == 'Number of Rooms' and int(row['Quantity_of_Measure']) >= 4\n",
    "                                                 else 'None', axis=1)"
   ]
  },
  {
   "cell_type": "code",
   "execution_count": 9,
   "id": "executive-transfer",
   "metadata": {
    "ExecuteTime": {
     "end_time": "2021-03-31T20:35:38.171183Z",
     "start_time": "2021-03-31T20:35:29.647811Z"
    }
   },
   "outputs": [],
   "source": [
    "# Setting property type to any for retrofit measures that don't distinguish between property type (in the apps/measures dataframe)\n",
    "apps_meas['Property_Type_x'] = apps_meas.apply(lambda row: 'Any' if row['Measure_Name'] not in ['External solid wall insulation','Internal solid wall insulation','Cavity wall insulation'] else row['Property_Type_x'], axis=1)\n",
    "\n",
    "# Setting property type to any for retrofit measures that don't distinguish between property type\n",
    "df_costs['Unit Type \\n(Insulation Qualifier)'].fillna('Any', inplace=True)"
   ]
  },
  {
   "cell_type": "code",
   "execution_count": 10,
   "id": "mechanical-flexibility",
   "metadata": {
    "ExecuteTime": {
     "end_time": "2021-03-31T20:36:00.143999Z",
     "start_time": "2021-03-31T20:35:38.175170Z"
    }
   },
   "outputs": [],
   "source": [
    "# Setting all remaining property types to equivalent property types in cost sheet\n",
    "apps_meas['Property_Type_x'] = apps_meas.apply(lambda row: 'Semi-Detached/Terrace/Bungalow' if row['Measure_Name']=='Cavity wall insulation' and row['Property_Type_x'] in ['Bungalow','Semi-Detached/Terrace','Terraced House','Semi-Detached House','Semi-Detached','Mid-Terrace','End-Terrace','Bungalow: Semi-Detached & End Terrace','Bungalow: Mid Terrace']\n",
    "                                               else 'Semi-Detached/Terrace' if row['Property_Type_x'] in ['Terraced House','Semi-Detached House','Semi-Detached','Mid-Terrace','End-Terrace','Bungalow: Semi-Detached & End Terrace','Bungalow: Mid Terrace']\\\n",
    "                                               else 'Detached' if row['Property_Type_x'] in ['Detached House','House: Detached','Park Home','Bungalow: Detached']\n",
    "                                               else 'Flat' if row['Property_Type_x'] in ['Flat: 3 External Walls','Flat: 2 External Walls'] \n",
    "                                               else row['Property_Type_x'], axis=1)\n",
    "\n",
    "# Setting all remaining property types to equivalent property types in cost sheet\n",
    "apps_meas['Measure_Name'] = apps_meas.apply(lambda row: 'Door' if row['Measure_Name'] in ['Energy efficient replacement doors']\\\n",
    "                                               else 'Heating controls (control)' if row['Measure_Name'] in ['Heating controls']\\\n",
    "                                               else 'Air source heat pump - average' if row['Measure_Name'] in ['Air source heat pump','Hybrid heat pumps']\\\n",
    "                                               else 'Douple glazing' if row['Measure_Name'] in ['Double/triple glazing']\\\n",
    "                                               else 'Room in roof insulation' if row['Measure_Name'] in ['Room-in-roof insulation']\\\n",
    "                                               else 'Biomass boilers' if row['Measure_Name'] in ['Biomass boiler']\\\n",
    "                                               else 'Hot water thermostat' if row['Measure_Name'] in ['Hot water tank thermostats']\\\n",
    "                                               else 'Ground source heat pumps - average' if row['Measure_Name'] in ['Ground source heat pump']\\\n",
    "                                               else 'Loft insulation (board/wool)' if row['Measure_Name'] in ['Loft insulation']\\\n",
    "                                               else row['Measure_Name'], axis=1)"
   ]
  },
  {
   "cell_type": "markdown",
   "id": "ranking-mills",
   "metadata": {},
   "source": [
    "# Extracting cost data and merging with the applications/measures database"
   ]
  },
  {
   "cell_type": "code",
   "execution_count": 11,
   "id": "bacterial-fourth",
   "metadata": {
    "ExecuteTime": {
     "end_time": "2021-03-31T20:36:06.282596Z",
     "start_time": "2021-03-31T20:36:00.148939Z"
    }
   },
   "outputs": [],
   "source": [
    "# Merging the cost and apps/measures dataframes on measure name and property type\n",
    "merged = pd.merge(apps_meas,df_costs, left_on=['Measure_Name','Property_Type_x'], right_on=['Primary Measure - Insulation','Unit Type \\n(Insulation Qualifier)'], how='left')"
   ]
  },
  {
   "cell_type": "code",
   "execution_count": 13,
   "id": "extraordinary-abraham",
   "metadata": {
    "ExecuteTime": {
     "end_time": "2021-03-31T20:36:31.378260Z",
     "start_time": "2021-03-31T20:36:06.566061Z"
    }
   },
   "outputs": [],
   "source": [
    "# Picking the cost thresholds according to whether the Local authority is a London authority\n",
    "merged['25%'] = merged.apply(lambda row: row['25% Below Avg Cost.1'] if row['Local_Authority'] in london_auths\\\n",
    "                                               else row['25% Below Avg Cost'], axis=1)\n",
    "\n",
    "merged['125%'] = merged.apply(lambda row: row['25% Above Avg Cost.1'] if row['Local_Authority'] in london_auths\\\n",
    "                                               else row['25% Above Avg Cost'], axis=1)\n",
    "\n",
    "merged['150%'] = merged.apply(lambda row: row['50% Above Avg Cost.1'] if row['Local_Authority'] in london_auths\\\n",
    "                                               else row['50% Above Avg Cost'], axis=1)"
   ]
  },
  {
   "cell_type": "code",
   "execution_count": 14,
   "id": "revolutionary-processing",
   "metadata": {
    "ExecuteTime": {
     "end_time": "2021-03-31T20:36:39.721044Z",
     "start_time": "2021-03-31T20:36:31.381271Z"
    }
   },
   "outputs": [],
   "source": [
    "# Converting quantity of measure and quote amount columns to numerical to be able to calculate later on\n",
    "cols = ['Quantity_of_Measure','Quote_Amount']\n",
    "merged[cols] = merged[cols].apply(pd.to_numeric, errors='coerce')\n",
    "\n",
    "# Calculating 25% and 125% of absolute cost \n",
    "merged.loc[:,'25%_cost'] = merged.loc[:,'Quantity_of_Measure']*merged.loc[:,'25%']\n",
    "merged.loc[:,'125%_cost'] = merged.loc[:,'Quantity_of_Measure']*merged.loc[:,'125%']\n",
    "\n",
    "# Defining status function to assess whether cost of measure is too high or low \n",
    "def status(row):\n",
    "    if row['Quote_Amount'] < row['25%_cost']:\n",
    "        val = 'Low'\n",
    "    elif row['Quote_Amount'] > row['125%_cost']:\n",
    "        val = 'High'\n",
    "    else:\n",
    "        val = 'Acceptable'\n",
    "    return val\n",
    "\n",
    "# Extractinng status\n",
    "merged['Status'] = merged.apply(status, axis=1)"
   ]
  },
  {
   "cell_type": "markdown",
   "id": "infrared-release",
   "metadata": {
    "ExecuteTime": {
     "end_time": "2021-03-25T22:40:03.641385Z",
     "start_time": "2021-03-25T22:40:00.719464Z"
    }
   },
   "source": [
    "# Plotting"
   ]
  },
  {
   "cell_type": "markdown",
   "id": "gentle-facial",
   "metadata": {},
   "source": [
    "Plotting the shares of high, low and acceptable quotes.\n",
    "- You can pick in **Group_by** whether you want to group quotes by installers or measures.\n",
    "- **Cutoff** picks the cutoff point for amount of quotes a measure or installer can have to be included in the analysis. This is done to remove installers with only 1 or 2 quotes that are 'High' and thus 100% of their quotes will be high.\n",
    "- **Sort_by** lets you sort by total number of quotes, and share (%) of high, low and acceptable quotes.\n",
    "- **Top** picks the top X (default 25) installers or measures for the given sorting option."
   ]
  },
  {
   "cell_type": "code",
   "execution_count": 48,
   "id": "rolled-corruption",
   "metadata": {
    "ExecuteTime": {
     "end_time": "2021-04-01T16:34:06.654737Z",
     "start_time": "2021-04-01T16:34:03.565972Z"
    },
    "scrolled": false
   },
   "outputs": [
    {
     "data": {
      "application/vnd.jupyter.widget-view+json": {
       "model_id": "6ec10f35a84a4721a07816b5c191b7f3",
       "version_major": 2,
       "version_minor": 0
      },
      "text/plain": [
       "interactive(children=(Dropdown(description='Group_by', options=('Installer_Company_Name', 'Measure_Name'), val…"
      ]
     },
     "metadata": {},
     "output_type": "display_data"
    }
   ],
   "source": [
    "sns.set_style('darkgrid')\n",
    "@interact\n",
    "def plot(Group_by = ['Installer_Company_Name','Measure_Name'], Cutoff=(1, 1000, 1),Sort_by=['Total',('Status','Acceptable'),('Status','High'),('Status','Low')], \n",
    "                            Top=(1, 50, 1), ):\n",
    "    frame = pd.DataFrame(merged.groupby([Group_by])['Status'].value_counts(normalize=True)*100)\n",
    "    frame = frame.unstack().sort_values([('Status', 'High')],ascending=False)\n",
    "    frame['Total'] = merged.groupby([Group_by])['Status'].value_counts().unstack().sum(axis=1)\n",
    "    \n",
    "    frame = frame[frame['Total']>Cutoff].sort_values([Sort_by], ascending=False)[:Top]\n",
    "    fig, ax = plt.subplots()\n",
    "    frame.sort_values([Sort_by],)['Status'].plot.barh(figsize=(8,12), width=0.8, color=['g', 'r', '#FFA500'], ax=ax)\n",
    "    ax.set_xlabel('Share of quote status (%)',fontsize=16)\n",
    "    ax.set_ylabel('Installer',fontsize=16)\n",
    "    for p in ax.patches:\n",
    "        ax.annotate(str(p.get_width())[:4]+'%', (p.get_width()+2,p.get_y() * 1.01), fontsize=14)\n",
    "        \n",
    "    if Group_by == 'Measure_Name':\n",
    "        groupby = 'measures'\n",
    "        ax.set_ylabel('Measures',fontsize=16)\n",
    "    else:\n",
    "        groupby = 'installers'\n",
    "        ax.set_ylabel('Installer',fontsize=16)\n",
    "        \n",
    "    if Sort_by == 'Total':\n",
    "        ax.set_title(f'Top {Top} {groupby} by share of {Sort_by} status (Cutoff = {Cutoff})',fontsize=18)\n",
    "    else:\n",
    "        ax.set_title(f'Top {Top} {groupby} by share of {Sort_by[1]} status (Cutoff = {Cutoff})',fontsize=18)\n",
    "    \n",
    "    ax.tick_params(axis = 'both', which = 'major', labelsize = 18)\n",
    "    return frame.round(2)"
   ]
  },
  {
   "cell_type": "markdown",
   "metadata": {},
   "source": [
    "Plotting the volume of high, low and acceptable quotes.\n",
    "- You can pick in **Group_by** whether you want to group quotes by installers or measures.\n",
    "- **Cutoff** picks the cutoff point for amount of quotes a measure or installer can have to be included in the analysis. This is not as relevant for this plot as we are sorting by volume, not shares.\n",
    "- **Sort_by** lets you sort by total number of quotes, and number of high, low and acceptable quotes.\n",
    "- **Top** picks the top X (default 25) installers or measures for the given sorting option."
   ]
  },
  {
   "cell_type": "markdown",
   "id": "warming-scott",
   "metadata": {},
   "source": [
    "Plotting by volume of quotes:"
   ]
  },
  {
   "cell_type": "code",
   "execution_count": 49,
   "id": "proprietary-silence",
   "metadata": {
    "ExecuteTime": {
     "end_time": "2021-04-01T16:34:16.255953Z",
     "start_time": "2021-04-01T16:34:13.383024Z"
    }
   },
   "outputs": [
    {
     "data": {
      "application/vnd.jupyter.widget-view+json": {
       "model_id": "1f27c3eca71f4c6086dedcd5d5ea46b0",
       "version_major": 2,
       "version_minor": 0
      },
      "text/plain": [
       "interactive(children=(Dropdown(description='Group_by', options=('Installer_Company_Name', 'Measure_Name'), val…"
      ]
     },
     "metadata": {},
     "output_type": "display_data"
    }
   ],
   "source": [
    "sns.set_style('darkgrid')\n",
    "@interact\n",
    "def plot(Group_by = ['Installer_Company_Name','Measure_Name'], Cutoff=(1, 1000, 1),Sort_by=['Total',('Status','Acceptable'),('Status','High'),('Status','Low')], \n",
    "                            Top=(1, 50, 1), ):\n",
    "    frame = pd.DataFrame(merged.groupby([Group_by])['Status'].value_counts())\n",
    "    frame = frame.unstack().sort_values([('Status', 'High')],ascending=False)\n",
    "    frame['Total'] = merged.groupby([Group_by])['Status'].value_counts().unstack().sum(axis=1)\n",
    "    \n",
    "    frame = frame[frame['Total']>Cutoff].sort_values([Sort_by], ascending=False)[:Top]\n",
    "    fig, ax = plt.subplots()\n",
    "    frame.sort_values([Sort_by],)['Status'].plot.barh(figsize=(8,12), width=0.8, color=['g', 'r', '#FFA500'], ax=ax)\n",
    "    ax.set_xlabel('Share of quote status (%)',fontsize=16)\n",
    "    ax.set_ylabel('Installer',fontsize=16)\n",
    "    for p in ax.patches:\n",
    "        ax.annotate(str(int(p.get_width())), (p.get_width()+2,p.get_y() * 1.01), fontsize=14)\n",
    "        \n",
    "    if Group_by == 'Measure_Name':\n",
    "        groupby = 'measures'\n",
    "        ax.set_ylabel('Measures',fontsize=16)\n",
    "    else:\n",
    "        groupby = 'installers'\n",
    "        ax.set_ylabel('Installer',fontsize=16)\n",
    "        \n",
    "    if Sort_by == 'Total':\n",
    "        ax.set_title(f'Top {Top} {groupby} by volume of {Sort_by} status quotes (Cutoff = {Cutoff})',fontsize=18)\n",
    "    else:\n",
    "        ax.set_title(f'Top {Top} {groupby} by volume of {Sort_by[1]} status quotes (Cutoff = {Cutoff})',fontsize=18)\n",
    "    \n",
    "    ax.tick_params(axis = 'both', which = 'major', labelsize = 18)\n",
    "    return frame.round(2)"
   ]
  },
  {
   "cell_type": "markdown",
   "id": "corresponding-guide",
   "metadata": {},
   "source": [
    "# Notes\n",
    "1. Loft insulation has 2 types in the cost sheet but there's no information in the applications/measures sheet to distinguish between board and spray loft insulation measures. Currently applying all to board/wool.\n",
    "2. Park homes in measures and applications but not in costs. Categorised as detached.\n",
    "3. Extra semi-detached/terraced/bungalow unit type in costs sheet for cavity wall insulation measures\n",
    "4. No way to distinguish between double and triple glazing measures in apps/measures sheet. Categorising all as double glazing.\n",
    "5. No hybrid heat pumps in cost sheet. Currently assigning to air-source heat pump."
   ]
  }
 ],
 "metadata": {
  "kernelspec": {
   "display_name": "Python 3",
   "language": "python",
   "name": "python3"
  },
  "language_info": {
   "codemirror_mode": {
    "name": "ipython",
    "version": 3
   },
   "file_extension": ".py",
   "mimetype": "text/x-python",
   "name": "python",
   "nbconvert_exporter": "python",
   "pygments_lexer": "ipython3",
   "version": "3.8.8"
  },
  "toc": {
   "base_numbering": 1,
   "nav_menu": {},
   "number_sections": true,
   "sideBar": true,
   "skip_h1_title": false,
   "title_cell": "Table of Contents",
   "title_sidebar": "Contents",
   "toc_cell": true,
   "toc_position": {
    "height": "calc(100% - 180px)",
    "left": "10px",
    "top": "150px",
    "width": "166.314px"
   },
   "toc_section_display": true,
   "toc_window_display": true
  },
  "varInspector": {
   "cols": {
    "lenName": 16,
    "lenType": 16,
    "lenVar": 40
   },
   "kernels_config": {
    "python": {
     "delete_cmd_postfix": "",
     "delete_cmd_prefix": "del ",
     "library": "var_list.py",
     "varRefreshCmd": "print(var_dic_list())"
    },
    "r": {
     "delete_cmd_postfix": ") ",
     "delete_cmd_prefix": "rm(",
     "library": "var_list.r",
     "varRefreshCmd": "cat(var_dic_list()) "
    }
   },
   "types_to_exclude": [
    "module",
    "function",
    "builtin_function_or_method",
    "instance",
    "_Feature"
   ],
   "window_display": false
  }
 },
 "nbformat": 4,
 "nbformat_minor": 5
}
