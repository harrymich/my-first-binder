{
 "cells": [
  {
   "cell_type": "markdown",
   "metadata": {
    "toc": true
   },
   "source": [
    "<h1>Table of Contents<span class=\"tocSkip\"></span></h1>\n",
    "<div class=\"toc\"><ul class=\"toc-item\"><li><span><a href=\"#1)-Colour-losses/irreversibilities-in-grey.-Material-inputs,-energy-inputs-and-scrap-in-different-colours.\" data-toc-modified-id=\"1)-Colour-losses/irreversibilities-in-grey.-Material-inputs,-energy-inputs-and-scrap-in-different-colours.-1\"><span class=\"toc-item-num\">1&nbsp;&nbsp;</span>1) Colour losses/irreversibilities in grey. Material inputs, energy inputs and scrap in different colours.</a></span></li></ul></div>"
   ]
  },
  {
   "cell_type": "code",
   "execution_count": 1,
   "metadata": {
    "ExecuteTime": {
     "end_time": "2021-03-14T15:56:24.903947Z",
     "start_time": "2021-03-14T15:56:11.724719Z"
    }
   },
   "outputs": [],
   "source": [
    "import pandas as pd\n",
    "# from sankeyview import *\n",
    "from floweaver import *\n",
    "from ipysankeywidget import SankeyWidget\n",
    "import numpy as np\n",
    "# from sankeyview.jupyter import show_sankey\n",
    "flows = pd.read_excel(\"Steel data (Python).xlsx\",sheet_name='Data for Python',engine='openpyxl')"
   ]
  },
  {
   "cell_type": "code",
   "execution_count": 2,
   "metadata": {
    "ExecuteTime": {
     "end_time": "2021-03-14T15:56:25.718446Z",
     "start_time": "2021-03-14T15:56:24.938858Z"
    },
    "scrolled": false
   },
   "outputs": [
    {
     "data": {
      "application/vnd.jupyter.widget-view+json": {
       "model_id": "da5edee53875403f850159936fc7a4a1",
       "version_major": 2,
       "version_minor": 0
      },
      "text/plain": [
       "SankeyWidget(groups=[{'id': 'Scrap waypoint', 'type': 'group', 'title': '', 'nodes': ['Scrap waypoint^*']}, {'…"
      ]
     },
     "metadata": {},
     "output_type": "display_data"
    }
   ],
   "source": [
    "size=dict(width=570, height=300)\n",
    "\n",
    "nodes={'Iron Ore': ProcessGroup(['Iron ore imports'],title='Iron ore\\nimports'),\n",
    "       'Blast Furnace': ProcessGroup(['Blast furnace'],title='Blast\\nFurnace'),\n",
    "       'Slag': ProcessGroup(['Slag']),\n",
    "       'Loss': ProcessGroup(['Loss',]),\n",
    "       'Pig iron': ProcessGroup(['Pig iron']),\n",
    "       'Slag recycling': ProcessGroup(['Slag recycling'],direction='L',title='Slag\\nrecycling'),\n",
    "       'BOS': ProcessGroup(['BOS']),\n",
    "       'Pig iron imports': Waypoint(title='Pig iron\\nimports'),\n",
    "       'Pig iron exports': Waypoint(title='Pig iron\\nexports'),\n",
    "       'External scrap': ProcessGroup(['External scrap'],title='External\\nscrap'),\n",
    "       'EAF': ProcessGroup(['EAF']),\n",
    "       'Crude Steel': ProcessGroup(['Crude steel']),\n",
    "       'Scrap recycling': ProcessGroup(['Scrap recycling BOS'],direction='L',title='Scrap\\nrecycling'),\n",
    "       'Steel product imports': Waypoint(title='Steel product\\nimports'),\n",
    "       'Steel product exports': Waypoint(title='Steel product\\nexports'),\n",
    "       'ASU': ProcessGroup(['ASU']),\n",
    "       'Loss BOS': ProcessGroup(['Loss BOS'],title='Loss'),\n",
    "       'Loss EAF': ProcessGroup(['Loss EAF'],title='Loss'),\n",
    "       'Loss crude': ProcessGroup(['Loss crude'],title='Loss'),\n",
    "       'Loss waypoint': Waypoint(title=''),\n",
    "       'Loss waypoint_1': Waypoint(title=''),\n",
    "       'Loss waypoint_2': Waypoint(title=''),\n",
    "       'Scrap waypoint': Waypoint(title=''),\n",
    "       'Slag waypoint': Waypoint(title=''),\n",
    "       'Slag waypoint_1': Waypoint(title=''),\n",
    "       'Slag waypoint_2': Waypoint(title=''),\n",
    "       'Coke': ProcessGroup(['Coke']),\n",
    "       'Coking coal': ProcessGroup(['Coking coal']),\n",
    "       'Scrap imports': Waypoint(title='Scrap\\nimports'),\n",
    "       'Scrap exports': Waypoint(title='Scrap\\nexports'),\n",
    "      }\n",
    "\n",
    "ordering=[\n",
    "    [[], ['Iron Ore','Coke','Coking coal','Scrap imports']],\n",
    "    [['Pig iron imports'],['Blast Furnace','Slag recycling','External scrap']],\n",
    "    [[], ['Pig iron','Loss', 'Scrap waypoint', 'Slag waypoint', 'Loss waypoint_1','Scrap exports']],\n",
    "    [['Pig iron exports', 'Steel product imports'],['BOS','Scrap recycling','EAF', 'Slag waypoint_1','Loss waypoint_2']],\n",
    "    [[], ['Crude Steel', 'Slag waypoint_2','Loss BOS','Loss EAF','Loss waypoint']],\n",
    "    [['Steel product exports'],['ASU','Slag','Loss crude']]\n",
    "]\n",
    "\n",
    "bundles=[\n",
    "    Bundle('Iron Ore','Blast Furnace'),\n",
    "    Bundle('Coke','Blast Furnace'),\n",
    "    Bundle('Coking coal','Blast Furnace'),\n",
    "    Bundle('Blast Furnace','Slag',waypoints=['Slag waypoint','Slag waypoint_1','Slag waypoint_2']),\n",
    "    Bundle('Blast Furnace','Loss crude', waypoints=['Loss waypoint_1','Loss waypoint_2','Loss waypoint']),\n",
    "    Bundle('Blast Furnace','Pig iron'),\n",
    "    Bundle('Blast Furnace','Slag recycling'),\n",
    "    Bundle('Slag recycling','Blast Furnace'),\n",
    "    Bundle(Elsewhere,'Pig iron', waypoints=['Pig iron imports']),\n",
    "    Bundle('Pig iron',Elsewhere, waypoints=['Pig iron exports']),\n",
    "    Bundle('Pig iron','BOS'),\n",
    "    Bundle('External scrap','BOS', waypoints=['Scrap waypoint']),\n",
    "    Bundle('External scrap','EAF', waypoints=['Scrap waypoint']),\n",
    "    Bundle('EAF','Crude Steel'),\n",
    "    Bundle('BOS','Crude Steel'),\n",
    "    Bundle('BOS','Loss crude', waypoints=['Loss waypoint']),\n",
    "    Bundle('EAF','Loss crude', waypoints=['Loss waypoint']),\n",
    "    Bundle('BOS','Scrap recycling'),#, flow_selection='type == \"loop\"'),\n",
    "    Bundle('Scrap recycling','BOS'),\n",
    "    Bundle('Crude Steel','ASU'),\n",
    "    Bundle('Crude Steel','Loss crude'),\n",
    "    Bundle(Elsewhere,'Crude Steel', waypoints=['Steel product imports']),\n",
    "    Bundle('Crude Steel',Elsewhere, waypoints=['Steel product exports']),\n",
    "    Bundle('BOS','Slag', waypoints=['Slag waypoint_2']),\n",
    "    Bundle('EAF','Slag', waypoints=['Slag waypoint_2']),\n",
    "    Bundle(Elsewhere,'External scrap', waypoints=['Scrap imports']),\n",
    "    Bundle('External scrap',Elsewhere, waypoints=['Scrap exports'])\n",
    "]\n",
    "\n",
    "partition_material=Partition.Simple('material',np.unique(flows['material']))\n",
    "\n",
    "\n",
    "sdd = SankeyDefinition(nodes, bundles, ordering, flow_partition=partition_material)\n",
    "\n",
    "# show_sankey(sdd, flows, width=1300, height=500, palette='Paired_12')\n",
    "weave(sdd, flows,palette='Paired_12').to_widget(width=1300, height=500)"
   ]
  },
  {
   "cell_type": "code",
   "execution_count": 4,
   "metadata": {
    "ExecuteTime": {
     "end_time": "2021-03-14T15:42:46.119753Z",
     "start_time": "2021-03-14T15:42:44.878472Z"
    }
   },
   "outputs": [
    {
     "ename": "KeyError",
     "evalue": "'value'",
     "output_type": "error",
     "traceback": [
      "\u001b[1;31m---------------------------------------------------------------------------\u001b[0m",
      "\u001b[1;31mKeyError\u001b[0m                                  Traceback (most recent call last)",
      "\u001b[1;32m<ipython-input-4-a54b84e1236a>\u001b[0m in \u001b[0;36m<module>\u001b[1;34m\u001b[0m\n\u001b[0;32m     88\u001b[0m \u001b[1;33m\u001b[0m\u001b[0m\n\u001b[0;32m     89\u001b[0m \u001b[0msdd2\u001b[0m \u001b[1;33m=\u001b[0m \u001b[0mSankeyDefinition\u001b[0m\u001b[1;33m(\u001b[0m\u001b[0mnodes2\u001b[0m\u001b[1;33m,\u001b[0m \u001b[0mbundles2\u001b[0m\u001b[1;33m,\u001b[0m \u001b[0mordering2\u001b[0m\u001b[1;33m,\u001b[0m \u001b[0mflow_partition\u001b[0m\u001b[1;33m=\u001b[0m\u001b[0mpartition_material\u001b[0m\u001b[1;33m)\u001b[0m\u001b[1;33m\u001b[0m\u001b[1;33m\u001b[0m\u001b[0m\n\u001b[1;32m---> 90\u001b[1;33m \u001b[0mweave\u001b[0m\u001b[1;33m(\u001b[0m\u001b[0msdd2\u001b[0m\u001b[1;33m,\u001b[0m \u001b[0mflows2\u001b[0m\u001b[1;33m,\u001b[0m\u001b[0mmeasures\u001b[0m\u001b[1;33m=\u001b[0m\u001b[1;34m'exergy'\u001b[0m\u001b[1;33m,\u001b[0m\u001b[0mpalette\u001b[0m\u001b[1;33m=\u001b[0m\u001b[1;34m'Set2_8'\u001b[0m\u001b[1;33m)\u001b[0m\u001b[1;33m.\u001b[0m\u001b[0mto_widget\u001b[0m\u001b[1;33m(\u001b[0m\u001b[0mwidth\u001b[0m\u001b[1;33m=\u001b[0m\u001b[1;36m1300\u001b[0m\u001b[1;33m,\u001b[0m \u001b[0mheight\u001b[0m\u001b[1;33m=\u001b[0m\u001b[1;36m500\u001b[0m\u001b[1;33m)\u001b[0m\u001b[1;33m.\u001b[0m\u001b[0mauto_save_png\u001b[0m\u001b[1;33m(\u001b[0m\u001b[1;34m'steel_sankey_exergy.png'\u001b[0m\u001b[1;33m)\u001b[0m\u001b[1;33m\u001b[0m\u001b[1;33m\u001b[0m\u001b[0m\n\u001b[0m",
      "\u001b[1;32m~\\Anaconda3\\envs\\GHG\\lib\\site-packages\\floweaver\\sankey_data.py\u001b[0m in \u001b[0;36mto_widget\u001b[1;34m(self, width, height, margins, align_link_types, link_label_format, link_label_min_width, debugging)\u001b[0m\n\u001b[0;32m     80\u001b[0m             }\n\u001b[0;32m     81\u001b[0m \u001b[1;33m\u001b[0m\u001b[0m\n\u001b[1;32m---> 82\u001b[1;33m         \u001b[0mvalue\u001b[0m \u001b[1;33m=\u001b[0m \u001b[0mself\u001b[0m\u001b[1;33m.\u001b[0m\u001b[0mto_json\u001b[0m\u001b[1;33m(\u001b[0m\u001b[0mformat\u001b[0m\u001b[1;33m=\u001b[0m\u001b[1;34m\"widget\"\u001b[0m\u001b[1;33m)\u001b[0m\u001b[1;33m\u001b[0m\u001b[1;33m\u001b[0m\u001b[0m\n\u001b[0m\u001b[0;32m     83\u001b[0m         widget = SankeyWidget(\n\u001b[0;32m     84\u001b[0m             \u001b[0mnodes\u001b[0m\u001b[1;33m=\u001b[0m\u001b[0mvalue\u001b[0m\u001b[1;33m[\u001b[0m\u001b[1;34m\"nodes\"\u001b[0m\u001b[1;33m]\u001b[0m\u001b[1;33m,\u001b[0m\u001b[1;33m\u001b[0m\u001b[1;33m\u001b[0m\u001b[0m\n",
      "\u001b[1;32m~\\Anaconda3\\envs\\GHG\\lib\\site-packages\\floweaver\\sankey_data.py\u001b[0m in \u001b[0;36mto_json\u001b[1;34m(self, filename, format)\u001b[0m\n\u001b[0;32m     35\u001b[0m             data = {\n\u001b[0;32m     36\u001b[0m                 \u001b[1;34m\"nodes\"\u001b[0m\u001b[1;33m:\u001b[0m \u001b[1;33m[\u001b[0m\u001b[0mn\u001b[0m\u001b[1;33m.\u001b[0m\u001b[0mto_json\u001b[0m\u001b[1;33m(\u001b[0m\u001b[0mformat\u001b[0m\u001b[1;33m)\u001b[0m \u001b[1;32mfor\u001b[0m \u001b[0mn\u001b[0m \u001b[1;32min\u001b[0m \u001b[0mself\u001b[0m\u001b[1;33m.\u001b[0m\u001b[0mnodes\u001b[0m\u001b[1;33m]\u001b[0m\u001b[1;33m,\u001b[0m\u001b[1;33m\u001b[0m\u001b[1;33m\u001b[0m\u001b[0m\n\u001b[1;32m---> 37\u001b[1;33m                 \u001b[1;34m\"links\"\u001b[0m\u001b[1;33m:\u001b[0m \u001b[1;33m[\u001b[0m\u001b[0ml\u001b[0m\u001b[1;33m.\u001b[0m\u001b[0mto_json\u001b[0m\u001b[1;33m(\u001b[0m\u001b[0mformat\u001b[0m\u001b[1;33m)\u001b[0m \u001b[1;32mfor\u001b[0m \u001b[0ml\u001b[0m \u001b[1;32min\u001b[0m \u001b[0mself\u001b[0m\u001b[1;33m.\u001b[0m\u001b[0mlinks\u001b[0m\u001b[1;33m]\u001b[0m\u001b[1;33m,\u001b[0m\u001b[1;33m\u001b[0m\u001b[1;33m\u001b[0m\u001b[0m\n\u001b[0m\u001b[0;32m     38\u001b[0m                 \u001b[1;34m\"order\"\u001b[0m\u001b[1;33m:\u001b[0m \u001b[0mself\u001b[0m\u001b[1;33m.\u001b[0m\u001b[0mordering\u001b[0m\u001b[1;33m.\u001b[0m\u001b[0mlayers\u001b[0m\u001b[1;33m,\u001b[0m\u001b[1;33m\u001b[0m\u001b[1;33m\u001b[0m\u001b[0m\n\u001b[0;32m     39\u001b[0m                 \u001b[1;34m\"groups\"\u001b[0m\u001b[1;33m:\u001b[0m \u001b[0mself\u001b[0m\u001b[1;33m.\u001b[0m\u001b[0mgroups\u001b[0m\u001b[1;33m,\u001b[0m\u001b[1;33m\u001b[0m\u001b[1;33m\u001b[0m\u001b[0m\n",
      "\u001b[1;32m~\\Anaconda3\\envs\\GHG\\lib\\site-packages\\floweaver\\sankey_data.py\u001b[0m in \u001b[0;36m<listcomp>\u001b[1;34m(.0)\u001b[0m\n\u001b[0;32m     35\u001b[0m             data = {\n\u001b[0;32m     36\u001b[0m                 \u001b[1;34m\"nodes\"\u001b[0m\u001b[1;33m:\u001b[0m \u001b[1;33m[\u001b[0m\u001b[0mn\u001b[0m\u001b[1;33m.\u001b[0m\u001b[0mto_json\u001b[0m\u001b[1;33m(\u001b[0m\u001b[0mformat\u001b[0m\u001b[1;33m)\u001b[0m \u001b[1;32mfor\u001b[0m \u001b[0mn\u001b[0m \u001b[1;32min\u001b[0m \u001b[0mself\u001b[0m\u001b[1;33m.\u001b[0m\u001b[0mnodes\u001b[0m\u001b[1;33m]\u001b[0m\u001b[1;33m,\u001b[0m\u001b[1;33m\u001b[0m\u001b[1;33m\u001b[0m\u001b[0m\n\u001b[1;32m---> 37\u001b[1;33m                 \u001b[1;34m\"links\"\u001b[0m\u001b[1;33m:\u001b[0m \u001b[1;33m[\u001b[0m\u001b[0ml\u001b[0m\u001b[1;33m.\u001b[0m\u001b[0mto_json\u001b[0m\u001b[1;33m(\u001b[0m\u001b[0mformat\u001b[0m\u001b[1;33m)\u001b[0m \u001b[1;32mfor\u001b[0m \u001b[0ml\u001b[0m \u001b[1;32min\u001b[0m \u001b[0mself\u001b[0m\u001b[1;33m.\u001b[0m\u001b[0mlinks\u001b[0m\u001b[1;33m]\u001b[0m\u001b[1;33m,\u001b[0m\u001b[1;33m\u001b[0m\u001b[1;33m\u001b[0m\u001b[0m\n\u001b[0m\u001b[0;32m     38\u001b[0m                 \u001b[1;34m\"order\"\u001b[0m\u001b[1;33m:\u001b[0m \u001b[0mself\u001b[0m\u001b[1;33m.\u001b[0m\u001b[0mordering\u001b[0m\u001b[1;33m.\u001b[0m\u001b[0mlayers\u001b[0m\u001b[1;33m,\u001b[0m\u001b[1;33m\u001b[0m\u001b[1;33m\u001b[0m\u001b[0m\n\u001b[0;32m     39\u001b[0m                 \u001b[1;34m\"groups\"\u001b[0m\u001b[1;33m:\u001b[0m \u001b[0mself\u001b[0m\u001b[1;33m.\u001b[0m\u001b[0mgroups\u001b[0m\u001b[1;33m,\u001b[0m\u001b[1;33m\u001b[0m\u001b[1;33m\u001b[0m\u001b[0m\n",
      "\u001b[1;32m~\\Anaconda3\\envs\\GHG\\lib\\site-packages\\floweaver\\sankey_data.py\u001b[0m in \u001b[0;36mto_json\u001b[1;34m(self, format)\u001b[0m\n\u001b[0;32m    180\u001b[0m                 \u001b[1;34m\"type\"\u001b[0m\u001b[1;33m:\u001b[0m \u001b[0mself\u001b[0m\u001b[1;33m.\u001b[0m\u001b[0mtype\u001b[0m\u001b[1;33m,\u001b[0m\u001b[1;33m\u001b[0m\u001b[1;33m\u001b[0m\u001b[0m\n\u001b[0;32m    181\u001b[0m                 \u001b[1;34m\"time\"\u001b[0m\u001b[1;33m:\u001b[0m \u001b[0mself\u001b[0m\u001b[1;33m.\u001b[0m\u001b[0mtime\u001b[0m\u001b[1;33m,\u001b[0m\u001b[1;33m\u001b[0m\u001b[1;33m\u001b[0m\u001b[0m\n\u001b[1;32m--> 182\u001b[1;33m                 \u001b[1;34m\"value\"\u001b[0m\u001b[1;33m:\u001b[0m \u001b[0mself\u001b[0m\u001b[1;33m.\u001b[0m\u001b[0mdata\u001b[0m\u001b[1;33m[\u001b[0m\u001b[1;34m\"value\"\u001b[0m\u001b[1;33m]\u001b[0m\u001b[1;33m,\u001b[0m\u001b[1;33m\u001b[0m\u001b[1;33m\u001b[0m\u001b[0m\n\u001b[0m\u001b[0;32m    183\u001b[0m                 \u001b[1;34m\"title\"\u001b[0m\u001b[1;33m:\u001b[0m \u001b[0mself\u001b[0m\u001b[1;33m.\u001b[0m\u001b[0mtitle\u001b[0m\u001b[1;33m,\u001b[0m\u001b[1;33m\u001b[0m\u001b[1;33m\u001b[0m\u001b[0m\n\u001b[0;32m    184\u001b[0m                 \u001b[1;34m\"color\"\u001b[0m\u001b[1;33m:\u001b[0m \u001b[0mself\u001b[0m\u001b[1;33m.\u001b[0m\u001b[0mcolor\u001b[0m\u001b[1;33m,\u001b[0m\u001b[1;33m\u001b[0m\u001b[1;33m\u001b[0m\u001b[0m\n",
      "\u001b[1;31mKeyError\u001b[0m: 'value'"
     ]
    }
   ],
   "source": [
    "flows2=pd.read_excel(\"Steel data (Python).xlsx\",sheet_name='Data for Python (Exergy)')\n",
    "\n",
    "nodes2={'Iron Ore': ProcessGroup(['Iron ore imports'],title='Iron ore\\nimports'),\n",
    "       'Blast Furnace': ProcessGroup(['Blast furnace'],title='Blast\\nFurnace'),\n",
    "       'Slag': ProcessGroup(['Slag']),\n",
    "       'Loss': ProcessGroup(['Loss',]),\n",
    "       'Pig iron': ProcessGroup(['Pig iron']),\n",
    "       'Slag recycling': ProcessGroup(['Slag recycling'],direction='L',title='Slag\\nrecycling'),\n",
    "       'BOS': ProcessGroup(['BOS']),\n",
    "       'Pig iron imports': Waypoint(title='Pig iron\\nimports'),\n",
    "       'Pig iron exports': Waypoint(title='Pig iron\\nexports'),\n",
    "       'External scrap': ProcessGroup(['External scrap'],title='External\\nscrap'),\n",
    "       'EAF': ProcessGroup(['EAF']),\n",
    "       'Crude Steel': ProcessGroup(['Crude steel'],title='Crude\\nsteel'),\n",
    "       'Scrap recycling': ProcessGroup(['Scrap recycling BOS'],direction='L',title='Scrap\\nrecycling'),\n",
    "       'Steel product imports': Waypoint(title='Steel product\\nimports'),\n",
    "       'Steel product exports': Waypoint(title='Steel product\\nexports'),\n",
    "       'ASU': ProcessGroup(['ASU']),\n",
    "       'Loss BOS': ProcessGroup(['Loss BOS'],title='Loss'),\n",
    "       'Loss EAF': ProcessGroup(['Loss EAF'],title='Loss'),\n",
    "       'Loss crude': ProcessGroup(['Loss crude'],title='Loss'),\n",
    "       'Loss waypoint': Waypoint(title=''),\n",
    "       'Loss waypoint_1': Waypoint(title=''),\n",
    "       'Loss waypoint_2': Waypoint(title=''),\n",
    "       'Scrap waypoint': Waypoint(title=''),\n",
    "       'Slag waypoint': Waypoint(title=''),\n",
    "       'Slag waypoint_1': Waypoint(title=''),\n",
    "       'Slag waypoint_2': Waypoint(title=''),\n",
    "       'Coke': ProcessGroup(['Coke']),\n",
    "       'Coking coal': ProcessGroup(['Coking coal']),\n",
    "       'Scrap imports': Waypoint(title='Scrap\\nimports'),\n",
    "       'Scrap exports': Waypoint(title='Scrap\\nexports'),\n",
    "        'Energy inputs': ProcessGroup(['Energy inputs']),\n",
    "        'Irreversibilities': ProcessGroup(['Irr'],title='Exergy\\ndestruction'),\n",
    "        'Irr': Waypoint(title=''),\n",
    "        'Irr1': Waypoint(title=''),\n",
    "        'Irr2': Waypoint(title=''),\n",
    "        'En': Waypoint(title=''),\n",
    "        'En1': Waypoint(title='')\n",
    "      }\n",
    "\n",
    "ordering2=[\n",
    "    [['Iron Ore'], ['Energy inputs','Coke','Coking coal','Scrap imports']],\n",
    "    [['Pig iron imports'],['En','Blast Furnace','Slag recycling','External scrap']],\n",
    "    [[], ['En1','Pig iron','Loss', 'Scrap waypoint', 'Slag waypoint', 'Loss waypoint_1','Irr','Scrap exports']],\n",
    "    [['Pig iron exports', 'Steel product imports'],['BOS','Scrap recycling','EAF', 'Slag waypoint_1','Loss waypoint_2','Irr1']],\n",
    "    [[], ['Crude Steel', 'Slag waypoint_2','Loss BOS','Loss EAF','Loss waypoint','Irr2']],\n",
    "    [['Steel product exports'],['ASU','Slag','Loss crude','Irreversibilities']]\n",
    "]\n",
    "\n",
    "bundles2=[\n",
    "    Bundle('Iron Ore','Blast Furnace'),\n",
    "    Bundle('Coke','Blast Furnace'),\n",
    "    Bundle('Coking coal','Blast Furnace'),\n",
    "    Bundle('Blast Furnace','Slag',waypoints=['Slag waypoint','Slag waypoint_1','Slag waypoint_2']),\n",
    "    Bundle('Blast Furnace','Loss crude', waypoints=['Loss waypoint_1','Loss waypoint_2','Loss waypoint']),\n",
    "    Bundle('Blast Furnace','Pig iron'),\n",
    "    Bundle('Blast Furnace','Slag recycling'),\n",
    "    Bundle('Slag recycling','Blast Furnace'),\n",
    "    Bundle(Elsewhere,'Pig iron', waypoints=['Pig iron imports']),\n",
    "    Bundle('Pig iron',Elsewhere, waypoints=['Pig iron exports']),\n",
    "    Bundle('Pig iron','BOS'),\n",
    "    Bundle('External scrap','BOS', waypoints=['Scrap waypoint']),\n",
    "    Bundle('External scrap','EAF', waypoints=['Scrap waypoint']),\n",
    "    Bundle('EAF','Crude Steel'),\n",
    "    Bundle('BOS','Crude Steel'),\n",
    "    Bundle('BOS','Loss crude', waypoints=['Loss waypoint']),\n",
    "    Bundle('EAF','Loss crude', waypoints=['Loss waypoint']),\n",
    "    Bundle('BOS','Scrap recycling'),#, flow_selection='type == \"loop\"'),\n",
    "    Bundle('Scrap recycling','BOS'),\n",
    "    Bundle('Crude Steel','ASU'),\n",
    "    Bundle('Crude Steel','Loss crude'),\n",
    "    Bundle(Elsewhere,'Crude Steel', waypoints=['Steel product imports']),\n",
    "    Bundle('Crude Steel',Elsewhere, waypoints=['Steel product exports']),\n",
    "    Bundle('BOS','Slag', waypoints=['Slag waypoint_2']),\n",
    "    Bundle('EAF','Slag', waypoints=['Slag waypoint_2']),\n",
    "    Bundle(Elsewhere,'External scrap', waypoints=['Scrap imports']),\n",
    "    Bundle('External scrap',Elsewhere, waypoints=['Scrap exports']),\n",
    "    Bundle('Energy inputs','Blast Furnace'),\n",
    "    Bundle('Energy inputs','BOS', waypoints=['En','En1']),\n",
    "    Bundle('Energy inputs','EAF', waypoints=['En','En1']),\n",
    "    Bundle('Blast Furnace','Irreversibilities',waypoints=['Irr','Irr1','Irr2']),\n",
    "    Bundle('BOS','Irreversibilities', waypoints=['Irr2']),\n",
    "    Bundle('EAF','Irreversibilities', waypoints=['Irr2']),\n",
    "]\n",
    "\n",
    "partition_material=Partition.Simple('material',np.unique(flows2['material']))\n",
    "\n",
    "sdd2 = SankeyDefinition(nodes2, bundles2, ordering2, flow_partition=partition_material)\n",
    "weave(sdd2, flows2,measures='exergy',palette='Set2_8').to_widget(width=1300, height=500).auto_save_png('steel_sankey_exergy.png')"
   ]
  },
  {
   "cell_type": "markdown",
   "metadata": {},
   "source": [
    "## 1) Colour losses/irreversibilities in grey. Material inputs, energy inputs and scrap in different colours."
   ]
  },
  {
   "cell_type": "markdown",
   "metadata": {
    "collapsed": true
   },
   "source": [
    "Chemicals Sankey"
   ]
  },
  {
   "cell_type": "code",
   "execution_count": 4,
   "metadata": {
    "ExecuteTime": {
     "end_time": "2020-03-12T15:58:31.179025Z",
     "start_time": "2020-03-12T15:58:30.260593Z"
    },
    "scrolled": false
   },
   "outputs": [
    {
     "data": {
      "application/vnd.jupyter.widget-view+json": {
       "model_id": "47099b8677fa43b6b635281e94f8e8f1",
       "version_major": 2,
       "version_minor": 0
      },
      "text/html": [
       "<p>Failed to display Jupyter Widget of type <code>SankeyWidget</code>.</p>\n",
       "<p>\n",
       "  If you're reading this message in the Jupyter Notebook or JupyterLab Notebook, it may mean\n",
       "  that the widgets JavaScript is still loading. If this message persists, it\n",
       "  likely means that the widgets JavaScript library is either not installed or\n",
       "  not enabled. See the <a href=\"https://ipywidgets.readthedocs.io/en/stable/user_install.html\">Jupyter\n",
       "  Widgets Documentation</a> for setup instructions.\n",
       "</p>\n",
       "<p>\n",
       "  If you're reading this message in another frontend (for example, a static\n",
       "  rendering on GitHub or <a href=\"https://nbviewer.jupyter.org/\">NBViewer</a>),\n",
       "  it may mean that your frontend doesn't currently support widgets.\n",
       "</p>\n"
      ],
      "text/plain": [
       "SankeyWidget(groups=[{'id': 'inputs', 'type': 'group', 'title': '', 'nodes': ['inputs^Oil products', 'inputs^Biomass and waste', 'inputs^Natural gas', 'inputs^Coal', 'inputs^Peat and wood', 'inputs^Electricity', 'inputs^Heat', 'inputs^Coal briquettes', 'inputs^Coke', 'inputs^Coke oven gas', 'inputs^Cement', 'inputs^Chemical fibres', 'inputs^Crude oil', 'inputs^Disodium carbonate', 'inputs^Glass', 'inputs^Leather', 'inputs^Lime', 'inputs^Wood and\\npaper products', 'inputs^Polymers', 'inputs^Sodium hydroxide', 'inputs^Steel', 'inputs^Sulphur and sulphuric acid', 'inputs^Synthetic rubber', 'inputs^Metals (Silver, tin, zinc etc.)']}, {'id': 'sectors', 'type': 'group', 'title': '', 'nodes': ['sectors^Basic metals', 'sectors^Non-metallic\\nminerals', 'sectors^Paper sector', 'sectors^Chemical sector', 'sectors^Rubber and\\nplastic']}, {'id': 'outputs', 'type': 'group', 'title': '', 'nodes': ['outputs^Aluminium', 'outputs^Crude steel', 'outputs^Copper products', 'outputs^Silver', 'outputs^Building paper', 'outputs^Clay bricks', 'outputs^Cement', 'outputs^Gypsum plaster', 'outputs^Lime', 'outputs^Glass and\\nporcelain products', 'outputs^Paper products', 'outputs^Wood pulp', 'outputs^Acids', 'outputs^Caprolactam', 'outputs^Chemical fibres', 'outputs^Chlorine', 'outputs^Other chemicals', 'outputs^Ethylene', 'outputs^Fertilisers', 'outputs^Paints and varnishes', 'outputs^Propylene', 'outputs^Soap', 'outputs^Zinc and zinc ores', 'outputs^Polymers and\\npolymer products', 'outputs^Rubber and tyres', 'outputs^_']}, {'id': 'loss', 'type': 'group', 'title': '', 'nodes': ['loss^Loss']}], layout=Layout(height='1800', width='1700'), links=[{'source': 'inputs^Oil products', 'target': 'sectors^Basic metals', 'type': 'Oil products', 'time': '*', 'value': 1126320.0, 'bundles': ['0'], 'color': 'rgb(189,183,107)', 'title': 'Oil products', 'opacity': 1.0}, {'source': 'inputs^Oil products', 'target': 'sectors^Chemical sector', 'type': 'Oil products', 'time': '*', 'value': 88619440.0, 'bundles': ['0'], 'color': 'rgb(189,183,107)', 'title': 'Oil products', 'opacity': 1.0}, {'source': 'inputs^Oil products', 'target': 'sectors^Non-metallic\\nminerals', 'type': 'Oil products', 'time': '*', 'value': 6283680.0, 'bundles': ['0'], 'color': 'rgb(189,183,107)', 'title': 'Oil products', 'opacity': 1.0}, {'source': 'inputs^Oil products', 'target': 'sectors^Paper sector', 'type': 'Oil products', 'time': '*', 'value': 2350400.0, 'bundles': ['0'], 'color': 'rgb(189,183,107)', 'title': 'Oil products', 'opacity': 1.0}, {'source': 'inputs^Oil products', 'target': 'sectors^Rubber and\\nplastic', 'type': 'Oil products', 'time': '*', 'value': 2332720.0000000005, 'bundles': ['0'], 'color': 'rgb(189,183,107)', 'title': 'Oil products', 'opacity': 1.0}, {'source': 'inputs^Biomass and waste', 'target': 'sectors^Basic metals', 'type': 'Biomass and Waste', 'time': '*', 'value': 0.0, 'bundles': ['0'], 'color': 'rgb(32,178,170)', 'title': 'Biomass and Waste', 'opacity': 1.0}, {'source': 'inputs^Biomass and waste', 'target': 'sectors^Chemical sector', 'type': 'Biomass and Waste', 'time': '*', 'value': 1010880.0, 'bundles': ['0'], 'color': 'rgb(32,178,170)', 'title': 'Biomass and Waste', 'opacity': 1.0}, {'source': 'inputs^Biomass and waste', 'target': 'sectors^Non-metallic\\nminerals', 'type': 'Biomass and Waste', 'time': '*', 'value': 22200880.0, 'bundles': ['0'], 'color': 'rgb(32,178,170)', 'title': 'Biomass and Waste', 'opacity': 1.0}, {'source': 'inputs^Biomass and waste', 'target': 'sectors^Paper sector', 'type': 'Biomass and Waste', 'time': '*', 'value': 12981280.0, 'bundles': ['0'], 'color': 'rgb(32,178,170)', 'title': 'Biomass and Waste', 'opacity': 1.0}, {'source': 'inputs^Biomass and waste', 'target': 'sectors^Rubber and\\nplastic', 'type': 'Biomass and Waste', 'time': '*', 'value': 13520.0, 'bundles': ['0'], 'color': 'rgb(32,178,170)', 'title': 'Biomass and Waste', 'opacity': 1.0}, {'source': 'inputs^Natural gas', 'target': 'sectors^Basic metals', 'type': 'Natural gas', 'time': '*', 'value': 24760320.0, 'bundles': ['0'], 'color': 'rgb(255,165,0)', 'title': 'Natural gas', 'opacity': 1.0}, {'source': 'inputs^Natural gas', 'target': 'sectors^Chemical sector', 'type': 'Natural gas', 'time': '*', 'value': 106769520.0, 'bundles': ['0'], 'color': 'rgb(255,165,0)', 'title': 'Natural gas', 'opacity': 1.0}, {'source': 'inputs^Natural gas', 'target': 'sectors^Non-metallic\\nminerals', 'type': 'Natural gas', 'time': '*', 'value': 42250000.0, 'bundles': ['0'], 'color': 'rgb(255,165,0)', 'title': 'Natural gas', 'opacity': 1.0}, {'source': 'inputs^Natural gas', 'target': 'sectors^Paper sector', 'type': 'Natural gas', 'time': '*', 'value': 6528080.0, 'bundles': ['0'], 'color': 'rgb(255,165,0)', 'title': 'Natural gas', 'opacity': 1.0}, {'source': 'inputs^Natural gas', 'target': 'sectors^Rubber and\\nplastic', 'type': 'Natural gas', 'time': '*', 'value': 4361760.0, 'bundles': ['0'], 'color': 'rgb(255,165,0)', 'title': 'Natural gas', 'opacity': 1.0}, {'source': 'inputs^Coal', 'target': 'sectors^Basic metals', 'type': 'Coal and Peat', 'time': '*', 'value': 3832950.0, 'bundles': ['0'], 'color': 'rgb(47,79,79)', 'title': 'Coal and Peat', 'opacity': 1.0}, {'source': 'inputs^Coal', 'target': 'sectors^Chemical sector', 'type': 'Coal and Peat', 'time': '*', 'value': 39958630.0, 'bundles': ['0'], 'color': 'rgb(47,79,79)', 'title': 'Coal and Peat', 'opacity': 1.0}, {'source': 'inputs^Coal', 'target': 'sectors^Non-metallic\\nminerals', 'type': 'Coal and Peat', 'time': '*', 'value': 23777420.0, 'bundles': ['0'], 'color': 'rgb(47,79,79)', 'title': 'Coal and Peat', 'opacity': 1.0}, {'source': 'inputs^Coal', 'target': 'sectors^Paper sector', 'type': 'Coal and Peat', 'time': '*', 'value': 11234230.0, 'bundles': ['0'], 'color': 'rgb(47,79,79)', 'title': 'Coal and Peat', 'opacity': 1.0}, {'source': 'inputs^Coal', 'target': 'sectors^Rubber and\\nplastic', 'type': 'Coal and Peat', 'time': '*', 'value': 2016970.0, 'bundles': ['0'], 'color': 'rgb(47,79,79)', 'title': 'Coal and Peat', 'opacity': 1.0}, {'source': 'inputs^Peat and wood', 'target': 'sectors^Basic metals', 'type': 'Coal and Peat', 'time': '*', 'value': 1040.0, 'bundles': ['0'], 'color': 'rgb(47,79,79)', 'title': 'Coal and Peat', 'opacity': 1.0}, {'source': 'inputs^Peat and wood', 'target': 'sectors^Chemical sector', 'type': 'Coal and Peat', 'time': '*', 'value': 52000.0, 'bundles': ['0'], 'color': 'rgb(47,79,79)', 'title': 'Coal and Peat', 'opacity': 1.0}, {'source': 'inputs^Peat and wood', 'target': 'sectors^Non-metallic\\nminerals', 'type': 'Coal and Peat', 'time': '*', 'value': 62400.00000000001, 'bundles': ['0'], 'color': 'rgb(47,79,79)', 'title': 'Coal and Peat', 'opacity': 1.0}, {'source': 'inputs^Peat and wood', 'target': 'sectors^Paper sector', 'type': 'Coal and Peat', 'time': '*', 'value': 15374320.0, 'bundles': ['0'], 'color': 'rgb(47,79,79)', 'title': 'Coal and Peat', 'opacity': 1.0}, {'source': 'inputs^Peat and wood', 'target': 'sectors^Rubber and\\nplastic', 'type': 'Coal and Peat', 'time': '*', 'value': 45760.00000000001, 'bundles': ['0'], 'color': 'rgb(47,79,79)', 'title': 'Coal and Peat', 'opacity': 1.0}, {'source': 'inputs^Electricity', 'target': 'sectors^Basic metals', 'type': 'Electricity', 'time': '*', 'value': 30369000.0, 'bundles': ['0'], 'color': 'rgb(119,136,153)', 'title': 'Electricity', 'opacity': 1.0}, {'source': 'inputs^Electricity', 'target': 'sectors^Chemical sector', 'type': 'Electricity', 'time': '*', 'value': 25956000.0, 'bundles': ['0'], 'color': 'rgb(119,136,153)', 'title': 'Electricity', 'opacity': 1.0}, {'source': 'inputs^Electricity', 'target': 'sectors^Non-metallic\\nminerals', 'type': 'Electricity', 'time': '*', 'value': 16854000.0, 'bundles': ['0'], 'color': 'rgb(119,136,153)', 'title': 'Electricity', 'opacity': 1.0}, {'source': 'inputs^Electricity', 'target': 'sectors^Paper sector', 'type': 'Electricity', 'time': '*', 'value': 14591000.0, 'bundles': ['0'], 'color': 'rgb(119,136,153)', 'title': 'Electricity', 'opacity': 1.0}, {'source': 'inputs^Electricity', 'target': 'sectors^Rubber and\\nplastic', 'type': 'Electricity', 'time': '*', 'value': 11938000.0, 'bundles': ['0'], 'color': 'rgb(119,136,153)', 'title': 'Electricity', 'opacity': 1.0}, {'source': 'inputs^Heat', 'target': 'sectors^Basic metals', 'type': 'Heat', 'time': '*', 'value': 912800.0, 'bundles': ['0'], 'color': 'rgb(255,0,0)', 'title': 'Heat', 'opacity': 1.0}, {'source': 'inputs^Heat', 'target': 'sectors^Chemical sector', 'type': 'Heat', 'time': '*', 'value': 564025.0, 'bundles': ['0'], 'color': 'rgb(255,0,0)', 'title': 'Heat', 'opacity': 1.0}, {'source': 'inputs^Heat', 'target': 'sectors^Non-metallic\\nminerals', 'type': 'Heat', 'time': '*', 'value': 204225.0, 'bundles': ['0'], 'color': 'rgb(255,0,0)', 'title': 'Heat', 'opacity': 1.0}, {'source': 'inputs^Heat', 'target': 'sectors^Paper sector', 'type': 'Heat', 'time': '*', 'value': 505575.0, 'bundles': ['0'], 'color': 'rgb(255,0,0)', 'title': 'Heat', 'opacity': 1.0}, {'source': 'inputs^Heat', 'target': 'sectors^Rubber and\\nplastic', 'type': 'Heat', 'time': '*', 'value': 165899.99999999997, 'bundles': ['0'], 'color': 'rgb(255,0,0)', 'title': 'Heat', 'opacity': 1.0}, {'source': 'inputs^Coal briquettes', 'target': 'sectors^Basic metals', 'type': 'Coal and Peat', 'time': '*', 'value': 0.0, 'bundles': ['0'], 'color': 'rgb(47,79,79)', 'title': 'Coal and Peat', 'opacity': 1.0}, {'source': 'inputs^Coal briquettes', 'target': 'sectors^Chemical sector', 'type': 'Coal and Peat', 'time': '*', 'value': 2020.0, 'bundles': ['0'], 'color': 'rgb(47,79,79)', 'title': 'Coal and Peat', 'opacity': 1.0}, {'source': 'inputs^Coal briquettes', 'target': 'sectors^Rubber and\\nplastic', 'type': 'Coal and Peat', 'time': '*', 'value': 1010.0, 'bundles': ['0'], 'color': 'rgb(47,79,79)', 'title': 'Coal and Peat', 'opacity': 1.0}, {'source': 'inputs^Coke', 'target': 'sectors^Basic metals', 'type': 'Energy', 'time': '*', 'value': 18163140.0, 'bundles': ['0'], 'color': 'rgb(178,34,34)', 'title': 'Energy', 'opacity': 1.0}, {'source': 'inputs^Coke', 'target': 'sectors^Chemical sector', 'type': 'Energy', 'time': '*', 'value': 3167100.0, 'bundles': ['0'], 'color': 'rgb(178,34,34)', 'title': 'Energy', 'opacity': 1.0}, {'source': 'inputs^Coke', 'target': 'sectors^Non-metallic\\nminerals', 'type': 'Energy', 'time': '*', 'value': 3163020.0, 'bundles': ['0'], 'color': 'rgb(178,34,34)', 'title': 'Energy', 'opacity': 1.0}, {'source': 'inputs^Coke oven gas', 'target': 'sectors^Basic metals', 'type': 'Energy', 'time': '*', 'value': 18321640.0, 'bundles': ['0'], 'color': 'rgb(178,34,34)', 'title': 'Energy', 'opacity': 1.0}, {'source': 'inputs^Coke oven gas', 'target': 'sectors^Chemical sector', 'type': 'Energy', 'time': '*', 'value': 642720.0, 'bundles': ['0'], 'color': 'rgb(178,34,34)', 'title': 'Energy', 'opacity': 1.0}, {'source': 'inputs^Coke oven gas', 'target': 'sectors^Non-metallic\\nminerals', 'type': 'Energy', 'time': '*', 'value': 1896230.0, 'bundles': ['0'], 'color': 'rgb(178,34,34)', 'title': 'Energy', 'opacity': 1.0}, {'source': 'inputs^Cement', 'target': 'sectors^Basic metals', 'type': 'Material', 'time': '*', 'value': 3.5611400000000004, 'bundles': ['0'], 'color': 'rgb(160,82,45)', 'title': 'Material', 'opacity': 1.0}, {'source': 'inputs^Cement', 'target': 'sectors^Chemical sector', 'type': 'Material', 'time': '*', 'value': 501.797, 'bundles': ['0'], 'color': 'rgb(160,82,45)', 'title': 'Material', 'opacity': 1.0}, {'source': 'inputs^Cement', 'target': 'sectors^Non-metallic\\nminerals', 'type': 'Material', 'time': '*', 'value': 11518.6692, 'bundles': ['0'], 'color': 'rgb(160,82,45)', 'title': 'Material', 'opacity': 1.0}, {'source': 'inputs^Cement', 'target': 'sectors^Paper sector', 'type': 'Material', 'time': '*', 'value': 0.0, 'bundles': ['0'], 'color': 'rgb(160,82,45)', 'title': 'Material', 'opacity': 1.0}, {'source': 'inputs^Cement', 'target': 'sectors^Rubber and\\nplastic', 'type': 'Material', 'time': '*', 'value': 35.28766, 'bundles': ['0'], 'color': 'rgb(160,82,45)', 'title': 'Material', 'opacity': 1.0}, {'source': 'inputs^Chemical fibres', 'target': 'sectors^Basic metals', 'type': 'Material', 'time': '*', 'value': 0.0, 'bundles': ['0'], 'color': 'rgb(160,82,45)', 'title': 'Material', 'opacity': 1.0}, {'source': 'inputs^Chemical fibres', 'target': 'sectors^Chemical sector', 'type': 'Material', 'time': '*', 'value': 98792.4, 'bundles': ['0'], 'color': 'rgb(160,82,45)', 'title': 'Material', 'opacity': 1.0}, {'source': 'inputs^Chemical fibres', 'target': 'sectors^Non-metallic\\nminerals', 'type': 'Material', 'time': '*', 'value': 31942.799999999996, 'bundles': ['0'], 'color': 'rgb(160,82,45)', 'title': 'Material', 'opacity': 1.0}, {'source': 'inputs^Chemical fibres', 'target': 'sectors^Paper sector', 'type': 'Material', 'time': '*', 'value': 12585.599999999999, 'bundles': ['0'], 'color': 'rgb(160,82,45)', 'title': 'Material', 'opacity': 1.0}, {'source': 'inputs^Chemical fibres', 'target': 'sectors^Rubber and\\nplastic', 'type': 'Material', 'time': '*', 'value': 458827.19999999995, 'bundles': ['0'], 'color': 'rgb(160,82,45)', 'title': 'Material', 'opacity': 1.0}, {'source': 'inputs^Crude oil', 'target': 'sectors^Basic metals', 'type': 'Energy', 'time': '*', 'value': 0.0, 'bundles': ['0'], 'color': 'rgb(178,34,34)', 'title': 'Energy', 'opacity': 1.0}, {'source': 'inputs^Crude oil', 'target': 'sectors^Chemical sector', 'type': 'Energy', 'time': '*', 'value': 0.0, 'bundles': ['0'], 'color': 'rgb(178,34,34)', 'title': 'Energy', 'opacity': 1.0}, {'source': 'inputs^Crude oil', 'target': 'sectors^Non-metallic\\nminerals', 'type': 'Energy', 'time': '*', 'value': 0.0, 'bundles': ['0'], 'color': 'rgb(178,34,34)', 'title': 'Energy', 'opacity': 1.0}, {'source': 'inputs^Crude oil', 'target': 'sectors^Paper sector', 'type': 'Energy', 'time': '*', 'value': 0.0, 'bundles': ['0'], 'color': 'rgb(178,34,34)', 'title': 'Energy', 'opacity': 1.0}, {'source': 'inputs^Crude oil', 'target': 'sectors^Rubber and\\nplastic', 'type': 'Energy', 'time': '*', 'value': 0.0, 'bundles': ['0'], 'color': 'rgb(178,34,34)', 'title': 'Energy', 'opacity': 1.0}, {'source': 'inputs^Disodium carbonate', 'target': 'sectors^Basic metals', 'type': 'Material', 'time': '*', 'value': 8548.515837949375, 'bundles': ['0'], 'color': 'rgb(160,82,45)', 'title': 'Material', 'opacity': 1.0}, {'source': 'inputs^Disodium carbonate', 'target': 'sectors^Chemical sector', 'type': 'Material', 'time': '*', 'value': 32757.742069703396, 'bundles': ['0'], 'color': 'rgb(160,82,45)', 'title': 'Material', 'opacity': 1.0}, {'source': 'inputs^Disodium carbonate', 'target': 'sectors^Non-metallic\\nminerals', 'type': 'Material', 'time': '*', 'value': 87733.48202786891, 'bundles': ['0'], 'color': 'rgb(160,82,45)', 'title': 'Material', 'opacity': 1.0}, {'source': 'inputs^Disodium carbonate', 'target': 'sectors^Paper sector', 'type': 'Material', 'time': '*', 'value': 2557.7686762129315, 'bundles': ['0'], 'color': 'rgb(160,82,45)', 'title': 'Material', 'opacity': 1.0}, {'source': 'inputs^Disodium carbonate', 'target': 'sectors^Rubber and\\nplastic', 'type': 'Material', 'time': '*', 'value': 1188.9203701135307, 'bundles': ['0'], 'color': 'rgb(160,82,45)', 'title': 'Material', 'opacity': 1.0}, {'source': 'inputs^Glass', 'target': 'sectors^Basic metals', 'type': 'Material', 'time': '*', 'value': 0.0, 'bundles': ['0'], 'color': 'rgb(160,82,45)', 'title': 'Material', 'opacity': 1.0}, {'source': 'inputs^Glass', 'target': 'sectors^Chemical sector', 'type': 'Material', 'time': '*', 'value': 0.0, 'bundles': ['0'], 'color': 'rgb(160,82,45)', 'title': 'Material', 'opacity': 1.0}, {'source': 'inputs^Glass', 'target': 'sectors^Non-metallic\\nminerals', 'type': 'Material', 'time': '*', 'value': 1679756.753, 'bundles': ['0'], 'color': 'rgb(160,82,45)', 'title': 'Material', 'opacity': 1.0}, {'source': 'inputs^Glass', 'target': 'sectors^Paper sector', 'type': 'Material', 'time': '*', 'value': 0.0, 'bundles': ['0'], 'color': 'rgb(160,82,45)', 'title': 'Material', 'opacity': 1.0}, {'source': 'inputs^Glass', 'target': 'sectors^Rubber and\\nplastic', 'type': 'Material', 'time': '*', 'value': 144251.38328, 'bundles': ['0'], 'color': 'rgb(160,82,45)', 'title': 'Material', 'opacity': 1.0}, {'source': 'inputs^Leather', 'target': 'sectors^Basic metals', 'type': 'Material', 'time': '*', 'value': 0.15810239999999998, 'bundles': ['0'], 'color': 'rgb(160,82,45)', 'title': 'Material', 'opacity': 1.0}, {'source': 'inputs^Leather', 'target': 'sectors^Chemical sector', 'type': 'Material', 'time': '*', 'value': 0.0, 'bundles': ['0'], 'color': 'rgb(160,82,45)', 'title': 'Material', 'opacity': 1.0}, {'source': 'inputs^Leather', 'target': 'sectors^Non-metallic\\nminerals', 'type': 'Material', 'time': '*', 'value': 0.0, 'bundles': ['0'], 'color': 'rgb(160,82,45)', 'title': 'Material', 'opacity': 1.0}, {'source': 'inputs^Leather', 'target': 'sectors^Paper sector', 'type': 'Material', 'time': '*', 'value': 6.2450448, 'bundles': ['0'], 'color': 'rgb(160,82,45)', 'title': 'Material', 'opacity': 1.0}, {'source': 'inputs^Leather', 'target': 'sectors^Rubber and\\nplastic', 'type': 'Material', 'time': '*', 'value': 278.02307039999994, 'bundles': ['0'], 'color': 'rgb(160,82,45)', 'title': 'Material', 'opacity': 1.0}, {'source': 'inputs^Lime', 'target': 'sectors^Basic metals', 'type': 'Material', 'time': '*', 'value': 2143786.02532097, 'bundles': ['0'], 'color': 'rgb(160,82,45)', 'title': 'Material', 'opacity': 1.0}, {'source': 'inputs^Lime', 'target': 'sectors^Chemical sector', 'type': 'Material', 'time': '*', 'value': 285936.95613409416, 'bundles': ['0'], 'color': 'rgb(160,82,45)', 'title': 'Material', 'opacity': 1.0}, {'source': 'inputs^Lime', 'target': 'sectors^Non-metallic\\nminerals', 'type': 'Material', 'time': '*', 'value': 912074.5363766049, 'bundles': ['0'], 'color': 'rgb(160,82,45)', 'title': 'Material', 'opacity': 1.0}, {'source': 'inputs^Lime', 'target': 'sectors^Paper sector', 'type': 'Material', 'time': '*', 'value': 35563.64300998574, 'bundles': ['0'], 'color': 'rgb(160,82,45)', 'title': 'Material', 'opacity': 1.0}, {'source': 'inputs^Lime', 'target': 'sectors^Rubber and\\nplastic', 'type': 'Material', 'time': '*', 'value': 3518.4557774607706, 'bundles': ['0'], 'color': 'rgb(160,82,45)', 'title': 'Material', 'opacity': 1.0}, {'source': 'inputs^Wood and\\npaper products', 'target': 'sectors^Basic metals', 'type': 'Material', 'time': '*', 'value': 436589.8931, 'bundles': ['0'], 'color': 'rgb(160,82,45)', 'title': 'Material', 'opacity': 1.0}, {'source': 'inputs^Wood and\\npaper products', 'target': 'sectors^Chemical sector', 'type': 'Material', 'time': '*', 'value': 261370.92080000002, 'bundles': ['0'], 'color': 'rgb(160,82,45)', 'title': 'Material', 'opacity': 1.0}, {'source': 'inputs^Wood and\\npaper products', 'target': 'sectors^Non-metallic\\nminerals', 'type': 'Material', 'time': '*', 'value': 1900436.6591000003, 'bundles': ['0'], 'color': 'rgb(160,82,45)', 'title': 'Material', 'opacity': 1.0}, {'source': 'inputs^Wood and\\npaper products', 'target': 'sectors^Paper sector', 'type': 'Material', 'time': '*', 'value': 97433438.0303, 'bundles': ['0'], 'color': 'rgb(160,82,45)', 'title': 'Material', 'opacity': 1.0}, {'source': 'inputs^Wood and\\npaper products', 'target': 'sectors^Rubber and\\nplastic', 'type': 'Material', 'time': '*', 'value': 3047011.6331, 'bundles': ['0'], 'color': 'rgb(160,82,45)', 'title': 'Material', 'opacity': 1.0}, {'source': 'inputs^Polymers', 'target': 'sectors^Basic metals', 'type': 'Material', 'time': '*', 'value': 34004.899999999994, 'bundles': ['0'], 'color': 'rgb(160,82,45)', 'title': 'Material', 'opacity': 1.0}, {'source': 'inputs^Polymers', 'target': 'sectors^Chemical sector', 'type': 'Material', 'time': '*', 'value': 3769938.5999999996, 'bundles': ['0'], 'color': 'rgb(160,82,45)', 'title': 'Material', 'opacity': 1.0}, {'source': 'inputs^Polymers', 'target': 'sectors^Non-metallic\\nminerals', 'type': 'Material', 'time': '*', 'value': 1000969.1999999998, 'bundles': ['0'], 'color': 'rgb(160,82,45)', 'title': 'Material', 'opacity': 1.0}, {'source': 'inputs^Polymers', 'target': 'sectors^Paper sector', 'type': 'Material', 'time': '*', 'value': 596935.6, 'bundles': ['0'], 'color': 'rgb(160,82,45)', 'title': 'Material', 'opacity': 1.0}, {'source': 'inputs^Polymers', 'target': 'sectors^Rubber and\\nplastic', 'type': 'Material', 'time': '*', 'value': 71465953.89999999, 'bundles': ['0'], 'color': 'rgb(160,82,45)', 'title': 'Material', 'opacity': 1.0}, {'source': 'inputs^Sodium hydroxide', 'target': 'sectors^Basic metals', 'type': 'Material', 'time': '*', 'value': 22462.20985468983, 'bundles': ['0'], 'color': 'rgb(160,82,45)', 'title': 'Material', 'opacity': 1.0}, {'source': 'inputs^Sodium hydroxide', 'target': 'sectors^Chemical sector', 'type': 'Material', 'time': '*', 'value': 179922.39456761975, 'bundles': ['0'], 'color': 'rgb(160,82,45)', 'title': 'Material', 'opacity': 1.0}, {'source': 'inputs^Sodium hydroxide', 'target': 'sectors^Non-metallic\\nminerals', 'type': 'Material', 'time': '*', 'value': 21282.452271659018, 'bundles': ['0'], 'color': 'rgb(160,82,45)', 'title': 'Material', 'opacity': 1.0}, {'source': 'inputs^Sodium hydroxide', 'target': 'sectors^Paper sector', 'type': 'Material', 'time': '*', 'value': 55810.02420169412, 'bundles': ['0'], 'color': 'rgb(160,82,45)', 'title': 'Material', 'opacity': 1.0}, {'source': 'inputs^Sodium hydroxide', 'target': 'sectors^Rubber and\\nplastic', 'type': 'Material', 'time': '*', 'value': 380.14411008770617, 'bundles': ['0'], 'color': 'rgb(160,82,45)', 'title': 'Material', 'opacity': 1.0}, {'source': 'inputs^Steel', 'target': 'sectors^Basic metals', 'type': 'Material', 'time': '*', 'value': 20355065.599999998, 'bundles': ['0'], 'color': 'rgb(160,82,45)', 'title': 'Material', 'opacity': 1.0}, {'source': 'inputs^Steel', 'target': 'sectors^Chemical sector', 'type': 'Material', 'time': '*', 'value': 7350.8, 'bundles': ['0'], 'color': 'rgb(160,82,45)', 'title': 'Material', 'opacity': 1.0}, {'source': 'inputs^Steel', 'target': 'sectors^Non-metallic\\nminerals', 'type': 'Material', 'time': '*', 'value': 1188721.5999999999, 'bundles': ['0'], 'color': 'rgb(160,82,45)', 'title': 'Material', 'opacity': 1.0}, {'source': 'inputs^Steel', 'target': 'sectors^Paper sector', 'type': 'Material', 'time': '*', 'value': 21501.6, 'bundles': ['0'], 'color': 'rgb(160,82,45)', 'title': 'Material', 'opacity': 1.0}, {'source': 'inputs^Steel', 'target': 'sectors^Rubber and\\nplastic', 'type': 'Material', 'time': '*', 'value': 562394.0, 'bundles': ['0'], 'color': 'rgb(160,82,45)', 'title': 'Material', 'opacity': 1.0}, {'source': 'inputs^Sulphur and sulphuric acid', 'target': 'sectors^Basic metals', 'type': 'Material', 'time': '*', 'value': 27165.940708995666, 'bundles': ['0'], 'color': 'rgb(160,82,45)', 'title': 'Material', 'opacity': 1.0}, {'source': 'inputs^Sulphur and sulphuric acid', 'target': 'sectors^Chemical sector', 'type': 'Material', 'time': '*', 'value': 10825111.553579526, 'bundles': ['0'], 'color': 'rgb(160,82,45)', 'title': 'Material', 'opacity': 1.0}, {'source': 'inputs^Sulphur and sulphuric acid', 'target': 'sectors^Non-metallic\\nminerals', 'type': 'Material', 'time': '*', 'value': 554.4957038826697, 'bundles': ['0'], 'color': 'rgb(160,82,45)', 'title': 'Material', 'opacity': 1.0}, {'source': 'inputs^Sulphur and sulphuric acid', 'target': 'sectors^Paper sector', 'type': 'Material', 'time': '*', 'value': 38863.66630300682, 'bundles': ['0'], 'color': 'rgb(160,82,45)', 'title': 'Material', 'opacity': 1.0}, {'source': 'inputs^Sulphur and sulphuric acid', 'target': 'sectors^Rubber and\\nplastic', 'type': 'Material', 'time': '*', 'value': 89304.5445305439, 'bundles': ['0'], 'color': 'rgb(160,82,45)', 'title': 'Material', 'opacity': 1.0}, {'source': 'inputs^Synthetic rubber', 'target': 'sectors^Basic metals', 'type': 'Material', 'time': '*', 'value': 0.0, 'bundles': ['0'], 'color': 'rgb(160,82,45)', 'title': 'Material', 'opacity': 1.0}, {'source': 'inputs^Synthetic rubber', 'target': 'sectors^Chemical sector', 'type': 'Material', 'time': '*', 'value': 173900.0, 'bundles': ['0'], 'color': 'rgb(160,82,45)', 'title': 'Material', 'opacity': 1.0}, {'source': 'inputs^Synthetic rubber', 'target': 'sectors^Non-metallic\\nminerals', 'type': 'Material', 'time': '*', 'value': 74518.0, 'bundles': ['0'], 'color': 'rgb(160,82,45)', 'title': 'Material', 'opacity': 1.0}, {'source': 'inputs^Synthetic rubber', 'target': 'sectors^Paper sector', 'type': 'Material', 'time': '*', 'value': 0.0, 'bundles': ['0'], 'color': 'rgb(160,82,45)', 'title': 'Material', 'opacity': 1.0}, {'source': 'inputs^Synthetic rubber', 'target': 'sectors^Rubber and\\nplastic', 'type': 'Material', 'time': '*', 'value': 7029223.0, 'bundles': ['0'], 'color': 'rgb(160,82,45)', 'title': 'Material', 'opacity': 1.0}, {'source': 'inputs^Metals (Silver, tin, zinc etc.)', 'target': 'sectors^Basic metals', 'type': 'Material', 'time': '*', 'value': 3018770.2409862764, 'bundles': ['0'], 'color': 'rgb(160,82,45)', 'title': 'Material', 'opacity': 1.0}, {'source': 'inputs^Metals (Silver, tin, zinc etc.)', 'target': 'sectors^Chemical sector', 'type': 'Material', 'time': '*', 'value': 78563.27293570421, 'bundles': ['0'], 'color': 'rgb(160,82,45)', 'title': 'Material', 'opacity': 1.0}, {'source': 'inputs^Metals (Silver, tin, zinc etc.)', 'target': 'sectors^Non-metallic\\nminerals', 'type': 'Material', 'time': '*', 'value': 93608.08893353185, 'bundles': ['0'], 'color': 'rgb(160,82,45)', 'title': 'Material', 'opacity': 1.0}, {'source': 'inputs^Metals (Silver, tin, zinc etc.)', 'target': 'sectors^Paper sector', 'type': 'Material', 'time': '*', 'value': 2979.5, 'bundles': ['0'], 'color': 'rgb(160,82,45)', 'title': 'Material', 'opacity': 1.0}, {'source': 'inputs^Metals (Silver, tin, zinc etc.)', 'target': 'sectors^Rubber and\\nplastic', 'type': 'Material', 'time': '*', 'value': 488611.06634511333, 'bundles': ['0'], 'color': 'rgb(160,82,45)', 'title': 'Material', 'opacity': 1.0}, {'source': 'sectors^Basic metals', 'target': 'outputs^Aluminium', 'type': 'Product', 'time': '*', 'value': 224200.0, 'bundles': ['1'], 'color': 'rgb(255,127,80)', 'title': 'Product', 'opacity': 1.0}, {'source': 'sectors^Basic metals', 'target': 'outputs^Copper products', 'type': 'Product', 'time': '*', 'value': 1303488.7818696883, 'bundles': ['1'], 'color': 'rgb(255,127,80)', 'title': 'Product', 'opacity': 1.0}, {'source': 'sectors^Basic metals', 'target': 'outputs^Crude steel', 'type': 'Product', 'time': '*', 'value': 63491600.0, 'bundles': ['1'], 'color': 'rgb(255,127,80)', 'title': 'Product', 'opacity': 1.0}, {'source': 'sectors^Basic metals', 'target': 'outputs^Silver', 'type': 'Product', 'time': '*', 'value': 1177.5203442719912, 'bundles': ['1'], 'color': 'rgb(255,127,80)', 'title': 'Product', 'opacity': 1.0}, {'source': 'sectors^Basic metals', 'target': 'outputs^Zinc and zinc ores', 'type': 'Product', 'time': '*', 'value': 648615.5728927641, 'bundles': ['1'], 'color': 'rgb(255,127,80)', 'title': 'Product', 'opacity': 1.0}, {'source': 'sectors^Basic metals', 'target': 'loss^Loss', 'type': 'Loss', 'time': '*', 'value': 57864525.169944584, 'bundles': ['2'], 'color': 'rgb(224, 224, 224)', 'title': 'Loss', 'opacity': 1.0}, {'source': 'sectors^Non-metallic\\nminerals', 'target': 'outputs^Building paper', 'type': 'Product', 'time': '*', 'value': 2916480.000000001, 'bundles': ['1'], 'color': 'rgb(255,127,80)', 'title': 'Product', 'opacity': 1.0}, {'source': 'sectors^Non-metallic\\nminerals', 'target': 'outputs^Cement', 'type': 'Product', 'time': '*', 'value': 25089850.000000004, 'bundles': ['1'], 'color': 'rgb(255,127,80)', 'title': 'Product', 'opacity': 1.0}, {'source': 'sectors^Non-metallic\\nminerals', 'target': 'outputs^Clay bricks', 'type': 'Product', 'time': '*', 'value': 58951.47030056767, 'bundles': ['1'], 'color': 'rgb(255,127,80)', 'title': 'Product', 'opacity': 1.0}, {'source': 'sectors^Non-metallic\\nminerals', 'target': 'outputs^Glass and\\nporcelain products', 'type': 'Product', 'time': '*', 'value': 2165304.8611209276, 'bundles': ['1'], 'color': 'rgb(255,127,80)', 'title': 'Product', 'opacity': 1.0}, {'source': 'sectors^Non-metallic\\nminerals', 'target': 'outputs^Gypsum plaster', 'type': 'Product', 'time': '*', 'value': 173751.52465586338, 'bundles': ['1'], 'color': 'rgb(255,127,80)', 'title': 'Product', 'opacity': 1.0}, {'source': 'sectors^Non-metallic\\nminerals', 'target': 'outputs^Lime', 'type': 'Product', 'time': '*', 'value': 4408284.593437946, 'bundles': ['1'], 'color': 'rgb(255,127,80)', 'title': 'Product', 'opacity': 1.0}, {'source': 'sectors^Non-metallic\\nminerals', 'target': 'loss^Loss', 'type': 'Loss', 'time': '*', 'value': 88882349.28709826, 'bundles': ['2'], 'color': 'rgb(224, 224, 224)', 'title': 'Loss', 'opacity': 1.0}, {'source': 'sectors^Paper sector', 'target': 'outputs^Paper products', 'type': 'Product', 'time': '*', 'value': 117775200.00000001, 'bundles': ['1'], 'color': 'rgb(255,127,80)', 'title': 'Product', 'opacity': 1.0}, {'source': 'sectors^Paper sector', 'target': 'outputs^Wood pulp', 'type': 'Product', 'time': '*', 'value': 18333000.0, 'bundles': ['1'], 'color': 'rgb(255,127,80)', 'title': 'Product', 'opacity': 1.0}, {'source': 'sectors^Paper sector', 'target': 'loss^Loss', 'type': 'Loss', 'time': '*', 'value': 25656926.677535713, 'bundles': ['2'], 'color': 'rgb(224, 224, 224)', 'title': 'Loss', 'opacity': 1.0}, {'source': 'sectors^Chemical sector', 'target': 'outputs^Acids', 'type': 'Product', 'time': '*', 'value': 5256743.080404676, 'bundles': ['1'], 'color': 'rgb(255,127,80)', 'title': 'Product', 'opacity': 1.0}, {'source': 'sectors^Chemical sector', 'target': 'outputs^Caprolactam', 'type': 'Product', 'time': '*', 'value': 5395500.000000001, 'bundles': ['1'], 'color': 'rgb(255,127,80)', 'title': 'Product', 'opacity': 1.0}, {'source': 'sectors^Chemical sector', 'target': 'outputs^Chemical fibres', 'type': 'Product', 'time': '*', 'value': 1007760.0, 'bundles': ['1'], 'color': 'rgb(255,127,80)', 'title': 'Product', 'opacity': 1.0}, {'source': 'sectors^Chemical sector', 'target': 'outputs^Chlorine', 'type': 'Product', 'time': '*', 'value': 490680.0, 'bundles': ['1'], 'color': 'rgb(255,127,80)', 'title': 'Product', 'opacity': 1.0}, {'source': 'sectors^Chemical sector', 'target': 'outputs^Ethylene', 'type': 'Product', 'time': '*', 'value': 26426114.44988629, 'bundles': ['1'], 'color': 'rgb(255,127,80)', 'title': 'Product', 'opacity': 1.0}, {'source': 'sectors^Chemical sector', 'target': 'outputs^Fertilisers', 'type': 'Product', 'time': '*', 'value': 52619650.0, 'bundles': ['1'], 'color': 'rgb(255,127,80)', 'title': 'Product', 'opacity': 1.0}, {'source': 'sectors^Chemical sector', 'target': 'outputs^Other chemicals', 'type': 'Product', 'time': '*', 'value': 11094358.735107703, 'bundles': ['1'], 'color': 'rgb(255,127,80)', 'title': 'Product', 'opacity': 1.0}, {'source': 'sectors^Chemical sector', 'target': 'outputs^Paints and varnishes', 'type': 'Product', 'time': '*', 'value': 35742900.0, 'bundles': ['1'], 'color': 'rgb(255,127,80)', 'title': 'Product', 'opacity': 1.0}, {'source': 'sectors^Chemical sector', 'target': 'outputs^Polymers and\\npolymer products', 'type': 'Product', 'time': '*', 'value': 49889252.0, 'bundles': ['1'], 'color': 'rgb(255,127,80)', 'title': 'Product', 'opacity': 1.0}, {'source': 'sectors^Chemical sector', 'target': 'outputs^Propylene', 'type': 'Product', 'time': '*', 'value': 18608163.24590733, 'bundles': ['1'], 'color': 'rgb(255,127,80)', 'title': 'Product', 'opacity': 1.0}, {'source': 'sectors^Chemical sector', 'target': 'outputs^Rubber and tyres', 'type': 'Product', 'time': '*', 'value': 7141000.0, 'bundles': ['1'], 'color': 'rgb(255,127,80)', 'title': 'Product', 'opacity': 1.0}, {'source': 'sectors^Chemical sector', 'target': 'outputs^Soap', 'type': 'Product', 'time': '*', 'value': 0.0, 'bundles': ['1'], 'color': 'rgb(255,127,80)', 'title': 'Product', 'opacity': 1.0}, {'source': 'sectors^Chemical sector', 'target': 'outputs^Zinc and zinc ores', 'type': 'Product', 'time': '*', 'value': 3489.7382327639175, 'bundles': ['1'], 'color': 'rgb(255,127,80)', 'title': 'Product', 'opacity': 1.0}, {'source': 'sectors^Chemical sector', 'target': 'outputs^_', 'type': 'Product', 'time': '*', 'value': 0.0, 'bundles': ['1'], 'color': 'rgb(255,127,80)', 'title': 'Product', 'opacity': 1.0}, {'source': 'sectors^Chemical sector', 'target': 'loss^Loss', 'type': 'Loss', 'time': '*', 'value': 68780870.18754789, 'bundles': ['2'], 'color': 'rgb(224, 224, 224)', 'title': 'Loss', 'opacity': 1.0}, {'source': 'sectors^Rubber and\\nplastic', 'target': 'outputs^Polymers and\\npolymer products', 'type': 'Product', 'time': '*', 'value': 7917070.0, 'bundles': ['1'], 'color': 'rgb(255,127,80)', 'title': 'Product', 'opacity': 1.0}, {'source': 'sectors^Rubber and\\nplastic', 'target': 'outputs^Rubber and tyres', 'type': 'Product', 'time': '*', 'value': 40279199.185, 'bundles': ['1'], 'color': 'rgb(255,127,80)', 'title': 'Product', 'opacity': 1.0}, {'source': 'sectors^Rubber and\\nplastic', 'target': 'loss^Loss', 'type': 'Loss', 'time': '*', 'value': 55970348.37324369, 'bundles': ['2'], 'color': 'rgb(224, 224, 224)', 'title': 'Loss', 'opacity': 1.0}], margins={'left': 250, 'right': 250}, nodes=[{'id': 'inputs^Oil products', 'title': 'Oil products', 'style': 'group', 'direction': 'r', 'visibility': 'visible'}, {'id': 'inputs^Biomass and waste', 'title': 'Biomass and waste', 'style': 'group', 'direction': 'r', 'visibility': 'visible'}, {'id': 'inputs^Natural gas', 'title': 'Natural gas', 'style': 'group', 'direction': 'r', 'visibility': 'visible'}, {'id': 'inputs^Coal', 'title': 'Coal', 'style': 'group', 'direction': 'r', 'visibility': 'visible'}, {'id': 'inputs^Peat and wood', 'title': 'Peat and wood', 'style': 'group', 'direction': 'r', 'visibility': 'visible'}, {'id': 'inputs^Electricity', 'title': 'Electricity', 'style': 'group', 'direction': 'r', 'visibility': 'visible'}, {'id': 'inputs^Heat', 'title': 'Heat', 'style': 'group', 'direction': 'r', 'visibility': 'visible'}, {'id': 'inputs^Coal briquettes', 'title': 'Coal briquettes', 'style': 'group', 'direction': 'r', 'visibility': 'visible'}, {'id': 'inputs^Coke', 'title': 'Coke', 'style': 'group', 'direction': 'r', 'visibility': 'visible'}, {'id': 'inputs^Coke oven gas', 'title': 'Coke oven gas', 'style': 'group', 'direction': 'r', 'visibility': 'visible'}, {'id': 'inputs^Cement', 'title': 'Cement', 'style': 'group', 'direction': 'r', 'visibility': 'visible'}, {'id': 'inputs^Chemical fibres', 'title': 'Chemical fibres', 'style': 'group', 'direction': 'r', 'visibility': 'visible'}, {'id': 'inputs^Crude oil', 'title': 'Crude oil', 'style': 'group', 'direction': 'r', 'visibility': 'visible'}, {'id': 'inputs^Disodium carbonate', 'title': 'Disodium carbonate', 'style': 'group', 'direction': 'r', 'visibility': 'visible'}, {'id': 'inputs^Glass', 'title': 'Glass', 'style': 'group', 'direction': 'r', 'visibility': 'visible'}, {'id': 'inputs^Leather', 'title': 'Leather', 'style': 'group', 'direction': 'r', 'visibility': 'visible'}, {'id': 'inputs^Lime', 'title': 'Lime', 'style': 'group', 'direction': 'r', 'visibility': 'visible'}, {'id': 'inputs^Wood and\\npaper products', 'title': 'Wood and\\npaper products', 'style': 'group', 'direction': 'r', 'visibility': 'visible'}, {'id': 'inputs^Polymers', 'title': 'Polymers', 'style': 'group', 'direction': 'r', 'visibility': 'visible'}, {'id': 'inputs^Sodium hydroxide', 'title': 'Sodium hydroxide', 'style': 'group', 'direction': 'r', 'visibility': 'visible'}, {'id': 'inputs^Steel', 'title': 'Steel', 'style': 'group', 'direction': 'r', 'visibility': 'visible'}, {'id': 'inputs^Sulphur and sulphuric acid', 'title': 'Sulphur and sulphuric acid', 'style': 'group', 'direction': 'r', 'visibility': 'visible'}, {'id': 'inputs^Synthetic rubber', 'title': 'Synthetic rubber', 'style': 'group', 'direction': 'r', 'visibility': 'visible'}, {'id': 'inputs^Metals (Silver, tin, zinc etc.)', 'title': 'Metals (Silver, tin, zinc etc.)', 'style': 'group', 'direction': 'r', 'visibility': 'visible'}, {'id': 'sectors^Basic metals', 'title': 'Basic metals', 'style': 'group', 'direction': 'r', 'visibility': 'visible'}, {'id': 'sectors^Non-metallic\\nminerals', 'title': 'Non-metallic\\nminerals', 'style': 'group', 'direction': 'r', 'visibility': 'visible'}, {'id': 'sectors^Paper sector', 'title': 'Paper sector', 'style': 'group', 'direction': 'r', 'visibility': 'visible'}, {'id': 'sectors^Chemical sector', 'title': 'Chemical sector', 'style': 'group', 'direction': 'r', 'visibility': 'visible'}, {'id': 'sectors^Rubber and\\nplastic', 'title': 'Rubber and\\nplastic', 'style': 'group', 'direction': 'r', 'visibility': 'visible'}, {'id': 'outputs^Aluminium', 'title': 'Aluminium', 'style': 'group', 'direction': 'r', 'visibility': 'visible'}, {'id': 'outputs^Crude steel', 'title': 'Crude steel', 'style': 'group', 'direction': 'r', 'visibility': 'visible'}, {'id': 'outputs^Copper products', 'title': 'Copper products', 'style': 'group', 'direction': 'r', 'visibility': 'visible'}, {'id': 'outputs^Silver', 'title': 'Silver', 'style': 'group', 'direction': 'r', 'visibility': 'visible'}, {'id': 'outputs^Building paper', 'title': 'Building paper', 'style': 'group', 'direction': 'r', 'visibility': 'visible'}, {'id': 'outputs^Clay bricks', 'title': 'Clay bricks', 'style': 'group', 'direction': 'r', 'visibility': 'visible'}, {'id': 'outputs^Cement', 'title': 'Cement', 'style': 'group', 'direction': 'r', 'visibility': 'visible'}, {'id': 'outputs^Gypsum plaster', 'title': 'Gypsum plaster', 'style': 'group', 'direction': 'r', 'visibility': 'visible'}, {'id': 'outputs^Lime', 'title': 'Lime', 'style': 'group', 'direction': 'r', 'visibility': 'visible'}, {'id': 'outputs^Glass and\\nporcelain products', 'title': 'Glass and\\nporcelain products', 'style': 'group', 'direction': 'r', 'visibility': 'visible'}, {'id': 'outputs^Paper products', 'title': 'Paper products', 'style': 'group', 'direction': 'r', 'visibility': 'visible'}, {'id': 'outputs^Wood pulp', 'title': 'Wood pulp', 'style': 'group', 'direction': 'r', 'visibility': 'visible'}, {'id': 'outputs^Acids', 'title': 'Acids', 'style': 'group', 'direction': 'r', 'visibility': 'visible'}, {'id': 'outputs^Caprolactam', 'title': 'Caprolactam', 'style': 'group', 'direction': 'r', 'visibility': 'visible'}, {'id': 'outputs^Chemical fibres', 'title': 'Chemical fibres', 'style': 'group', 'direction': 'r', 'visibility': 'visible'}, {'id': 'outputs^Chlorine', 'title': 'Chlorine', 'style': 'group', 'direction': 'r', 'visibility': 'visible'}, {'id': 'outputs^Other chemicals', 'title': 'Other chemicals', 'style': 'group', 'direction': 'r', 'visibility': 'visible'}, {'id': 'outputs^Ethylene', 'title': 'Ethylene', 'style': 'group', 'direction': 'r', 'visibility': 'visible'}, {'id': 'outputs^Fertilisers', 'title': 'Fertilisers', 'style': 'group', 'direction': 'r', 'visibility': 'visible'}, {'id': 'outputs^Paints and varnishes', 'title': 'Paints and varnishes', 'style': 'group', 'direction': 'r', 'visibility': 'visible'}, {'id': 'outputs^Propylene', 'title': 'Propylene', 'style': 'group', 'direction': 'r', 'visibility': 'visible'}, {'id': 'outputs^Soap', 'title': 'Soap', 'style': 'group', 'direction': 'r', 'visibility': 'visible'}, {'id': 'outputs^Zinc and zinc ores', 'title': 'Zinc and zinc ores', 'style': 'group', 'direction': 'r', 'visibility': 'visible'}, {'id': 'outputs^Polymers and\\npolymer products', 'title': 'Polymers and\\npolymer products', 'style': 'group', 'direction': 'r', 'visibility': 'visible'}, {'id': 'outputs^Rubber and tyres', 'title': 'Rubber and tyres', 'style': 'group', 'direction': 'r', 'visibility': 'visible'}, {'id': 'outputs^_', 'title': '_', 'style': 'group', 'direction': 'r', 'visibility': 'visible'}, {'id': 'loss^Loss', 'title': 'Loss', 'style': 'group', 'direction': 'r', 'visibility': 'visible'}], order=[(('inputs^Oil products', 'inputs^Biomass and waste', 'inputs^Natural gas', 'inputs^Coal', 'inputs^Peat and wood', 'inputs^Electricity', 'inputs^Heat', 'inputs^Coal briquettes', 'inputs^Coke', 'inputs^Coke oven gas', 'inputs^Cement', 'inputs^Chemical fibres', 'inputs^Crude oil', 'inputs^Disodium carbonate', 'inputs^Glass', 'inputs^Leather', 'inputs^Lime', 'inputs^Wood and\\npaper products', 'inputs^Polymers', 'inputs^Sodium hydroxide', 'inputs^Steel', 'inputs^Sulphur and sulphuric acid', 'inputs^Synthetic rubber', 'inputs^Metals (Silver, tin, zinc etc.)'),), (('sectors^Basic metals', 'sectors^Non-metallic\\nminerals', 'sectors^Paper sector', 'sectors^Chemical sector', 'sectors^Rubber and\\nplastic'),), (('outputs^Aluminium', 'outputs^Crude steel', 'outputs^Copper products', 'outputs^Silver', 'outputs^Building paper', 'outputs^Clay bricks', 'outputs^Cement', 'outputs^Gypsum plaster', 'outputs^Lime', 'outputs^Glass and\\nporcelain products', 'outputs^Paper products', 'outputs^Wood pulp', 'outputs^Acids', 'outputs^Caprolactam', 'outputs^Chemical fibres', 'outputs^Chlorine', 'outputs^Other chemicals', 'outputs^Ethylene', 'outputs^Fertilisers', 'outputs^Paints and varnishes', 'outputs^Propylene', 'outputs^Soap', 'outputs^Zinc and zinc ores', 'outputs^Polymers and\\npolymer products', 'outputs^Rubber and tyres', 'outputs^_', 'loss^Loss'),)])"
      ]
     },
     "metadata": {},
     "output_type": "display_data"
    }
   ],
   "source": [
    "from collections import defaultdict\n",
    "\n",
    "man_flows = pd.read_excel(\"Manufacturing.xlsx\",sheet_name='Python data')\n",
    "man_dim = pd.read_excel(\"Manufacturing_dimensions.xlsx\",index_col=0)\n",
    "dataset = Dataset(man_flows,dim_process=man_dim)\n",
    "\n",
    "partition_energy = Partition.Simple('process.energy', ['Materials', 'Energy'])\n",
    "partition_sectors = Partition.Simple('process.sectors', ['Basic metals',('Non-metallic\\nminerals',['Non-metallic mineral products']),\n",
    "     ('Paper sector',['Paper and paper products']),('Chemical sector',['Chemicals and chemical products']),('Rubber and\\nplastic',['Rubber and plastic products'])])\n",
    "\n",
    "partition_sectors2 = Partition.Simple('source', ['Basic metals','Non-metallic mineral products',\n",
    "     'Paper and paper products','Chemicals and chemical products','Rubber and plastic products'])\n",
    "\n",
    "# inputs=list(np.unique(man_dim['input']))\n",
    "# inputs.remove('None')\n",
    "partition_inputs=Partition.Simple('process.input', [ 'Oil products',('Biomass and waste',['Biomass, waste and other sources']),'Natural gas',('Coal',['Lignite','Coking coal','Steam Coal']),'Peat and wood',\n",
    "       'Electricity','Heat',('Coal briquettes',['Hard coal briquettes']),'Coke', 'Coke oven gas', \n",
    "        'Cement', 'Chemical fibres',  \n",
    "        'Crude oil', 'Disodium carbonate', \n",
    "        'Glass',   \n",
    "       'Leather',  'Lime', \n",
    "        ('Wood and\\npaper products',['Fibreboards','Building paper','Sawnwood','Paper and paperboard','Particle boards','Wood pulp']),         \n",
    "       ('Polymers',['Polyethylene', 'Polypropylene', 'Polystyrene','Polyvinyl chloride',]),\n",
    "           'Sodium hydroxide',\n",
    "       'Steel', ('Sulphur and sulphuric acid',['Sulphur','Sulphuric acid',]),\n",
    "       'Synthetic rubber', ('Metals (Silver, tin, zinc etc.)',['Lead','Aluminium','Tin','Zinc','Silver','Copper',])  ])\n",
    "\n",
    "# outputs=list(np.unique(man_dim['output']))\n",
    "# outputs.remove('None')\n",
    "partition_outputs=Partition.Simple('process.output', [('Aluminium',['Aluminium produced']),'Crude steel','Copper products',('Silver',['Silver produced']),  \n",
    "       ('Building paper',['Building paper produced']),'Clay bricks',('Cement',['Cement produced']),'Gypsum plaster',('Lime',['Lime produced']),\n",
    "        ('Glass and\\nporcelain products',['Glass products','Porcelain products']),('Paper products',['Paper and paperboard produced']),('Wood pulp',['Wood pulp produced']),('Acids',['Sulphuric acid produced','Phosphoric acid','Nitric acid','Acetic acid']), \n",
    "         'Caprolactam', ('Chemical fibres',['Chemical fibres produced']), 'Chlorine',('Other chemicals',['Butadiene','Toluene','Pesticide', 'Phenol','Ethyl alcohol','Sodium hydroxide produced','Glue','Acetone', 'Glycerol', 'Disodium carbonate produced']),\n",
    "         'Ethylene', ('Fertilisers',['Potassic fertiliser','Mixed fertiliser','Phosphatic fertiliser','Nitrogenous fertiliser',]),\n",
    "        'Paints and varnishes','Propylene', 'Soap', ('Zinc and zinc ores',['Zinc produced','Zinc white']),\n",
    "        ('Polymers and\\npolymer products',['Tubes of polyethylene','Tubes of PVC','Polyamides','Polyvinyl chloride produced','Acrylic polymers','Polystyrene produced','Epoxy resin','Polyethylene produced','Polypropylene produced',]),\n",
    "        ('Rubber and tyres',['Rubber','Synthetic rubber produced','Tyres'])])\n",
    "\n",
    "partition_loss=Partition.Simple('process.output', ['Loss'])\n",
    "\n",
    "nodes_man = {\n",
    "    'inputs': ProcessGroup('type == \"input\"',partition_inputs),\n",
    "    'sectors': ProcessGroup('type == \"sector\"',partition_sectors),\n",
    "    'outputs': ProcessGroup('type == \"output\"',partition_outputs),\n",
    "    'loss':  ProcessGroup('type == \"loss\"',partition_loss)\n",
    "}\n",
    "\n",
    "bundles_man = [\n",
    "    Bundle('inputs','sectors'),\n",
    "    Bundle('sectors','outputs'),\n",
    "    Bundle('sectors','loss'),\n",
    "]\n",
    "\n",
    "ordering_man=[\n",
    "    ['inputs'],\n",
    "    ['sectors'],\n",
    "    ['outputs','loss']\n",
    "]\n",
    "\n",
    "\n",
    "colour_partition=Partition.Simple('Colour',np.unique(man_flows['Colour']))\n",
    "\n",
    "sdd_man = SankeyDefinition(nodes_man, bundles_man, ordering_man,flow_partition=colour_partition)\n",
    "size_options = dict(width=1700, height=1800,\n",
    "                    margins=dict(left=250, right=250))\n",
    "palette = defaultdict(lambda:'#999')\n",
    "palette['Loss']='rgb(224, 224, 224)'\n",
    "palette['Product']='rgb(255,127,80)'\n",
    "palette['Energy']='rgb(178,34,34)'\n",
    "palette['Material']='rgb(160,82,45)'\n",
    "palette['Electricity']='rgb(119,136,153)'\n",
    "palette['Heat']='rgb(255,0,0)'\n",
    "palette['Coal and Peat']='rgb(47,79,79)'\n",
    "palette['Natural gas']='rgb(255,165,0)'\n",
    "palette['Biomass and Waste']='rgb(32,178,170)'\n",
    "palette['Oil products']='rgb(189,183,107)'\n",
    "\n",
    "\n",
    "show_sankey(sdd_man, dataset,measure='Exergy',palette=palette,**size_options).auto_save_png('Poland_manufacturing_Sankey.png')\n",
    "\n",
    "# weave(sdd_man, dataset,measures='Exergy',palette=palette).to_widget(**size_options)"
   ]
  },
  {
   "cell_type": "code",
   "execution_count": 5,
   "metadata": {
    "ExecuteTime": {
     "end_time": "2020-03-12T15:58:32.052503Z",
     "start_time": "2020-03-12T15:58:31.182017Z"
    }
   },
   "outputs": [
    {
     "data": {
      "application/vnd.jupyter.widget-view+json": {
       "model_id": "a3712d91b4104842b358b4d025528347",
       "version_major": 2,
       "version_minor": 0
      },
      "text/html": [
       "<p>Failed to display Jupyter Widget of type <code>SankeyWidget</code>.</p>\n",
       "<p>\n",
       "  If you're reading this message in the Jupyter Notebook or JupyterLab Notebook, it may mean\n",
       "  that the widgets JavaScript is still loading. If this message persists, it\n",
       "  likely means that the widgets JavaScript library is either not installed or\n",
       "  not enabled. See the <a href=\"https://ipywidgets.readthedocs.io/en/stable/user_install.html\">Jupyter\n",
       "  Widgets Documentation</a> for setup instructions.\n",
       "</p>\n",
       "<p>\n",
       "  If you're reading this message in another frontend (for example, a static\n",
       "  rendering on GitHub or <a href=\"https://nbviewer.jupyter.org/\">NBViewer</a>),\n",
       "  it may mean that your frontend doesn't currently support widgets.\n",
       "</p>\n"
      ],
      "text/plain": [
       "SankeyWidget(groups=[{'id': 'inputs', 'type': 'process', 'title': '', 'nodes': ['inputs^Oil products', 'inputs^Biomass and waste', 'inputs^Natural gas', 'inputs^Coal', 'inputs^Peat and wood', 'inputs^Electricity', 'inputs^Heat', 'inputs^Coal briquettes', 'inputs^Coke', 'inputs^Coke oven gas', 'inputs^Cement', 'inputs^Chemical fibres', 'inputs^Crude oil', 'inputs^Disodium carbonate', 'inputs^Glass', 'inputs^Leather', 'inputs^Lime', 'inputs^Wood and\\npaper products', 'inputs^Polymers', 'inputs^Sodium hydroxide', 'inputs^Steel', 'inputs^Sulphur and sulphuric acid', 'inputs^Synthetic rubber', 'inputs^Metals (Silver, tin, zinc etc.)']}, {'id': 'sectors', 'type': 'process', 'title': '', 'nodes': ['sectors^Basic metals']}, {'id': 'outputs', 'type': 'process', 'title': '', 'nodes': ['outputs^Aluminium', 'outputs^Crude steel', 'outputs^Copper products', 'outputs^Silver', 'outputs^Zinc and zinc ores']}, {'id': 'loss', 'type': 'process', 'title': '', 'nodes': ['loss^Loss']}], layout=Layout(height='1800', width='1700'), links=[{'source': 'inputs^Oil products', 'target': 'sectors^Basic metals', 'type': 'Oil products', 'time': '*', 'value': 1126320.0, 'title': 'Oil products', 'color': 'rgb(189,183,107)', 'opacity': 1.0}, {'source': 'inputs^Biomass and waste', 'target': 'sectors^Basic metals', 'type': 'Biomass and Waste', 'time': '*', 'value': 0.0, 'title': 'Biomass and Waste', 'color': 'rgb(32,178,170)', 'opacity': 1.0}, {'source': 'inputs^Natural gas', 'target': 'sectors^Basic metals', 'type': 'Natural gas', 'time': '*', 'value': 24760320.0, 'title': 'Natural gas', 'color': 'rgb(255,165,0)', 'opacity': 1.0}, {'source': 'inputs^Coal', 'target': 'sectors^Basic metals', 'type': 'Coal and Peat', 'time': '*', 'value': 3832950.0, 'title': 'Coal and Peat', 'color': 'rgb(47,79,79)', 'opacity': 1.0}, {'source': 'inputs^Peat and wood', 'target': 'sectors^Basic metals', 'type': 'Coal and Peat', 'time': '*', 'value': 1040.0, 'title': 'Coal and Peat', 'color': 'rgb(47,79,79)', 'opacity': 1.0}, {'source': 'inputs^Electricity', 'target': 'sectors^Basic metals', 'type': 'Electricity', 'time': '*', 'value': 30369000.0, 'title': 'Electricity', 'color': 'rgb(119,136,153)', 'opacity': 1.0}, {'source': 'inputs^Heat', 'target': 'sectors^Basic metals', 'type': 'Heat', 'time': '*', 'value': 912800.0, 'title': 'Heat', 'color': 'rgb(255,0,0)', 'opacity': 1.0}, {'source': 'inputs^Coal briquettes', 'target': 'sectors^Basic metals', 'type': 'Coal and Peat', 'time': '*', 'value': 0.0, 'title': 'Coal and Peat', 'color': 'rgb(47,79,79)', 'opacity': 1.0}, {'source': 'inputs^Coke', 'target': 'sectors^Basic metals', 'type': 'Energy', 'time': '*', 'value': 18163140.0, 'title': 'Energy', 'color': 'rgb(178,34,34)', 'opacity': 1.0}, {'source': 'inputs^Coke oven gas', 'target': 'sectors^Basic metals', 'type': 'Energy', 'time': '*', 'value': 18321640.0, 'title': 'Energy', 'color': 'rgb(178,34,34)', 'opacity': 1.0}, {'source': 'inputs^Cement', 'target': 'sectors^Basic metals', 'type': 'Material', 'time': '*', 'value': 3.5611400000000004, 'title': 'Material', 'color': 'rgb(160,82,45)', 'opacity': 1.0}, {'source': 'inputs^Chemical fibres', 'target': 'sectors^Basic metals', 'type': 'Material', 'time': '*', 'value': 0.0, 'title': 'Material', 'color': 'rgb(160,82,45)', 'opacity': 1.0}, {'source': 'inputs^Crude oil', 'target': 'sectors^Basic metals', 'type': 'Energy', 'time': '*', 'value': 0.0, 'title': 'Energy', 'color': 'rgb(178,34,34)', 'opacity': 1.0}, {'source': 'inputs^Disodium carbonate', 'target': 'sectors^Basic metals', 'type': 'Material', 'time': '*', 'value': 8548.515837949375, 'title': 'Material', 'color': 'rgb(160,82,45)', 'opacity': 1.0}, {'source': 'inputs^Glass', 'target': 'sectors^Basic metals', 'type': 'Material', 'time': '*', 'value': 0.0, 'title': 'Material', 'color': 'rgb(160,82,45)', 'opacity': 1.0}, {'source': 'inputs^Leather', 'target': 'sectors^Basic metals', 'type': 'Material', 'time': '*', 'value': 0.15810239999999998, 'title': 'Material', 'color': 'rgb(160,82,45)', 'opacity': 1.0}, {'source': 'inputs^Lime', 'target': 'sectors^Basic metals', 'type': 'Material', 'time': '*', 'value': 2143786.02532097, 'title': 'Material', 'color': 'rgb(160,82,45)', 'opacity': 1.0}, {'source': 'inputs^Wood and\\npaper products', 'target': 'sectors^Basic metals', 'type': 'Material', 'time': '*', 'value': 436589.8931, 'title': 'Material', 'color': 'rgb(160,82,45)', 'opacity': 1.0}, {'source': 'inputs^Polymers', 'target': 'sectors^Basic metals', 'type': 'Material', 'time': '*', 'value': 34004.899999999994, 'title': 'Material', 'color': 'rgb(160,82,45)', 'opacity': 1.0}, {'source': 'inputs^Sodium hydroxide', 'target': 'sectors^Basic metals', 'type': 'Material', 'time': '*', 'value': 22462.20985468983, 'title': 'Material', 'color': 'rgb(160,82,45)', 'opacity': 1.0}, {'source': 'inputs^Steel', 'target': 'sectors^Basic metals', 'type': 'Material', 'time': '*', 'value': 20355065.599999998, 'title': 'Material', 'color': 'rgb(160,82,45)', 'opacity': 1.0}, {'source': 'inputs^Sulphur and sulphuric acid', 'target': 'sectors^Basic metals', 'type': 'Material', 'time': '*', 'value': 27165.940708995666, 'title': 'Material', 'color': 'rgb(160,82,45)', 'opacity': 1.0}, {'source': 'inputs^Synthetic rubber', 'target': 'sectors^Basic metals', 'type': 'Material', 'time': '*', 'value': 0.0, 'title': 'Material', 'color': 'rgb(160,82,45)', 'opacity': 1.0}, {'source': 'inputs^Metals (Silver, tin, zinc etc.)', 'target': 'sectors^Basic metals', 'type': 'Material', 'time': '*', 'value': 3018770.2409862764, 'title': 'Material', 'color': 'rgb(160,82,45)', 'opacity': 1.0}, {'source': 'sectors^Basic metals', 'target': 'outputs^Aluminium', 'type': 'Product', 'time': '*', 'value': 224200.0, 'title': 'Product', 'color': 'rgb(255,127,80)', 'opacity': 1.0}, {'source': 'sectors^Basic metals', 'target': 'outputs^Copper products', 'type': 'Product', 'time': '*', 'value': 1303488.7818696883, 'title': 'Product', 'color': 'rgb(255,127,80)', 'opacity': 1.0}, {'source': 'sectors^Basic metals', 'target': 'outputs^Crude steel', 'type': 'Product', 'time': '*', 'value': 63491600.0, 'title': 'Product', 'color': 'rgb(255,127,80)', 'opacity': 1.0}, {'source': 'sectors^Basic metals', 'target': 'outputs^Silver', 'type': 'Product', 'time': '*', 'value': 1177.5203442719912, 'title': 'Product', 'color': 'rgb(255,127,80)', 'opacity': 1.0}, {'source': 'sectors^Basic metals', 'target': 'outputs^Zinc and zinc ores', 'type': 'Product', 'time': '*', 'value': 648615.5728927641, 'title': 'Product', 'color': 'rgb(255,127,80)', 'opacity': 1.0}, {'source': 'sectors^Basic metals', 'target': 'loss^Loss', 'type': 'Loss', 'time': '*', 'value': 57864525.169944584, 'title': 'Loss', 'color': 'rgb(224, 224, 224)', 'opacity': 1.0}], margins={'left': 250, 'right': 250}, nodes=[{'id': 'inputs^Oil products', 'title': 'Oil products', 'direction': 'r', 'hidden': False, 'type': 'process'}, {'id': 'inputs^Biomass and waste', 'title': 'Biomass and waste', 'direction': 'r', 'hidden': False, 'type': 'process'}, {'id': 'inputs^Natural gas', 'title': 'Natural gas', 'direction': 'r', 'hidden': False, 'type': 'process'}, {'id': 'inputs^Coal', 'title': 'Coal', 'direction': 'r', 'hidden': False, 'type': 'process'}, {'id': 'inputs^Peat and wood', 'title': 'Peat and wood', 'direction': 'r', 'hidden': False, 'type': 'process'}, {'id': 'inputs^Electricity', 'title': 'Electricity', 'direction': 'r', 'hidden': False, 'type': 'process'}, {'id': 'inputs^Heat', 'title': 'Heat', 'direction': 'r', 'hidden': False, 'type': 'process'}, {'id': 'inputs^Coal briquettes', 'title': 'Coal briquettes', 'direction': 'r', 'hidden': False, 'type': 'process'}, {'id': 'inputs^Coke', 'title': 'Coke', 'direction': 'r', 'hidden': False, 'type': 'process'}, {'id': 'inputs^Coke oven gas', 'title': 'Coke oven gas', 'direction': 'r', 'hidden': False, 'type': 'process'}, {'id': 'inputs^Cement', 'title': 'Cement', 'direction': 'r', 'hidden': False, 'type': 'process'}, {'id': 'inputs^Chemical fibres', 'title': 'Chemical fibres', 'direction': 'r', 'hidden': False, 'type': 'process'}, {'id': 'inputs^Crude oil', 'title': 'Crude oil', 'direction': 'r', 'hidden': False, 'type': 'process'}, {'id': 'inputs^Disodium carbonate', 'title': 'Disodium carbonate', 'direction': 'r', 'hidden': False, 'type': 'process'}, {'id': 'inputs^Glass', 'title': 'Glass', 'direction': 'r', 'hidden': False, 'type': 'process'}, {'id': 'inputs^Leather', 'title': 'Leather', 'direction': 'r', 'hidden': False, 'type': 'process'}, {'id': 'inputs^Lime', 'title': 'Lime', 'direction': 'r', 'hidden': False, 'type': 'process'}, {'id': 'inputs^Wood and\\npaper products', 'title': 'Wood and\\npaper products', 'direction': 'r', 'hidden': False, 'type': 'process'}, {'id': 'inputs^Polymers', 'title': 'Polymers', 'direction': 'r', 'hidden': False, 'type': 'process'}, {'id': 'inputs^Sodium hydroxide', 'title': 'Sodium hydroxide', 'direction': 'r', 'hidden': False, 'type': 'process'}, {'id': 'inputs^Steel', 'title': 'Steel', 'direction': 'r', 'hidden': False, 'type': 'process'}, {'id': 'inputs^Sulphur and sulphuric acid', 'title': 'Sulphur and sulphuric acid', 'direction': 'r', 'hidden': False, 'type': 'process'}, {'id': 'inputs^Synthetic rubber', 'title': 'Synthetic rubber', 'direction': 'r', 'hidden': False, 'type': 'process'}, {'id': 'inputs^Metals (Silver, tin, zinc etc.)', 'title': 'Metals (Silver, tin, zinc etc.)', 'direction': 'r', 'hidden': False, 'type': 'process'}, {'id': 'sectors^Basic metals', 'title': 'Basic metals', 'direction': 'r', 'hidden': False, 'type': 'process'}, {'id': 'outputs^Aluminium', 'title': 'Aluminium', 'direction': 'r', 'hidden': False, 'type': 'process'}, {'id': 'outputs^Crude steel', 'title': 'Crude steel', 'direction': 'r', 'hidden': False, 'type': 'process'}, {'id': 'outputs^Copper products', 'title': 'Copper products', 'direction': 'r', 'hidden': False, 'type': 'process'}, {'id': 'outputs^Silver', 'title': 'Silver', 'direction': 'r', 'hidden': False, 'type': 'process'}, {'id': 'outputs^Zinc and zinc ores', 'title': 'Zinc and zinc ores', 'direction': 'r', 'hidden': False, 'type': 'process'}, {'id': 'loss^Loss', 'title': 'Loss', 'direction': 'r', 'hidden': False, 'type': 'process'}], order=[(('inputs^Oil products', 'inputs^Biomass and waste', 'inputs^Natural gas', 'inputs^Coal', 'inputs^Peat and wood', 'inputs^Electricity', 'inputs^Heat', 'inputs^Coal briquettes', 'inputs^Coke', 'inputs^Coke oven gas', 'inputs^Cement', 'inputs^Chemical fibres', 'inputs^Crude oil', 'inputs^Disodium carbonate', 'inputs^Glass', 'inputs^Leather', 'inputs^Lime', 'inputs^Wood and\\npaper products', 'inputs^Polymers', 'inputs^Sodium hydroxide', 'inputs^Steel', 'inputs^Sulphur and sulphuric acid', 'inputs^Synthetic rubber', 'inputs^Metals (Silver, tin, zinc etc.)'),), (('sectors^Basic metals',),), (('outputs^Aluminium', 'outputs^Crude steel', 'outputs^Copper products', 'outputs^Silver', 'outputs^Zinc and zinc ores', 'loss^Loss'),)])"
      ]
     },
     "metadata": {},
     "output_type": "display_data"
    }
   ],
   "source": [
    "man_flows = pd.read_excel(\"Manufacturing.xlsx\",sheet_name='Basic metals')\n",
    "dataset_metals = Dataset(man_flows,dim_process=man_dim)\n",
    "\n",
    "partition_sectors = Partition.Simple('process.sectors', ['Basic metals'])\n",
    "\n",
    "nodes_man = {\n",
    "    'inputs': ProcessGroup('type == \"input\"',partition_inputs),\n",
    "    'sectors': ProcessGroup('type == \"sector\"',partition_sectors),\n",
    "    'outputs': ProcessGroup('type == \"output\"',partition_outputs),\n",
    "    'loss':  ProcessGroup('type == \"loss\"',partition_loss)\n",
    "}\n",
    "\n",
    "size_options_sector = dict(width=1000, height=500, margins=dict(left=250, right=250))\n",
    "\n",
    "weave(sdd_man, dataset_metals,measures='Exergy',palette=palette).to_widget(**size_options).auto_save_png('Basic Metals Sankey.png')"
   ]
  },
  {
   "cell_type": "code",
   "execution_count": 6,
   "metadata": {
    "ExecuteTime": {
     "end_time": "2020-03-12T15:58:32.868321Z",
     "start_time": "2020-03-12T15:58:32.054498Z"
    }
   },
   "outputs": [
    {
     "data": {
      "application/vnd.jupyter.widget-view+json": {
       "model_id": "6ea79e887a364eefb2f47b971a633fb1",
       "version_major": 2,
       "version_minor": 0
      },
      "text/html": [
       "<p>Failed to display Jupyter Widget of type <code>SankeyWidget</code>.</p>\n",
       "<p>\n",
       "  If you're reading this message in the Jupyter Notebook or JupyterLab Notebook, it may mean\n",
       "  that the widgets JavaScript is still loading. If this message persists, it\n",
       "  likely means that the widgets JavaScript library is either not installed or\n",
       "  not enabled. See the <a href=\"https://ipywidgets.readthedocs.io/en/stable/user_install.html\">Jupyter\n",
       "  Widgets Documentation</a> for setup instructions.\n",
       "</p>\n",
       "<p>\n",
       "  If you're reading this message in another frontend (for example, a static\n",
       "  rendering on GitHub or <a href=\"https://nbviewer.jupyter.org/\">NBViewer</a>),\n",
       "  it may mean that your frontend doesn't currently support widgets.\n",
       "</p>\n"
      ],
      "text/plain": [
       "SankeyWidget(groups=[{'id': 'inputs', 'type': 'process', 'title': '', 'nodes': ['inputs^Oil products', 'inputs^Biomass and waste', 'inputs^Natural gas', 'inputs^Coal', 'inputs^Peat and wood', 'inputs^Electricity', 'inputs^Heat', 'inputs^Coke', 'inputs^Coke oven gas', 'inputs^Cement', 'inputs^Chemical fibres', 'inputs^Crude oil', 'inputs^Disodium carbonate', 'inputs^Glass', 'inputs^Leather', 'inputs^Lime', 'inputs^Wood and\\npaper products', 'inputs^Polymers', 'inputs^Sodium hydroxide', 'inputs^Steel', 'inputs^Sulphur and sulphuric acid', 'inputs^Synthetic rubber', 'inputs^Metals (Silver, tin, zinc etc.)']}, {'id': 'sectors', 'type': 'process', 'title': '', 'nodes': ['sectors^Non-metallic\\nminerals']}, {'id': 'outputs', 'type': 'process', 'title': '', 'nodes': ['outputs^Building paper', 'outputs^Clay bricks', 'outputs^Cement', 'outputs^Gypsum plaster', 'outputs^Lime', 'outputs^Glass and\\nporcelain products']}, {'id': 'loss', 'type': 'process', 'title': '', 'nodes': ['loss^Loss']}], layout=Layout(height='1800', width='1700'), links=[{'source': 'inputs^Oil products', 'target': 'sectors^Non-metallic\\nminerals', 'type': 'Oil products', 'time': '*', 'value': 6283680.0, 'title': 'Oil products', 'color': 'rgb(189,183,107)', 'opacity': 1.0}, {'source': 'inputs^Biomass and waste', 'target': 'sectors^Non-metallic\\nminerals', 'type': 'Biomass and Waste', 'time': '*', 'value': 22200880.0, 'title': 'Biomass and Waste', 'color': 'rgb(32,178,170)', 'opacity': 1.0}, {'source': 'inputs^Natural gas', 'target': 'sectors^Non-metallic\\nminerals', 'type': 'Natural gas', 'time': '*', 'value': 42250000.0, 'title': 'Natural gas', 'color': 'rgb(255,165,0)', 'opacity': 1.0}, {'source': 'inputs^Coal', 'target': 'sectors^Non-metallic\\nminerals', 'type': 'Coal and Peat', 'time': '*', 'value': 23777420.0, 'title': 'Coal and Peat', 'color': 'rgb(47,79,79)', 'opacity': 1.0}, {'source': 'inputs^Peat and wood', 'target': 'sectors^Non-metallic\\nminerals', 'type': 'Coal and Peat', 'time': '*', 'value': 62400.00000000001, 'title': 'Coal and Peat', 'color': 'rgb(47,79,79)', 'opacity': 1.0}, {'source': 'inputs^Electricity', 'target': 'sectors^Non-metallic\\nminerals', 'type': 'Electricity', 'time': '*', 'value': 16854000.0, 'title': 'Electricity', 'color': 'rgb(119,136,153)', 'opacity': 1.0}, {'source': 'inputs^Heat', 'target': 'sectors^Non-metallic\\nminerals', 'type': 'Heat', 'time': '*', 'value': 204225.0, 'title': 'Heat', 'color': 'rgb(255,0,0)', 'opacity': 1.0}, {'source': 'inputs^Coke', 'target': 'sectors^Non-metallic\\nminerals', 'type': 'Energy', 'time': '*', 'value': 3163020.0, 'title': 'Energy', 'color': 'rgb(178,34,34)', 'opacity': 1.0}, {'source': 'inputs^Coke oven gas', 'target': 'sectors^Non-metallic\\nminerals', 'type': 'Energy', 'time': '*', 'value': 1896230.0, 'title': 'Energy', 'color': 'rgb(178,34,34)', 'opacity': 1.0}, {'source': 'inputs^Cement', 'target': 'sectors^Non-metallic\\nminerals', 'type': 'Material', 'time': '*', 'value': 11518.6692, 'title': 'Material', 'color': 'rgb(160,82,45)', 'opacity': 1.0}, {'source': 'inputs^Chemical fibres', 'target': 'sectors^Non-metallic\\nminerals', 'type': 'Material', 'time': '*', 'value': 31942.799999999996, 'title': 'Material', 'color': 'rgb(160,82,45)', 'opacity': 1.0}, {'source': 'inputs^Crude oil', 'target': 'sectors^Non-metallic\\nminerals', 'type': 'Energy', 'time': '*', 'value': 0.0, 'title': 'Energy', 'color': 'rgb(178,34,34)', 'opacity': 1.0}, {'source': 'inputs^Disodium carbonate', 'target': 'sectors^Non-metallic\\nminerals', 'type': 'Material', 'time': '*', 'value': 87733.48202786891, 'title': 'Material', 'color': 'rgb(160,82,45)', 'opacity': 1.0}, {'source': 'inputs^Glass', 'target': 'sectors^Non-metallic\\nminerals', 'type': 'Material', 'time': '*', 'value': 1679756.753, 'title': 'Material', 'color': 'rgb(160,82,45)', 'opacity': 1.0}, {'source': 'inputs^Leather', 'target': 'sectors^Non-metallic\\nminerals', 'type': 'Material', 'time': '*', 'value': 0.0, 'title': 'Material', 'color': 'rgb(160,82,45)', 'opacity': 1.0}, {'source': 'inputs^Lime', 'target': 'sectors^Non-metallic\\nminerals', 'type': 'Material', 'time': '*', 'value': 912074.5363766049, 'title': 'Material', 'color': 'rgb(160,82,45)', 'opacity': 1.0}, {'source': 'inputs^Wood and\\npaper products', 'target': 'sectors^Non-metallic\\nminerals', 'type': 'Material', 'time': '*', 'value': 1900436.6591000003, 'title': 'Material', 'color': 'rgb(160,82,45)', 'opacity': 1.0}, {'source': 'inputs^Polymers', 'target': 'sectors^Non-metallic\\nminerals', 'type': 'Material', 'time': '*', 'value': 1000969.1999999998, 'title': 'Material', 'color': 'rgb(160,82,45)', 'opacity': 1.0}, {'source': 'inputs^Sodium hydroxide', 'target': 'sectors^Non-metallic\\nminerals', 'type': 'Material', 'time': '*', 'value': 21282.452271659018, 'title': 'Material', 'color': 'rgb(160,82,45)', 'opacity': 1.0}, {'source': 'inputs^Steel', 'target': 'sectors^Non-metallic\\nminerals', 'type': 'Material', 'time': '*', 'value': 1188721.5999999999, 'title': 'Material', 'color': 'rgb(160,82,45)', 'opacity': 1.0}, {'source': 'inputs^Sulphur and sulphuric acid', 'target': 'sectors^Non-metallic\\nminerals', 'type': 'Material', 'time': '*', 'value': 554.4957038826697, 'title': 'Material', 'color': 'rgb(160,82,45)', 'opacity': 1.0}, {'source': 'inputs^Synthetic rubber', 'target': 'sectors^Non-metallic\\nminerals', 'type': 'Material', 'time': '*', 'value': 74518.0, 'title': 'Material', 'color': 'rgb(160,82,45)', 'opacity': 1.0}, {'source': 'inputs^Metals (Silver, tin, zinc etc.)', 'target': 'sectors^Non-metallic\\nminerals', 'type': 'Material', 'time': '*', 'value': 93608.08893353185, 'title': 'Material', 'color': 'rgb(160,82,45)', 'opacity': 1.0}, {'source': 'sectors^Non-metallic\\nminerals', 'target': 'outputs^Building paper', 'type': 'Product', 'time': '*', 'value': 2916480.000000001, 'title': 'Product', 'color': 'rgb(255,127,80)', 'opacity': 1.0}, {'source': 'sectors^Non-metallic\\nminerals', 'target': 'outputs^Cement', 'type': 'Product', 'time': '*', 'value': 25089850.000000004, 'title': 'Product', 'color': 'rgb(255,127,80)', 'opacity': 1.0}, {'source': 'sectors^Non-metallic\\nminerals', 'target': 'outputs^Clay bricks', 'type': 'Product', 'time': '*', 'value': 58951.47030056767, 'title': 'Product', 'color': 'rgb(255,127,80)', 'opacity': 1.0}, {'source': 'sectors^Non-metallic\\nminerals', 'target': 'outputs^Glass and\\nporcelain products', 'type': 'Product', 'time': '*', 'value': 2165304.8611209276, 'title': 'Product', 'color': 'rgb(255,127,80)', 'opacity': 1.0}, {'source': 'sectors^Non-metallic\\nminerals', 'target': 'outputs^Gypsum plaster', 'type': 'Product', 'time': '*', 'value': 173751.52465586338, 'title': 'Product', 'color': 'rgb(255,127,80)', 'opacity': 1.0}, {'source': 'sectors^Non-metallic\\nminerals', 'target': 'outputs^Lime', 'type': 'Product', 'time': '*', 'value': 4408284.593437946, 'title': 'Product', 'color': 'rgb(255,127,80)', 'opacity': 1.0}, {'source': 'sectors^Non-metallic\\nminerals', 'target': 'loss^Loss', 'type': 'Loss', 'time': '*', 'value': 88882349.28709826, 'title': 'Loss', 'color': 'rgb(224, 224, 224)', 'opacity': 1.0}], margins={'left': 250, 'right': 250}, nodes=[{'id': 'inputs^Oil products', 'title': 'Oil products', 'direction': 'r', 'hidden': False, 'type': 'process'}, {'id': 'inputs^Biomass and waste', 'title': 'Biomass and waste', 'direction': 'r', 'hidden': False, 'type': 'process'}, {'id': 'inputs^Natural gas', 'title': 'Natural gas', 'direction': 'r', 'hidden': False, 'type': 'process'}, {'id': 'inputs^Coal', 'title': 'Coal', 'direction': 'r', 'hidden': False, 'type': 'process'}, {'id': 'inputs^Peat and wood', 'title': 'Peat and wood', 'direction': 'r', 'hidden': False, 'type': 'process'}, {'id': 'inputs^Electricity', 'title': 'Electricity', 'direction': 'r', 'hidden': False, 'type': 'process'}, {'id': 'inputs^Heat', 'title': 'Heat', 'direction': 'r', 'hidden': False, 'type': 'process'}, {'id': 'inputs^Coke', 'title': 'Coke', 'direction': 'r', 'hidden': False, 'type': 'process'}, {'id': 'inputs^Coke oven gas', 'title': 'Coke oven gas', 'direction': 'r', 'hidden': False, 'type': 'process'}, {'id': 'inputs^Cement', 'title': 'Cement', 'direction': 'r', 'hidden': False, 'type': 'process'}, {'id': 'inputs^Chemical fibres', 'title': 'Chemical fibres', 'direction': 'r', 'hidden': False, 'type': 'process'}, {'id': 'inputs^Crude oil', 'title': 'Crude oil', 'direction': 'r', 'hidden': False, 'type': 'process'}, {'id': 'inputs^Disodium carbonate', 'title': 'Disodium carbonate', 'direction': 'r', 'hidden': False, 'type': 'process'}, {'id': 'inputs^Glass', 'title': 'Glass', 'direction': 'r', 'hidden': False, 'type': 'process'}, {'id': 'inputs^Leather', 'title': 'Leather', 'direction': 'r', 'hidden': False, 'type': 'process'}, {'id': 'inputs^Lime', 'title': 'Lime', 'direction': 'r', 'hidden': False, 'type': 'process'}, {'id': 'inputs^Wood and\\npaper products', 'title': 'Wood and\\npaper products', 'direction': 'r', 'hidden': False, 'type': 'process'}, {'id': 'inputs^Polymers', 'title': 'Polymers', 'direction': 'r', 'hidden': False, 'type': 'process'}, {'id': 'inputs^Sodium hydroxide', 'title': 'Sodium hydroxide', 'direction': 'r', 'hidden': False, 'type': 'process'}, {'id': 'inputs^Steel', 'title': 'Steel', 'direction': 'r', 'hidden': False, 'type': 'process'}, {'id': 'inputs^Sulphur and sulphuric acid', 'title': 'Sulphur and sulphuric acid', 'direction': 'r', 'hidden': False, 'type': 'process'}, {'id': 'inputs^Synthetic rubber', 'title': 'Synthetic rubber', 'direction': 'r', 'hidden': False, 'type': 'process'}, {'id': 'inputs^Metals (Silver, tin, zinc etc.)', 'title': 'Metals (Silver, tin, zinc etc.)', 'direction': 'r', 'hidden': False, 'type': 'process'}, {'id': 'sectors^Non-metallic\\nminerals', 'title': 'Non-metallic\\nminerals', 'direction': 'r', 'hidden': False, 'type': 'process'}, {'id': 'outputs^Building paper', 'title': 'Building paper', 'direction': 'r', 'hidden': False, 'type': 'process'}, {'id': 'outputs^Clay bricks', 'title': 'Clay bricks', 'direction': 'r', 'hidden': False, 'type': 'process'}, {'id': 'outputs^Cement', 'title': 'Cement', 'direction': 'r', 'hidden': False, 'type': 'process'}, {'id': 'outputs^Gypsum plaster', 'title': 'Gypsum plaster', 'direction': 'r', 'hidden': False, 'type': 'process'}, {'id': 'outputs^Lime', 'title': 'Lime', 'direction': 'r', 'hidden': False, 'type': 'process'}, {'id': 'outputs^Glass and\\nporcelain products', 'title': 'Glass and\\nporcelain products', 'direction': 'r', 'hidden': False, 'type': 'process'}, {'id': 'loss^Loss', 'title': 'Loss', 'direction': 'r', 'hidden': False, 'type': 'process'}], order=[(('inputs^Oil products', 'inputs^Biomass and waste', 'inputs^Natural gas', 'inputs^Coal', 'inputs^Peat and wood', 'inputs^Electricity', 'inputs^Heat', 'inputs^Coke', 'inputs^Coke oven gas', 'inputs^Cement', 'inputs^Chemical fibres', 'inputs^Crude oil', 'inputs^Disodium carbonate', 'inputs^Glass', 'inputs^Leather', 'inputs^Lime', 'inputs^Wood and\\npaper products', 'inputs^Polymers', 'inputs^Sodium hydroxide', 'inputs^Steel', 'inputs^Sulphur and sulphuric acid', 'inputs^Synthetic rubber', 'inputs^Metals (Silver, tin, zinc etc.)'),), (('sectors^Non-metallic\\nminerals',),), (('outputs^Building paper', 'outputs^Clay bricks', 'outputs^Cement', 'outputs^Gypsum plaster', 'outputs^Lime', 'outputs^Glass and\\nporcelain products', 'loss^Loss'),)])"
      ]
     },
     "metadata": {},
     "output_type": "display_data"
    }
   ],
   "source": [
    "man_flows = pd.read_excel(\"Manufacturing.xlsx\",sheet_name='Non-metallic minerals')\n",
    "dataset_minerals = Dataset(man_flows,dim_process=man_dim)\n",
    "\n",
    "partition_sectors = Partition.Simple('process.sectors', [('Non-metallic\\nminerals',['Non-metallic mineral products'])])\n",
    "\n",
    "nodes_man = {\n",
    "    'inputs': ProcessGroup('type == \"input\"',partition_inputs),\n",
    "    'sectors': ProcessGroup('type == \"sector\"',partition_sectors),\n",
    "    'outputs': ProcessGroup('type == \"output\"',partition_outputs),\n",
    "    'loss':  ProcessGroup('type == \"loss\"',partition_loss)\n",
    "}\n",
    "\n",
    "size_options_sector = dict(width=1000, height=600, margins=dict(left=250, right=250))\n",
    "\n",
    "sdd_man = SankeyDefinition(nodes_man, bundles_man, ordering_man,flow_partition=colour_partition)\n",
    "\n",
    "weave(sdd_man, dataset_minerals,measures='Exergy',palette=palette).to_widget(**size_options).auto_save_png('Non-metallic minerals.png')"
   ]
  },
  {
   "cell_type": "code",
   "execution_count": 7,
   "metadata": {
    "ExecuteTime": {
     "end_time": "2020-03-12T15:58:33.664154Z",
     "start_time": "2020-03-12T15:58:32.871313Z"
    }
   },
   "outputs": [
    {
     "data": {
      "application/vnd.jupyter.widget-view+json": {
       "model_id": "3735bf5d2c7a43348a14671849c12873",
       "version_major": 2,
       "version_minor": 0
      },
      "text/html": [
       "<p>Failed to display Jupyter Widget of type <code>SankeyWidget</code>.</p>\n",
       "<p>\n",
       "  If you're reading this message in the Jupyter Notebook or JupyterLab Notebook, it may mean\n",
       "  that the widgets JavaScript is still loading. If this message persists, it\n",
       "  likely means that the widgets JavaScript library is either not installed or\n",
       "  not enabled. See the <a href=\"https://ipywidgets.readthedocs.io/en/stable/user_install.html\">Jupyter\n",
       "  Widgets Documentation</a> for setup instructions.\n",
       "</p>\n",
       "<p>\n",
       "  If you're reading this message in another frontend (for example, a static\n",
       "  rendering on GitHub or <a href=\"https://nbviewer.jupyter.org/\">NBViewer</a>),\n",
       "  it may mean that your frontend doesn't currently support widgets.\n",
       "</p>\n"
      ],
      "text/plain": [
       "SankeyWidget(groups=[{'id': 'inputs', 'type': 'process', 'title': '', 'nodes': ['inputs^Oil products', 'inputs^Biomass and waste', 'inputs^Natural gas', 'inputs^Coal', 'inputs^Peat and wood', 'inputs^Electricity', 'inputs^Heat', 'inputs^Cement', 'inputs^Chemical fibres', 'inputs^Crude oil', 'inputs^Disodium carbonate', 'inputs^Glass', 'inputs^Leather', 'inputs^Lime', 'inputs^Wood and\\npaper products', 'inputs^Polymers', 'inputs^Sodium hydroxide', 'inputs^Steel', 'inputs^Sulphur and sulphuric acid', 'inputs^Synthetic rubber', 'inputs^Metals (Silver, tin, zinc etc.)']}, {'id': 'sectors', 'type': 'process', 'title': '', 'nodes': ['sectors^Paper sector']}, {'id': 'outputs', 'type': 'process', 'title': '', 'nodes': ['outputs^Paper products', 'outputs^Wood pulp']}, {'id': 'loss', 'type': 'process', 'title': '', 'nodes': ['loss^Loss']}], layout=Layout(height='900', width='1200'), links=[{'source': 'inputs^Oil products', 'target': 'sectors^Paper sector', 'type': 'Oil products', 'time': '*', 'value': 2350400.0, 'title': 'Oil products', 'color': 'rgb(189,183,107)', 'opacity': 1.0}, {'source': 'inputs^Biomass and waste', 'target': 'sectors^Paper sector', 'type': 'Biomass and Waste', 'time': '*', 'value': 12981280.0, 'title': 'Biomass and Waste', 'color': 'rgb(32,178,170)', 'opacity': 1.0}, {'source': 'inputs^Natural gas', 'target': 'sectors^Paper sector', 'type': 'Natural gas', 'time': '*', 'value': 6528080.0, 'title': 'Natural gas', 'color': 'rgb(255,165,0)', 'opacity': 1.0}, {'source': 'inputs^Coal', 'target': 'sectors^Paper sector', 'type': 'Coal and Peat', 'time': '*', 'value': 11234230.0, 'title': 'Coal and Peat', 'color': 'rgb(47,79,79)', 'opacity': 1.0}, {'source': 'inputs^Peat and wood', 'target': 'sectors^Paper sector', 'type': 'Coal and Peat', 'time': '*', 'value': 15374320.0, 'title': 'Coal and Peat', 'color': 'rgb(47,79,79)', 'opacity': 1.0}, {'source': 'inputs^Electricity', 'target': 'sectors^Paper sector', 'type': 'Electricity', 'time': '*', 'value': 14591000.0, 'title': 'Electricity', 'color': 'rgb(119,136,153)', 'opacity': 1.0}, {'source': 'inputs^Heat', 'target': 'sectors^Paper sector', 'type': 'Heat', 'time': '*', 'value': 505575.0, 'title': 'Heat', 'color': 'rgb(255,0,0)', 'opacity': 1.0}, {'source': 'inputs^Cement', 'target': 'sectors^Paper sector', 'type': 'Material', 'time': '*', 'value': 0.0, 'title': 'Material', 'color': 'rgb(160,82,45)', 'opacity': 1.0}, {'source': 'inputs^Chemical fibres', 'target': 'sectors^Paper sector', 'type': 'Material', 'time': '*', 'value': 12585.599999999999, 'title': 'Material', 'color': 'rgb(160,82,45)', 'opacity': 1.0}, {'source': 'inputs^Crude oil', 'target': 'sectors^Paper sector', 'type': 'Energy', 'time': '*', 'value': 0.0, 'title': 'Energy', 'color': 'rgb(178,34,34)', 'opacity': 1.0}, {'source': 'inputs^Disodium carbonate', 'target': 'sectors^Paper sector', 'type': 'Material', 'time': '*', 'value': 2557.7686762129315, 'title': 'Material', 'color': 'rgb(160,82,45)', 'opacity': 1.0}, {'source': 'inputs^Glass', 'target': 'sectors^Paper sector', 'type': 'Material', 'time': '*', 'value': 0.0, 'title': 'Material', 'color': 'rgb(160,82,45)', 'opacity': 1.0}, {'source': 'inputs^Leather', 'target': 'sectors^Paper sector', 'type': 'Material', 'time': '*', 'value': 6.2450448, 'title': 'Material', 'color': 'rgb(160,82,45)', 'opacity': 1.0}, {'source': 'inputs^Lime', 'target': 'sectors^Paper sector', 'type': 'Material', 'time': '*', 'value': 35563.64300998574, 'title': 'Material', 'color': 'rgb(160,82,45)', 'opacity': 1.0}, {'source': 'inputs^Wood and\\npaper products', 'target': 'sectors^Paper sector', 'type': 'Material', 'time': '*', 'value': 97433438.0303, 'title': 'Material', 'color': 'rgb(160,82,45)', 'opacity': 1.0}, {'source': 'inputs^Polymers', 'target': 'sectors^Paper sector', 'type': 'Material', 'time': '*', 'value': 596935.6, 'title': 'Material', 'color': 'rgb(160,82,45)', 'opacity': 1.0}, {'source': 'inputs^Sodium hydroxide', 'target': 'sectors^Paper sector', 'type': 'Material', 'time': '*', 'value': 55810.02420169412, 'title': 'Material', 'color': 'rgb(160,82,45)', 'opacity': 1.0}, {'source': 'inputs^Steel', 'target': 'sectors^Paper sector', 'type': 'Material', 'time': '*', 'value': 21501.6, 'title': 'Material', 'color': 'rgb(160,82,45)', 'opacity': 1.0}, {'source': 'inputs^Sulphur and sulphuric acid', 'target': 'sectors^Paper sector', 'type': 'Material', 'time': '*', 'value': 38863.66630300682, 'title': 'Material', 'color': 'rgb(160,82,45)', 'opacity': 1.0}, {'source': 'inputs^Synthetic rubber', 'target': 'sectors^Paper sector', 'type': 'Material', 'time': '*', 'value': 0.0, 'title': 'Material', 'color': 'rgb(160,82,45)', 'opacity': 1.0}, {'source': 'inputs^Metals (Silver, tin, zinc etc.)', 'target': 'sectors^Paper sector', 'type': 'Material', 'time': '*', 'value': 2979.5, 'title': 'Material', 'color': 'rgb(160,82,45)', 'opacity': 1.0}, {'source': 'sectors^Paper sector', 'target': 'outputs^Paper products', 'type': 'Product', 'time': '*', 'value': 117775200.00000001, 'title': 'Product', 'color': 'rgb(255,127,80)', 'opacity': 1.0}, {'source': 'sectors^Paper sector', 'target': 'outputs^Wood pulp', 'type': 'Product', 'time': '*', 'value': 18333000.0, 'title': 'Product', 'color': 'rgb(255,127,80)', 'opacity': 1.0}, {'source': 'sectors^Paper sector', 'target': 'loss^Loss', 'type': 'Loss', 'time': '*', 'value': 25656926.677535713, 'title': 'Loss', 'color': 'rgb(224, 224, 224)', 'opacity': 1.0}], margins={'left': 250, 'right': 250}, nodes=[{'id': 'inputs^Oil products', 'title': 'Oil products', 'direction': 'r', 'hidden': False, 'type': 'process'}, {'id': 'inputs^Biomass and waste', 'title': 'Biomass and waste', 'direction': 'r', 'hidden': False, 'type': 'process'}, {'id': 'inputs^Natural gas', 'title': 'Natural gas', 'direction': 'r', 'hidden': False, 'type': 'process'}, {'id': 'inputs^Coal', 'title': 'Coal', 'direction': 'r', 'hidden': False, 'type': 'process'}, {'id': 'inputs^Peat and wood', 'title': 'Peat and wood', 'direction': 'r', 'hidden': False, 'type': 'process'}, {'id': 'inputs^Electricity', 'title': 'Electricity', 'direction': 'r', 'hidden': False, 'type': 'process'}, {'id': 'inputs^Heat', 'title': 'Heat', 'direction': 'r', 'hidden': False, 'type': 'process'}, {'id': 'inputs^Cement', 'title': 'Cement', 'direction': 'r', 'hidden': False, 'type': 'process'}, {'id': 'inputs^Chemical fibres', 'title': 'Chemical fibres', 'direction': 'r', 'hidden': False, 'type': 'process'}, {'id': 'inputs^Crude oil', 'title': 'Crude oil', 'direction': 'r', 'hidden': False, 'type': 'process'}, {'id': 'inputs^Disodium carbonate', 'title': 'Disodium carbonate', 'direction': 'r', 'hidden': False, 'type': 'process'}, {'id': 'inputs^Glass', 'title': 'Glass', 'direction': 'r', 'hidden': False, 'type': 'process'}, {'id': 'inputs^Leather', 'title': 'Leather', 'direction': 'r', 'hidden': False, 'type': 'process'}, {'id': 'inputs^Lime', 'title': 'Lime', 'direction': 'r', 'hidden': False, 'type': 'process'}, {'id': 'inputs^Wood and\\npaper products', 'title': 'Wood and\\npaper products', 'direction': 'r', 'hidden': False, 'type': 'process'}, {'id': 'inputs^Polymers', 'title': 'Polymers', 'direction': 'r', 'hidden': False, 'type': 'process'}, {'id': 'inputs^Sodium hydroxide', 'title': 'Sodium hydroxide', 'direction': 'r', 'hidden': False, 'type': 'process'}, {'id': 'inputs^Steel', 'title': 'Steel', 'direction': 'r', 'hidden': False, 'type': 'process'}, {'id': 'inputs^Sulphur and sulphuric acid', 'title': 'Sulphur and sulphuric acid', 'direction': 'r', 'hidden': False, 'type': 'process'}, {'id': 'inputs^Synthetic rubber', 'title': 'Synthetic rubber', 'direction': 'r', 'hidden': False, 'type': 'process'}, {'id': 'inputs^Metals (Silver, tin, zinc etc.)', 'title': 'Metals (Silver, tin, zinc etc.)', 'direction': 'r', 'hidden': False, 'type': 'process'}, {'id': 'sectors^Paper sector', 'title': 'Paper sector', 'direction': 'r', 'hidden': False, 'type': 'process'}, {'id': 'outputs^Paper products', 'title': 'Paper products', 'direction': 'r', 'hidden': False, 'type': 'process'}, {'id': 'outputs^Wood pulp', 'title': 'Wood pulp', 'direction': 'r', 'hidden': False, 'type': 'process'}, {'id': 'loss^Loss', 'title': 'Loss', 'direction': 'r', 'hidden': False, 'type': 'process'}], order=[(('inputs^Oil products', 'inputs^Biomass and waste', 'inputs^Natural gas', 'inputs^Coal', 'inputs^Peat and wood', 'inputs^Electricity', 'inputs^Heat', 'inputs^Cement', 'inputs^Chemical fibres', 'inputs^Crude oil', 'inputs^Disodium carbonate', 'inputs^Glass', 'inputs^Leather', 'inputs^Lime', 'inputs^Wood and\\npaper products', 'inputs^Polymers', 'inputs^Sodium hydroxide', 'inputs^Steel', 'inputs^Sulphur and sulphuric acid', 'inputs^Synthetic rubber', 'inputs^Metals (Silver, tin, zinc etc.)'),), (('sectors^Paper sector',),), (('outputs^Paper products', 'outputs^Wood pulp', 'loss^Loss'),)])"
      ]
     },
     "metadata": {},
     "output_type": "display_data"
    }
   ],
   "source": [
    "man_flows = pd.read_excel(\"Manufacturing.xlsx\",sheet_name='Paper')\n",
    "dataset_papers = Dataset(man_flows,dim_process=man_dim)\n",
    "\n",
    "partition_sectors = Partition.Simple('process.sectors', [('Paper sector',['Paper and paper products'])])\n",
    "\n",
    "nodes_man = {\n",
    "    'inputs': ProcessGroup('type == \"input\"',partition_inputs),\n",
    "    'sectors': ProcessGroup('type == \"sector\"',partition_sectors),\n",
    "    'outputs': ProcessGroup('type == \"output\"',partition_outputs),\n",
    "    'loss':  ProcessGroup('type == \"loss\"',partition_loss)\n",
    "}\n",
    "\n",
    "sdd_man = SankeyDefinition(nodes_man, bundles_man, ordering_man,flow_partition=colour_partition)\n",
    "size_options = dict(width=1200, height=900,margins=dict(left=250, right=250))\n",
    "\n",
    "weave(sdd_man, dataset_papers,measures='Exergy',palette=palette).to_widget(**size_options).auto_save_png('Paper sector Sankey.png')"
   ]
  },
  {
   "cell_type": "code",
   "execution_count": 8,
   "metadata": {
    "ExecuteTime": {
     "end_time": "2020-03-12T15:58:33.673118Z",
     "start_time": "2020-03-12T15:58:33.666134Z"
    }
   },
   "outputs": [
    {
     "data": {
      "text/html": [
       "<style>\n",
       ".node text { font-size: 13pt; }\n",
       "</style>\n"
      ],
      "text/plain": [
       "<IPython.core.display.HTML object>"
      ]
     },
     "metadata": {},
     "output_type": "display_data"
    }
   ],
   "source": [
    "%%html\n",
    "<style>\n",
    ".node text { font-size: 13pt; }\n",
    "</style>"
   ]
  },
  {
   "cell_type": "code",
   "execution_count": 9,
   "metadata": {
    "ExecuteTime": {
     "end_time": "2020-03-12T15:58:34.533117Z",
     "start_time": "2020-03-12T15:58:33.675111Z"
    }
   },
   "outputs": [
    {
     "data": {
      "application/vnd.jupyter.widget-view+json": {
       "model_id": "4285153c0f1f487e83fb32125465ebf9",
       "version_major": 2,
       "version_minor": 0
      },
      "text/html": [
       "<p>Failed to display Jupyter Widget of type <code>SankeyWidget</code>.</p>\n",
       "<p>\n",
       "  If you're reading this message in the Jupyter Notebook or JupyterLab Notebook, it may mean\n",
       "  that the widgets JavaScript is still loading. If this message persists, it\n",
       "  likely means that the widgets JavaScript library is either not installed or\n",
       "  not enabled. See the <a href=\"https://ipywidgets.readthedocs.io/en/stable/user_install.html\">Jupyter\n",
       "  Widgets Documentation</a> for setup instructions.\n",
       "</p>\n",
       "<p>\n",
       "  If you're reading this message in another frontend (for example, a static\n",
       "  rendering on GitHub or <a href=\"https://nbviewer.jupyter.org/\">NBViewer</a>),\n",
       "  it may mean that your frontend doesn't currently support widgets.\n",
       "</p>\n"
      ],
      "text/plain": [
       "SankeyWidget(groups=[{'id': 'inputs', 'type': 'process', 'title': '', 'nodes': ['inputs^Oil products', 'inputs^Biomass and waste', 'inputs^Natural gas', 'inputs^Coal', 'inputs^Peat and wood', 'inputs^Electricity', 'inputs^Heat', 'inputs^Coal briquettes', 'inputs^Coke', 'inputs^Coke oven gas', 'inputs^Cement', 'inputs^Chemical fibres', 'inputs^Crude oil', 'inputs^Disodium carbonate', 'inputs^Glass', 'inputs^Leather', 'inputs^Lime', 'inputs^Wood and\\npaper products', 'inputs^Polymers', 'inputs^Sodium hydroxide', 'inputs^Steel', 'inputs^Sulphur and sulphuric acid', 'inputs^Synthetic rubber', 'inputs^Metals (Silver, tin, zinc etc.)']}, {'id': 'sectors', 'type': 'process', 'title': '', 'nodes': ['sectors^Chemical\\nsector']}, {'id': 'outputs', 'type': 'process', 'title': '', 'nodes': ['outputs^Acids', 'outputs^Caprolactam', 'outputs^Chemical fibres', 'outputs^Chlorine', 'outputs^Other chemicals', 'outputs^Ethylene', 'outputs^Fertilisers', 'outputs^Paints and varnishes', 'outputs^Propylene', 'outputs^Soap', 'outputs^Zinc and zinc ores', 'outputs^Polymers and\\npolymer products', 'outputs^Rubber and tyres', 'outputs^_']}, {'id': 'loss', 'type': 'process', 'title': '', 'nodes': ['loss^Loss']}], layout=Layout(height='1600', width='1500'), links=[{'source': 'inputs^Oil products', 'target': 'sectors^Chemical\\nsector', 'type': 'Oil products', 'time': '*', 'value': 88619440.0, 'title': 'Oil products', 'color': 'rgb(189,183,107)', 'opacity': 1.0}, {'source': 'inputs^Biomass and waste', 'target': 'sectors^Chemical\\nsector', 'type': 'Biomass and Waste', 'time': '*', 'value': 1010880.0, 'title': 'Biomass and Waste', 'color': 'rgb(32,178,170)', 'opacity': 1.0}, {'source': 'inputs^Natural gas', 'target': 'sectors^Chemical\\nsector', 'type': 'Natural gas', 'time': '*', 'value': 106769520.0, 'title': 'Natural gas', 'color': 'rgb(255,165,0)', 'opacity': 1.0}, {'source': 'inputs^Coal', 'target': 'sectors^Chemical\\nsector', 'type': 'Coal and Peat', 'time': '*', 'value': 39958630.0, 'title': 'Coal and Peat', 'color': 'rgb(47,79,79)', 'opacity': 1.0}, {'source': 'inputs^Peat and wood', 'target': 'sectors^Chemical\\nsector', 'type': 'Coal and Peat', 'time': '*', 'value': 52000.0, 'title': 'Coal and Peat', 'color': 'rgb(47,79,79)', 'opacity': 1.0}, {'source': 'inputs^Electricity', 'target': 'sectors^Chemical\\nsector', 'type': 'Electricity', 'time': '*', 'value': 25956000.0, 'title': 'Electricity', 'color': 'rgb(119,136,153)', 'opacity': 1.0}, {'source': 'inputs^Heat', 'target': 'sectors^Chemical\\nsector', 'type': 'Heat', 'time': '*', 'value': 564025.0, 'title': 'Heat', 'color': 'rgb(255,0,0)', 'opacity': 1.0}, {'source': 'inputs^Coal briquettes', 'target': 'sectors^Chemical\\nsector', 'type': 'Coal and Peat', 'time': '*', 'value': 2020.0, 'title': 'Coal and Peat', 'color': 'rgb(47,79,79)', 'opacity': 1.0}, {'source': 'inputs^Coke', 'target': 'sectors^Chemical\\nsector', 'type': 'Energy', 'time': '*', 'value': 3167100.0, 'title': 'Energy', 'color': 'rgb(178,34,34)', 'opacity': 1.0}, {'source': 'inputs^Coke oven gas', 'target': 'sectors^Chemical\\nsector', 'type': 'Energy', 'time': '*', 'value': 642720.0, 'title': 'Energy', 'color': 'rgb(178,34,34)', 'opacity': 1.0}, {'source': 'inputs^Cement', 'target': 'sectors^Chemical\\nsector', 'type': 'Material', 'time': '*', 'value': 501.797, 'title': 'Material', 'color': 'rgb(160,82,45)', 'opacity': 1.0}, {'source': 'inputs^Chemical fibres', 'target': 'sectors^Chemical\\nsector', 'type': 'Material', 'time': '*', 'value': 98792.4, 'title': 'Material', 'color': 'rgb(160,82,45)', 'opacity': 1.0}, {'source': 'inputs^Crude oil', 'target': 'sectors^Chemical\\nsector', 'type': 'Energy', 'time': '*', 'value': 0.0, 'title': 'Energy', 'color': 'rgb(178,34,34)', 'opacity': 1.0}, {'source': 'inputs^Disodium carbonate', 'target': 'sectors^Chemical\\nsector', 'type': 'Material', 'time': '*', 'value': 32757.742069703396, 'title': 'Material', 'color': 'rgb(160,82,45)', 'opacity': 1.0}, {'source': 'inputs^Glass', 'target': 'sectors^Chemical\\nsector', 'type': 'Material', 'time': '*', 'value': 0.0, 'title': 'Material', 'color': 'rgb(160,82,45)', 'opacity': 1.0}, {'source': 'inputs^Leather', 'target': 'sectors^Chemical\\nsector', 'type': 'Material', 'time': '*', 'value': 0.0, 'title': 'Material', 'color': 'rgb(160,82,45)', 'opacity': 1.0}, {'source': 'inputs^Lime', 'target': 'sectors^Chemical\\nsector', 'type': 'Material', 'time': '*', 'value': 285936.95613409416, 'title': 'Material', 'color': 'rgb(160,82,45)', 'opacity': 1.0}, {'source': 'inputs^Wood and\\npaper products', 'target': 'sectors^Chemical\\nsector', 'type': 'Material', 'time': '*', 'value': 261370.92080000002, 'title': 'Material', 'color': 'rgb(160,82,45)', 'opacity': 1.0}, {'source': 'inputs^Polymers', 'target': 'sectors^Chemical\\nsector', 'type': 'Material', 'time': '*', 'value': 3769938.5999999996, 'title': 'Material', 'color': 'rgb(160,82,45)', 'opacity': 1.0}, {'source': 'inputs^Sodium hydroxide', 'target': 'sectors^Chemical\\nsector', 'type': 'Material', 'time': '*', 'value': 179922.39456761975, 'title': 'Material', 'color': 'rgb(160,82,45)', 'opacity': 1.0}, {'source': 'inputs^Steel', 'target': 'sectors^Chemical\\nsector', 'type': 'Material', 'time': '*', 'value': 7350.8, 'title': 'Material', 'color': 'rgb(160,82,45)', 'opacity': 1.0}, {'source': 'inputs^Sulphur and sulphuric acid', 'target': 'sectors^Chemical\\nsector', 'type': 'Material', 'time': '*', 'value': 10825111.553579526, 'title': 'Material', 'color': 'rgb(160,82,45)', 'opacity': 1.0}, {'source': 'inputs^Synthetic rubber', 'target': 'sectors^Chemical\\nsector', 'type': 'Material', 'time': '*', 'value': 173900.0, 'title': 'Material', 'color': 'rgb(160,82,45)', 'opacity': 1.0}, {'source': 'inputs^Metals (Silver, tin, zinc etc.)', 'target': 'sectors^Chemical\\nsector', 'type': 'Material', 'time': '*', 'value': 78563.27293570421, 'title': 'Material', 'color': 'rgb(160,82,45)', 'opacity': 1.0}, {'source': 'sectors^Chemical\\nsector', 'target': 'outputs^Acids', 'type': 'Product', 'time': '*', 'value': 5256743.080404676, 'title': 'Product', 'color': 'rgb(255,127,80)', 'opacity': 1.0}, {'source': 'sectors^Chemical\\nsector', 'target': 'outputs^Caprolactam', 'type': 'Product', 'time': '*', 'value': 5395500.000000001, 'title': 'Product', 'color': 'rgb(255,127,80)', 'opacity': 1.0}, {'source': 'sectors^Chemical\\nsector', 'target': 'outputs^Chemical fibres', 'type': 'Product', 'time': '*', 'value': 1007760.0, 'title': 'Product', 'color': 'rgb(255,127,80)', 'opacity': 1.0}, {'source': 'sectors^Chemical\\nsector', 'target': 'outputs^Chlorine', 'type': 'Product', 'time': '*', 'value': 490680.0, 'title': 'Product', 'color': 'rgb(255,127,80)', 'opacity': 1.0}, {'source': 'sectors^Chemical\\nsector', 'target': 'outputs^Ethylene', 'type': 'Product', 'time': '*', 'value': 26426114.44988629, 'title': 'Product', 'color': 'rgb(255,127,80)', 'opacity': 1.0}, {'source': 'sectors^Chemical\\nsector', 'target': 'outputs^Fertilisers', 'type': 'Product', 'time': '*', 'value': 52619650.0, 'title': 'Product', 'color': 'rgb(255,127,80)', 'opacity': 1.0}, {'source': 'sectors^Chemical\\nsector', 'target': 'outputs^Other chemicals', 'type': 'Product', 'time': '*', 'value': 11094358.735107703, 'title': 'Product', 'color': 'rgb(255,127,80)', 'opacity': 1.0}, {'source': 'sectors^Chemical\\nsector', 'target': 'outputs^Paints and varnishes', 'type': 'Product', 'time': '*', 'value': 35742900.0, 'title': 'Product', 'color': 'rgb(255,127,80)', 'opacity': 1.0}, {'source': 'sectors^Chemical\\nsector', 'target': 'outputs^Polymers and\\npolymer products', 'type': 'Product', 'time': '*', 'value': 49889252.0, 'title': 'Product', 'color': 'rgb(255,127,80)', 'opacity': 1.0}, {'source': 'sectors^Chemical\\nsector', 'target': 'outputs^Propylene', 'type': 'Product', 'time': '*', 'value': 18608163.24590733, 'title': 'Product', 'color': 'rgb(255,127,80)', 'opacity': 1.0}, {'source': 'sectors^Chemical\\nsector', 'target': 'outputs^Rubber and tyres', 'type': 'Product', 'time': '*', 'value': 7141000.0, 'title': 'Product', 'color': 'rgb(255,127,80)', 'opacity': 1.0}, {'source': 'sectors^Chemical\\nsector', 'target': 'outputs^Soap', 'type': 'Product', 'time': '*', 'value': 0.0, 'title': 'Product', 'color': 'rgb(255,127,80)', 'opacity': 1.0}, {'source': 'sectors^Chemical\\nsector', 'target': 'outputs^Zinc and zinc ores', 'type': 'Product', 'time': '*', 'value': 3489.7382327639175, 'title': 'Product', 'color': 'rgb(255,127,80)', 'opacity': 1.0}, {'source': 'sectors^Chemical\\nsector', 'target': 'outputs^_', 'type': 'Product', 'time': '*', 'value': 0.0, 'title': 'Product', 'color': 'rgb(255,127,80)', 'opacity': 1.0}, {'source': 'sectors^Chemical\\nsector', 'target': 'loss^Loss', 'type': 'Loss', 'time': '*', 'value': 68780870.18754789, 'title': 'Loss', 'color': 'rgb(224, 224, 224)', 'opacity': 1.0}], margins={'left': 250, 'right': 250}, nodes=[{'id': 'inputs^Oil products', 'title': 'Oil products', 'direction': 'r', 'hidden': False, 'type': 'process'}, {'id': 'inputs^Biomass and waste', 'title': 'Biomass and waste', 'direction': 'r', 'hidden': False, 'type': 'process'}, {'id': 'inputs^Natural gas', 'title': 'Natural gas', 'direction': 'r', 'hidden': False, 'type': 'process'}, {'id': 'inputs^Coal', 'title': 'Coal', 'direction': 'r', 'hidden': False, 'type': 'process'}, {'id': 'inputs^Peat and wood', 'title': 'Peat and wood', 'direction': 'r', 'hidden': False, 'type': 'process'}, {'id': 'inputs^Electricity', 'title': 'Electricity', 'direction': 'r', 'hidden': False, 'type': 'process'}, {'id': 'inputs^Heat', 'title': 'Heat', 'direction': 'r', 'hidden': False, 'type': 'process'}, {'id': 'inputs^Coal briquettes', 'title': 'Coal briquettes', 'direction': 'r', 'hidden': False, 'type': 'process'}, {'id': 'inputs^Coke', 'title': 'Coke', 'direction': 'r', 'hidden': False, 'type': 'process'}, {'id': 'inputs^Coke oven gas', 'title': 'Coke oven gas', 'direction': 'r', 'hidden': False, 'type': 'process'}, {'id': 'inputs^Cement', 'title': 'Cement', 'direction': 'r', 'hidden': False, 'type': 'process'}, {'id': 'inputs^Chemical fibres', 'title': 'Chemical fibres', 'direction': 'r', 'hidden': False, 'type': 'process'}, {'id': 'inputs^Crude oil', 'title': 'Crude oil', 'direction': 'r', 'hidden': False, 'type': 'process'}, {'id': 'inputs^Disodium carbonate', 'title': 'Disodium carbonate', 'direction': 'r', 'hidden': False, 'type': 'process'}, {'id': 'inputs^Glass', 'title': 'Glass', 'direction': 'r', 'hidden': False, 'type': 'process'}, {'id': 'inputs^Leather', 'title': 'Leather', 'direction': 'r', 'hidden': False, 'type': 'process'}, {'id': 'inputs^Lime', 'title': 'Lime', 'direction': 'r', 'hidden': False, 'type': 'process'}, {'id': 'inputs^Wood and\\npaper products', 'title': 'Wood and\\npaper products', 'direction': 'r', 'hidden': False, 'type': 'process'}, {'id': 'inputs^Polymers', 'title': 'Polymers', 'direction': 'r', 'hidden': False, 'type': 'process'}, {'id': 'inputs^Sodium hydroxide', 'title': 'Sodium hydroxide', 'direction': 'r', 'hidden': False, 'type': 'process'}, {'id': 'inputs^Steel', 'title': 'Steel', 'direction': 'r', 'hidden': False, 'type': 'process'}, {'id': 'inputs^Sulphur and sulphuric acid', 'title': 'Sulphur and sulphuric acid', 'direction': 'r', 'hidden': False, 'type': 'process'}, {'id': 'inputs^Synthetic rubber', 'title': 'Synthetic rubber', 'direction': 'r', 'hidden': False, 'type': 'process'}, {'id': 'inputs^Metals (Silver, tin, zinc etc.)', 'title': 'Metals (Silver, tin, zinc etc.)', 'direction': 'r', 'hidden': False, 'type': 'process'}, {'id': 'sectors^Chemical\\nsector', 'title': 'Chemical\\nsector', 'direction': 'r', 'hidden': False, 'type': 'process'}, {'id': 'outputs^Acids', 'title': 'Acids', 'direction': 'r', 'hidden': False, 'type': 'process'}, {'id': 'outputs^Caprolactam', 'title': 'Caprolactam', 'direction': 'r', 'hidden': False, 'type': 'process'}, {'id': 'outputs^Chemical fibres', 'title': 'Chemical fibres', 'direction': 'r', 'hidden': False, 'type': 'process'}, {'id': 'outputs^Chlorine', 'title': 'Chlorine', 'direction': 'r', 'hidden': False, 'type': 'process'}, {'id': 'outputs^Other chemicals', 'title': 'Other chemicals', 'direction': 'r', 'hidden': False, 'type': 'process'}, {'id': 'outputs^Ethylene', 'title': 'Ethylene', 'direction': 'r', 'hidden': False, 'type': 'process'}, {'id': 'outputs^Fertilisers', 'title': 'Fertilisers', 'direction': 'r', 'hidden': False, 'type': 'process'}, {'id': 'outputs^Paints and varnishes', 'title': 'Paints and varnishes', 'direction': 'r', 'hidden': False, 'type': 'process'}, {'id': 'outputs^Propylene', 'title': 'Propylene', 'direction': 'r', 'hidden': False, 'type': 'process'}, {'id': 'outputs^Soap', 'title': 'Soap', 'direction': 'r', 'hidden': False, 'type': 'process'}, {'id': 'outputs^Zinc and zinc ores', 'title': 'Zinc and zinc ores', 'direction': 'r', 'hidden': False, 'type': 'process'}, {'id': 'outputs^Polymers and\\npolymer products', 'title': 'Polymers and\\npolymer products', 'direction': 'r', 'hidden': False, 'type': 'process'}, {'id': 'outputs^Rubber and tyres', 'title': 'Rubber and tyres', 'direction': 'r', 'hidden': False, 'type': 'process'}, {'id': 'outputs^_', 'title': '_', 'direction': 'r', 'hidden': False, 'type': 'process'}, {'id': 'loss^Loss', 'title': 'Loss', 'direction': 'r', 'hidden': False, 'type': 'process'}], order=[(('inputs^Oil products', 'inputs^Biomass and waste', 'inputs^Natural gas', 'inputs^Coal', 'inputs^Peat and wood', 'inputs^Electricity', 'inputs^Heat', 'inputs^Coal briquettes', 'inputs^Coke', 'inputs^Coke oven gas', 'inputs^Cement', 'inputs^Chemical fibres', 'inputs^Crude oil', 'inputs^Disodium carbonate', 'inputs^Glass', 'inputs^Leather', 'inputs^Lime', 'inputs^Wood and\\npaper products', 'inputs^Polymers', 'inputs^Sodium hydroxide', 'inputs^Steel', 'inputs^Sulphur and sulphuric acid', 'inputs^Synthetic rubber', 'inputs^Metals (Silver, tin, zinc etc.)'),), (('sectors^Chemical\\nsector',),), (('outputs^Acids', 'outputs^Caprolactam', 'outputs^Chemical fibres', 'outputs^Chlorine', 'outputs^Other chemicals', 'outputs^Ethylene', 'outputs^Fertilisers', 'outputs^Paints and varnishes', 'outputs^Propylene', 'outputs^Soap', 'outputs^Zinc and zinc ores', 'outputs^Polymers and\\npolymer products', 'outputs^Rubber and tyres', 'outputs^_', 'loss^Loss'),)])"
      ]
     },
     "metadata": {},
     "output_type": "display_data"
    }
   ],
   "source": [
    "man_flows = pd.read_excel(\"Manufacturing.xlsx\",sheet_name='Chemicals')\n",
    "dataset_chemicals = Dataset(man_flows,dim_process=man_dim)\n",
    "\n",
    "partition_sectors = Partition.Simple('process.sectors', [('Chemical\\nsector',['Chemicals and chemical products'])])\n",
    "\n",
    "nodes_man = {\n",
    "    'inputs': ProcessGroup('type == \"input\"',partition_inputs),\n",
    "    'sectors': ProcessGroup('type == \"sector\"',partition_sectors),\n",
    "    'outputs': ProcessGroup('type == \"output\"',partition_outputs),\n",
    "    'loss':  ProcessGroup('type == \"loss\"',partition_loss)\n",
    "}\n",
    "\n",
    "sdd_man = SankeyDefinition(nodes_man, bundles_man, ordering_man,flow_partition=colour_partition)\n",
    "size_options = dict(width=1500, height=1600,margins=dict(left=250, right=250))\n",
    "\n",
    "weave(sdd_man, dataset_chemicals,measures='Exergy',palette=palette).to_widget(**size_options).auto_save_png('Chemicals.png')"
   ]
  },
  {
   "cell_type": "code",
   "execution_count": 10,
   "metadata": {
    "ExecuteTime": {
     "end_time": "2020-03-12T15:58:35.321942Z",
     "start_time": "2020-03-12T15:58:34.535105Z"
    }
   },
   "outputs": [
    {
     "data": {
      "application/vnd.jupyter.widget-view+json": {
       "model_id": "a180b9aa9023472ba5bcf3fa4a0aa4e2",
       "version_major": 2,
       "version_minor": 0
      },
      "text/html": [
       "<p>Failed to display Jupyter Widget of type <code>SankeyWidget</code>.</p>\n",
       "<p>\n",
       "  If you're reading this message in the Jupyter Notebook or JupyterLab Notebook, it may mean\n",
       "  that the widgets JavaScript is still loading. If this message persists, it\n",
       "  likely means that the widgets JavaScript library is either not installed or\n",
       "  not enabled. See the <a href=\"https://ipywidgets.readthedocs.io/en/stable/user_install.html\">Jupyter\n",
       "  Widgets Documentation</a> for setup instructions.\n",
       "</p>\n",
       "<p>\n",
       "  If you're reading this message in another frontend (for example, a static\n",
       "  rendering on GitHub or <a href=\"https://nbviewer.jupyter.org/\">NBViewer</a>),\n",
       "  it may mean that your frontend doesn't currently support widgets.\n",
       "</p>\n"
      ],
      "text/plain": [
       "SankeyWidget(groups=[{'id': 'inputs', 'type': 'process', 'title': '', 'nodes': ['inputs^Oil products', 'inputs^Biomass and waste', 'inputs^Natural gas', 'inputs^Coal', 'inputs^Peat and wood', 'inputs^Electricity', 'inputs^Heat', 'inputs^Coal briquettes', 'inputs^Cement', 'inputs^Chemical fibres', 'inputs^Crude oil', 'inputs^Disodium carbonate', 'inputs^Glass', 'inputs^Leather', 'inputs^Lime', 'inputs^Wood and\\npaper products', 'inputs^Polymers', 'inputs^Sodium hydroxide', 'inputs^Steel', 'inputs^Sulphur and sulphuric acid', 'inputs^Synthetic rubber', 'inputs^Metals (Silver, tin, zinc etc.)']}, {'id': 'sectors', 'type': 'process', 'title': '', 'nodes': ['sectors^Rubber and\\nplastic']}, {'id': 'outputs', 'type': 'process', 'title': '', 'nodes': ['outputs^Polymers and\\npolymer products', 'outputs^Rubber and tyres']}, {'id': 'loss', 'type': 'process', 'title': '', 'nodes': ['loss^Loss']}], layout=Layout(height='1600', width='1500'), links=[{'source': 'inputs^Oil products', 'target': 'sectors^Rubber and\\nplastic', 'type': 'Oil products', 'time': '*', 'value': 2332720.0000000005, 'title': 'Oil products', 'color': 'rgb(189,183,107)', 'opacity': 1.0}, {'source': 'inputs^Biomass and waste', 'target': 'sectors^Rubber and\\nplastic', 'type': 'Biomass and Waste', 'time': '*', 'value': 13520.0, 'title': 'Biomass and Waste', 'color': 'rgb(32,178,170)', 'opacity': 1.0}, {'source': 'inputs^Natural gas', 'target': 'sectors^Rubber and\\nplastic', 'type': 'Natural gas', 'time': '*', 'value': 4361760.0, 'title': 'Natural gas', 'color': 'rgb(255,165,0)', 'opacity': 1.0}, {'source': 'inputs^Coal', 'target': 'sectors^Rubber and\\nplastic', 'type': 'Coal and Peat', 'time': '*', 'value': 2016970.0, 'title': 'Coal and Peat', 'color': 'rgb(47,79,79)', 'opacity': 1.0}, {'source': 'inputs^Peat and wood', 'target': 'sectors^Rubber and\\nplastic', 'type': 'Coal and Peat', 'time': '*', 'value': 45760.00000000001, 'title': 'Coal and Peat', 'color': 'rgb(47,79,79)', 'opacity': 1.0}, {'source': 'inputs^Electricity', 'target': 'sectors^Rubber and\\nplastic', 'type': 'Electricity', 'time': '*', 'value': 11938000.0, 'title': 'Electricity', 'color': 'rgb(119,136,153)', 'opacity': 1.0}, {'source': 'inputs^Heat', 'target': 'sectors^Rubber and\\nplastic', 'type': 'Heat', 'time': '*', 'value': 165899.99999999997, 'title': 'Heat', 'color': 'rgb(255,0,0)', 'opacity': 1.0}, {'source': 'inputs^Coal briquettes', 'target': 'sectors^Rubber and\\nplastic', 'type': 'Coal and Peat', 'time': '*', 'value': 1010.0, 'title': 'Coal and Peat', 'color': 'rgb(47,79,79)', 'opacity': 1.0}, {'source': 'inputs^Cement', 'target': 'sectors^Rubber and\\nplastic', 'type': 'Material', 'time': '*', 'value': 35.28766, 'title': 'Material', 'color': 'rgb(160,82,45)', 'opacity': 1.0}, {'source': 'inputs^Chemical fibres', 'target': 'sectors^Rubber and\\nplastic', 'type': 'Material', 'time': '*', 'value': 458827.19999999995, 'title': 'Material', 'color': 'rgb(160,82,45)', 'opacity': 1.0}, {'source': 'inputs^Crude oil', 'target': 'sectors^Rubber and\\nplastic', 'type': 'Energy', 'time': '*', 'value': 0.0, 'title': 'Energy', 'color': 'rgb(178,34,34)', 'opacity': 1.0}, {'source': 'inputs^Disodium carbonate', 'target': 'sectors^Rubber and\\nplastic', 'type': 'Material', 'time': '*', 'value': 1188.9203701135307, 'title': 'Material', 'color': 'rgb(160,82,45)', 'opacity': 1.0}, {'source': 'inputs^Glass', 'target': 'sectors^Rubber and\\nplastic', 'type': 'Material', 'time': '*', 'value': 144251.38328, 'title': 'Material', 'color': 'rgb(160,82,45)', 'opacity': 1.0}, {'source': 'inputs^Leather', 'target': 'sectors^Rubber and\\nplastic', 'type': 'Material', 'time': '*', 'value': 278.02307039999994, 'title': 'Material', 'color': 'rgb(160,82,45)', 'opacity': 1.0}, {'source': 'inputs^Lime', 'target': 'sectors^Rubber and\\nplastic', 'type': 'Material', 'time': '*', 'value': 3518.4557774607706, 'title': 'Material', 'color': 'rgb(160,82,45)', 'opacity': 1.0}, {'source': 'inputs^Wood and\\npaper products', 'target': 'sectors^Rubber and\\nplastic', 'type': 'Material', 'time': '*', 'value': 3047011.6331, 'title': 'Material', 'color': 'rgb(160,82,45)', 'opacity': 1.0}, {'source': 'inputs^Polymers', 'target': 'sectors^Rubber and\\nplastic', 'type': 'Material', 'time': '*', 'value': 71465953.89999999, 'title': 'Material', 'color': 'rgb(160,82,45)', 'opacity': 1.0}, {'source': 'inputs^Sodium hydroxide', 'target': 'sectors^Rubber and\\nplastic', 'type': 'Material', 'time': '*', 'value': 380.14411008770617, 'title': 'Material', 'color': 'rgb(160,82,45)', 'opacity': 1.0}, {'source': 'inputs^Steel', 'target': 'sectors^Rubber and\\nplastic', 'type': 'Material', 'time': '*', 'value': 562394.0, 'title': 'Material', 'color': 'rgb(160,82,45)', 'opacity': 1.0}, {'source': 'inputs^Sulphur and sulphuric acid', 'target': 'sectors^Rubber and\\nplastic', 'type': 'Material', 'time': '*', 'value': 89304.5445305439, 'title': 'Material', 'color': 'rgb(160,82,45)', 'opacity': 1.0}, {'source': 'inputs^Synthetic rubber', 'target': 'sectors^Rubber and\\nplastic', 'type': 'Material', 'time': '*', 'value': 7029223.0, 'title': 'Material', 'color': 'rgb(160,82,45)', 'opacity': 1.0}, {'source': 'inputs^Metals (Silver, tin, zinc etc.)', 'target': 'sectors^Rubber and\\nplastic', 'type': 'Material', 'time': '*', 'value': 488611.06634511333, 'title': 'Material', 'color': 'rgb(160,82,45)', 'opacity': 1.0}, {'source': 'sectors^Rubber and\\nplastic', 'target': 'outputs^Polymers and\\npolymer products', 'type': 'Product', 'time': '*', 'value': 7917070.0, 'title': 'Product', 'color': 'rgb(255,127,80)', 'opacity': 1.0}, {'source': 'sectors^Rubber and\\nplastic', 'target': 'outputs^Rubber and tyres', 'type': 'Product', 'time': '*', 'value': 40279199.185, 'title': 'Product', 'color': 'rgb(255,127,80)', 'opacity': 1.0}, {'source': 'sectors^Rubber and\\nplastic', 'target': 'loss^Loss', 'type': 'Loss', 'time': '*', 'value': 55970348.37324369, 'title': 'Loss', 'color': 'rgb(224, 224, 224)', 'opacity': 1.0}], margins={'left': 250, 'right': 250}, nodes=[{'id': 'inputs^Oil products', 'title': 'Oil products', 'direction': 'r', 'hidden': False, 'type': 'process'}, {'id': 'inputs^Biomass and waste', 'title': 'Biomass and waste', 'direction': 'r', 'hidden': False, 'type': 'process'}, {'id': 'inputs^Natural gas', 'title': 'Natural gas', 'direction': 'r', 'hidden': False, 'type': 'process'}, {'id': 'inputs^Coal', 'title': 'Coal', 'direction': 'r', 'hidden': False, 'type': 'process'}, {'id': 'inputs^Peat and wood', 'title': 'Peat and wood', 'direction': 'r', 'hidden': False, 'type': 'process'}, {'id': 'inputs^Electricity', 'title': 'Electricity', 'direction': 'r', 'hidden': False, 'type': 'process'}, {'id': 'inputs^Heat', 'title': 'Heat', 'direction': 'r', 'hidden': False, 'type': 'process'}, {'id': 'inputs^Coal briquettes', 'title': 'Coal briquettes', 'direction': 'r', 'hidden': False, 'type': 'process'}, {'id': 'inputs^Cement', 'title': 'Cement', 'direction': 'r', 'hidden': False, 'type': 'process'}, {'id': 'inputs^Chemical fibres', 'title': 'Chemical fibres', 'direction': 'r', 'hidden': False, 'type': 'process'}, {'id': 'inputs^Crude oil', 'title': 'Crude oil', 'direction': 'r', 'hidden': False, 'type': 'process'}, {'id': 'inputs^Disodium carbonate', 'title': 'Disodium carbonate', 'direction': 'r', 'hidden': False, 'type': 'process'}, {'id': 'inputs^Glass', 'title': 'Glass', 'direction': 'r', 'hidden': False, 'type': 'process'}, {'id': 'inputs^Leather', 'title': 'Leather', 'direction': 'r', 'hidden': False, 'type': 'process'}, {'id': 'inputs^Lime', 'title': 'Lime', 'direction': 'r', 'hidden': False, 'type': 'process'}, {'id': 'inputs^Wood and\\npaper products', 'title': 'Wood and\\npaper products', 'direction': 'r', 'hidden': False, 'type': 'process'}, {'id': 'inputs^Polymers', 'title': 'Polymers', 'direction': 'r', 'hidden': False, 'type': 'process'}, {'id': 'inputs^Sodium hydroxide', 'title': 'Sodium hydroxide', 'direction': 'r', 'hidden': False, 'type': 'process'}, {'id': 'inputs^Steel', 'title': 'Steel', 'direction': 'r', 'hidden': False, 'type': 'process'}, {'id': 'inputs^Sulphur and sulphuric acid', 'title': 'Sulphur and sulphuric acid', 'direction': 'r', 'hidden': False, 'type': 'process'}, {'id': 'inputs^Synthetic rubber', 'title': 'Synthetic rubber', 'direction': 'r', 'hidden': False, 'type': 'process'}, {'id': 'inputs^Metals (Silver, tin, zinc etc.)', 'title': 'Metals (Silver, tin, zinc etc.)', 'direction': 'r', 'hidden': False, 'type': 'process'}, {'id': 'sectors^Rubber and\\nplastic', 'title': 'Rubber and\\nplastic', 'direction': 'r', 'hidden': False, 'type': 'process'}, {'id': 'outputs^Polymers and\\npolymer products', 'title': 'Polymers and\\npolymer products', 'direction': 'r', 'hidden': False, 'type': 'process'}, {'id': 'outputs^Rubber and tyres', 'title': 'Rubber and tyres', 'direction': 'r', 'hidden': False, 'type': 'process'}, {'id': 'loss^Loss', 'title': 'Loss', 'direction': 'r', 'hidden': False, 'type': 'process'}], order=[(('inputs^Oil products', 'inputs^Biomass and waste', 'inputs^Natural gas', 'inputs^Coal', 'inputs^Peat and wood', 'inputs^Electricity', 'inputs^Heat', 'inputs^Coal briquettes', 'inputs^Cement', 'inputs^Chemical fibres', 'inputs^Crude oil', 'inputs^Disodium carbonate', 'inputs^Glass', 'inputs^Leather', 'inputs^Lime', 'inputs^Wood and\\npaper products', 'inputs^Polymers', 'inputs^Sodium hydroxide', 'inputs^Steel', 'inputs^Sulphur and sulphuric acid', 'inputs^Synthetic rubber', 'inputs^Metals (Silver, tin, zinc etc.)'),), (('sectors^Rubber and\\nplastic',),), (('outputs^Polymers and\\npolymer products', 'outputs^Rubber and tyres', 'loss^Loss'),)])"
      ]
     },
     "metadata": {},
     "output_type": "display_data"
    }
   ],
   "source": [
    "man_flows = pd.read_excel(\"Manufacturing.xlsx\",sheet_name='Rubber')\n",
    "dataset_rubber = Dataset(man_flows,dim_process=man_dim)\n",
    "\n",
    "partition_sectors = Partition.Simple('process.sectors', [('Rubber and\\nplastic',['Rubber and plastic products'])])\n",
    "\n",
    "nodes_man = {\n",
    "    'inputs': ProcessGroup('type == \"input\"',partition_inputs),\n",
    "    'sectors': ProcessGroup('type == \"sector\"',partition_sectors),\n",
    "    'outputs': ProcessGroup('type == \"output\"',partition_outputs),\n",
    "    'loss':  ProcessGroup('type == \"loss\"',partition_loss)\n",
    "}\n",
    "\n",
    "sdd_man = SankeyDefinition(nodes_man, bundles_man, ordering_man,flow_partition=colour_partition)\n",
    "\n",
    "weave(sdd_man, dataset_rubber,measures='Exergy',palette=palette).to_widget(**size_options).auto_save_png('Rubber Sankey.png')"
   ]
  },
  {
   "cell_type": "code",
   "execution_count": null,
   "metadata": {},
   "outputs": [],
   "source": []
  }
 ],
 "metadata": {
  "kernelspec": {
   "display_name": "Python 3",
   "language": "python",
   "name": "python3"
  },
  "language_info": {
   "codemirror_mode": {
    "name": "ipython",
    "version": 3
   },
   "file_extension": ".py",
   "mimetype": "text/x-python",
   "name": "python",
   "nbconvert_exporter": "python",
   "pygments_lexer": "ipython3",
   "version": "3.8.8"
  },
  "toc": {
   "base_numbering": 1,
   "nav_menu": {},
   "number_sections": true,
   "sideBar": true,
   "skip_h1_title": false,
   "title_cell": "Table of Contents",
   "title_sidebar": "Contents",
   "toc_cell": true,
   "toc_position": {},
   "toc_section_display": true,
   "toc_window_display": false
  },
  "varInspector": {
   "cols": {
    "lenName": 16,
    "lenType": 16,
    "lenVar": 40
   },
   "kernels_config": {
    "python": {
     "delete_cmd_postfix": "",
     "delete_cmd_prefix": "del ",
     "library": "var_list.py",
     "varRefreshCmd": "print(var_dic_list())"
    },
    "r": {
     "delete_cmd_postfix": ") ",
     "delete_cmd_prefix": "rm(",
     "library": "var_list.r",
     "varRefreshCmd": "cat(var_dic_list()) "
    }
   },
   "types_to_exclude": [
    "module",
    "function",
    "builtin_function_or_method",
    "instance",
    "_Feature"
   ],
   "window_display": false
  }
 },
 "nbformat": 4,
 "nbformat_minor": 2
}
